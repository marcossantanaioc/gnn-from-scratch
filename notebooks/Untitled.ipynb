{
 "cells": [
  {
   "cell_type": "code",
   "execution_count": 1,
   "id": "cedaa84f-4f97-4a1d-a2d2-08a57baf445d",
   "metadata": {},
   "outputs": [
    {
     "name": "stdout",
     "output_type": "stream",
     "text": [
      "CUDA AVAILABLE\n"
     ]
    }
   ],
   "source": [
    "from rdkit.Chem import rdFingerprintGenerator\n",
    "from rdkit.Chem.Draw import IPythonConsole\n",
    "from rdkit import Chem\n",
    "import numpy as np\n",
    "from collections.abc import Generator\n",
    "import pandas as pd\n",
    "from sklearn import cluster as sk_clustering\n",
    "from sklearn import datasets as sk_datasets\n",
    "from sklearn import model_selection as sk_model_selection\n",
    "import matplotlib.pyplot as plt\n",
    "import seaborn as sns\n",
    "import torch\n",
    "from torch import nn\n",
    "import torch.nn.functional as F\n",
    "from torch.utils import data as torch_data\n",
    "if torch.cuda.is_available():\n",
    "    print(\"CUDA AVAILABLE\")\n",
    "from neuralfingerprint import featurizer\n",
    "from neuralfingerprint import datasets"
   ]
  },
  {
   "cell_type": "code",
   "execution_count": 2,
   "id": "a94b4ee0-71b9-4e17-8155-dadc6f53d177",
   "metadata": {},
   "outputs": [
    {
     "name": "stdout",
     "output_type": "stream",
     "text": [
      "Using cuda device\n"
     ]
    }
   ],
   "source": [
    "device = torch.accelerator.current_accelerator().type if torch.accelerator.is_available() else \"cpu\"\n",
    "print(f\"Using {device} device\")\n"
   ]
  },
  {
   "cell_type": "code",
   "execution_count": 3,
   "id": "3d79456a-cb43-46ad-bf8f-699ed6adb35b",
   "metadata": {},
   "outputs": [],
   "source": [
    "df = pd.read_csv(\"delaney-processed.csv\")"
   ]
  },
  {
   "cell_type": "code",
   "execution_count": 4,
   "id": "2c175e64-c386-4b1e-b208-60d1f1361f30",
   "metadata": {},
   "outputs": [],
   "source": [
    "df[\"mol\"] = df[\"smiles\"].apply(Chem.MolFromSmiles)\n",
    "df[\"num_atoms\"] = df[\"mol\"].apply(lambda x : x.GetNumAtoms())\n",
    "df_filtered = df[df[\"num_atoms\"]>=6].reset_index(drop=True)"
   ]
  },
  {
   "cell_type": "code",
   "execution_count": 5,
   "id": "a6e5ca83-3361-4e2a-a7b6-02f300a480ef",
   "metadata": {},
   "outputs": [],
   "source": [
    "train_df, test_df = sk_model_selection.train_test_split(df_filtered, test_size=0.2, random_state=32)\n",
    "train_df, valid_df = sk_model_selection.train_test_split(train_df, test_size=0.15, random_state=32)"
   ]
  },
  {
   "cell_type": "code",
   "execution_count": 6,
   "id": "63d8fb1d-07d8-40c1-9403-70ab1c2b2c50",
   "metadata": {},
   "outputs": [
    {
     "data": {
      "text/plain": [
       "((694, 12), (123, 12), (205, 12), (1128, 12))"
      ]
     },
     "execution_count": 6,
     "metadata": {},
     "output_type": "execute_result"
    }
   ],
   "source": [
    "train_df.shape, valid_df.shape, test_df.shape, df.shape"
   ]
  },
  {
   "cell_type": "markdown",
   "id": "a30d41bb-4efd-4d26-a7a1-99bc0990b369",
   "metadata": {},
   "source": [
    "# Convolutional Networks on Graphs for Learning Molecular Fingerprints"
   ]
  },
  {
   "cell_type": "code",
   "execution_count": 10,
   "id": "6a12f353-1111-413c-985f-cc39f36ccea2",
   "metadata": {},
   "outputs": [],
   "source": [
    "def molecule_collate_fn(batch):\n",
    "    atom_batch = []\n",
    "    bond_batch = []\n",
    "    labels = []\n",
    "\n",
    "\n",
    "    max_atoms = max(atom.shape[0] for atom, _, _ in batch)\n",
    "    max_bonds = max(bond.shape[0] for _, bond, _ in batch)\n",
    "\n",
    "    for atom_features, bond_features, label in batch:\n",
    "        atoms_to_pad = max_atoms - atom_features.shape[0]\n",
    "        bonds_to_pad = max_bonds - bond_features.shape[0]\n",
    "        \n",
    "        atom_features_padded = F.pad(atom_features, pad=(0, 0,  0, atoms_to_pad), value=0)\n",
    "        bond_features_padded = F.pad(bond_features, pad=(0, 0, 0, bonds_to_pad), value=0)\n",
    "        atom_batch.append(atom_features_padded)\n",
    "        bond_batch.append(bond_features_padded)\n",
    "        labels.append(label)\n",
    "\n",
    "    return torch.stack(atom_batch), torch.stack(bond_batch), torch.tensor(labels)"
   ]
  },
  {
   "cell_type": "code",
   "execution_count": 11,
   "id": "a0655168-d864-4fa7-a6e8-fd437448dca2",
   "metadata": {},
   "outputs": [],
   "source": [
    "train_moldataset = datasets.NeuralFingerprintDataset(smiles=tuple(train_df[\"smiles\"]),\n",
    "                                       targets=tuple(train_df[\"ESOL predicted log solubility in mols per litre\"]))\n",
    "\n",
    "test_moldataset = datasets.NeuralFingerprintDataset(smiles=tuple(test_df[\"smiles\"]),\n",
    "                                      targets=tuple(test_df[\"ESOL predicted log solubility in mols per litre\"]))\n",
    "\n",
    "valid_moldataset = datasets.NeuralFingerprintDataset(smiles=tuple(valid_df[\"smiles\"]),\n",
    "                                       targets=tuple(valid_df[\"ESOL predicted log solubility in mols per litre\"]))\n",
    "\n",
    "train_dataloader = torch_data.DataLoader(train_moldataset,\n",
    "                                         batch_size=64,\n",
    "                                         shuffle=True,\n",
    "                                         collate_fn=molecule_collate_fn)\n",
    "test_dataloader = torch_data.DataLoader(test_moldataset,\n",
    "                                        batch_size=64, shuffle=False,\n",
    "                                        collate_fn=molecule_collate_fn)\n",
    "valid_dataloader = torch_data.DataLoader(valid_moldataset,\n",
    "                                         batch_size=64, shuffle=False,\n",
    "                                         collate_fn=molecule_collate_fn)"
   ]
  },
  {
   "cell_type": "code",
   "execution_count": 12,
   "id": "156bc0df-e87b-4818-bc9c-092b842b99cb",
   "metadata": {},
   "outputs": [],
   "source": [
    "class VanillaNet(nn.Module):\n",
    "    def __init__(self, n_atom_features: int, n_bond_features: int, n_out_features: int=100):\n",
    "        super().__init__()\n",
    "        self.atom_layer = nn.Linear(n_atom_features, n_out_features)\n",
    "        self.bond_layer = nn.Linear(n_bond_features, n_out_features)\n",
    "        self.activation = nn.ReLU()\n",
    "        self.output_layer = nn.Linear(n_out_features*2, 1)\n",
    "    def forward(self, x):\n",
    "        atom_features, bond_features = x\n",
    "        atom_x = torch.mean(self.atom_layer(atom_features), dim=1)\n",
    "        bond_x = torch.mean(self.bond_layer(bond_features), dim=1)\n",
    "        \n",
    "        concat_x = self.activation(torch.cat((atom_x, bond_x), dim=-1))\n",
    "\n",
    "        return self.output_layer(concat_x).squeeze(-1)\n"
   ]
  },
  {
   "cell_type": "code",
   "execution_count": 13,
   "id": "ecc49b44-0cf7-43a7-b61e-533880e76633",
   "metadata": {},
   "outputs": [
    {
     "name": "stdout",
     "output_type": "stream",
     "text": [
      "VanillaNet(\n",
      "  (atom_layer): Linear(in_features=5, out_features=100, bias=True)\n",
      "  (bond_layer): Linear(in_features=3, out_features=100, bias=True)\n",
      "  (activation): ReLU()\n",
      "  (output_layer): Linear(in_features=200, out_features=1, bias=True)\n",
      ")\n"
     ]
    }
   ],
   "source": [
    "model = VanillaNet(n_atom_features=5, n_bond_features=3)\n",
    "print(model)"
   ]
  },
  {
   "cell_type": "code",
   "execution_count": 14,
   "id": "9ab3644b-bbb2-41d2-ab08-8819af9791cf",
   "metadata": {},
   "outputs": [],
   "source": [
    "def train_model(model, train_loader, val_loader, epochs=20, lr=1e-3, device='cpu'):\n",
    "\n",
    "    model = model.to(device)\n",
    "    optimizer = torch.optim.Adam(model.parameters(), lr=lr)\n",
    "    criterion = nn.MSELoss()\n",
    "    best_val_loss = float('inf')\n",
    "\n",
    "    train_losses = []\n",
    "    val_losses = []\n",
    "\n",
    "    for epoch in range(epochs):\n",
    "        model.train()\n",
    "        total_train_loss = 0.0\n",
    "\n",
    "        for batch_idx, (atom_batch, bond_batch, labels) in enumerate(train_loader):\n",
    "            atom_batch = atom_batch.to(device)\n",
    "            bond_batch = bond_batch.to(device)\n",
    "            labels = labels.to(device).float()\n",
    "\n",
    "            optimizer.zero_grad()\n",
    "            preds = model((atom_batch, bond_batch))\n",
    "\n",
    "            if preds.shape != labels.shape:\n",
    "                preds = preds.view_as(labels)\n",
    "\n",
    "            loss = criterion(preds, labels)\n",
    "            loss.backward()\n",
    "            optimizer.step()\n",
    "\n",
    "            total_train_loss += loss.item() * len(labels)\n",
    "\n",
    "        avg_train_loss = total_train_loss / len(train_loader.dataset)\n",
    "        train_losses.append(avg_train_loss)\n",
    "\n",
    "        # Validation\n",
    "        model.eval()\n",
    "        total_val_loss = 0.0\n",
    "        with torch.no_grad():\n",
    "            for atom_batch, bond_batch, labels in val_loader:\n",
    "                atom_batch = atom_batch.to(device)\n",
    "                bond_batch = bond_batch.to(device)\n",
    "                labels = labels.to(device).float()\n",
    "\n",
    "                preds = model((atom_batch, bond_batch))\n",
    "                if preds.shape != labels.shape:\n",
    "                    preds = preds.view_as(labels)\n",
    "\n",
    "                loss = criterion(preds, labels)\n",
    "                total_val_loss += loss.item() * len(labels)\n",
    "\n",
    "        avg_val_loss = total_val_loss / len(val_loader.dataset)\n",
    "        val_losses.append(avg_val_loss)\n",
    "\n",
    "        print(f\"Epoch {epoch+1}/{epochs} | Train Loss: {avg_train_loss:.4f} | Val Loss: {avg_val_loss:.4f}\")\n",
    "\n",
    "        if avg_val_loss < best_val_loss:\n",
    "            best_val_loss = avg_val_loss\n",
    "            torch.save(model.state_dict(), \"best_model.pt\")\n",
    "            print(\"📦 Saved best model.\")\n",
    "\n",
    "    print(\"✅ Training complete.\")\n",
    "    return train_losses, val_losses\n"
   ]
  },
  {
   "cell_type": "code",
   "execution_count": 15,
   "id": "f219a996-a44e-4dcb-afc7-a60a8a3d1def",
   "metadata": {},
   "outputs": [
    {
     "name": "stdout",
     "output_type": "stream",
     "text": [
      "Epoch 1/30 | Train Loss: 9.2170 | Val Loss: 7.3471\n",
      "📦 Saved best model.\n",
      "Epoch 2/30 | Train Loss: 5.9606 | Val Loss: 4.2785\n",
      "📦 Saved best model.\n",
      "Epoch 3/30 | Train Loss: 3.6604 | Val Loss: 2.4460\n",
      "📦 Saved best model.\n",
      "Epoch 4/30 | Train Loss: 2.3322 | Val Loss: 1.6507\n",
      "📦 Saved best model.\n",
      "Epoch 5/30 | Train Loss: 1.8016 | Val Loss: 1.5055\n",
      "📦 Saved best model.\n",
      "Epoch 6/30 | Train Loss: 1.6073 | Val Loss: 1.5604\n",
      "Epoch 7/30 | Train Loss: 1.7667 | Val Loss: 1.5399\n",
      "Epoch 8/30 | Train Loss: 1.6551 | Val Loss: 1.5027\n",
      "📦 Saved best model.\n",
      "Epoch 9/30 | Train Loss: 1.6674 | Val Loss: 1.4964\n",
      "📦 Saved best model.\n",
      "Epoch 10/30 | Train Loss: 1.6194 | Val Loss: 1.4866\n",
      "📦 Saved best model.\n",
      "Epoch 11/30 | Train Loss: 1.6230 | Val Loss: 1.4845\n",
      "📦 Saved best model.\n",
      "Epoch 12/30 | Train Loss: 1.6064 | Val Loss: 1.4832\n",
      "📦 Saved best model.\n",
      "Epoch 13/30 | Train Loss: 1.6636 | Val Loss: 1.4978\n",
      "Epoch 14/30 | Train Loss: 1.5627 | Val Loss: 1.4994\n",
      "Epoch 15/30 | Train Loss: 1.5518 | Val Loss: 1.5130\n",
      "Epoch 16/30 | Train Loss: 1.6538 | Val Loss: 1.5153\n",
      "Epoch 17/30 | Train Loss: 1.6064 | Val Loss: 1.4745\n",
      "📦 Saved best model.\n",
      "Epoch 18/30 | Train Loss: 1.5669 | Val Loss: 1.4502\n",
      "📦 Saved best model.\n",
      "Epoch 19/30 | Train Loss: 1.6197 | Val Loss: 1.4514\n",
      "Epoch 20/30 | Train Loss: 1.6200 | Val Loss: 1.4621\n",
      "Epoch 21/30 | Train Loss: 1.5195 | Val Loss: 1.4604\n",
      "Epoch 22/30 | Train Loss: 1.6798 | Val Loss: 1.4605\n",
      "Epoch 23/30 | Train Loss: 1.6438 | Val Loss: 1.4718\n",
      "Epoch 24/30 | Train Loss: 1.5447 | Val Loss: 1.4492\n",
      "📦 Saved best model.\n",
      "Epoch 25/30 | Train Loss: 1.6042 | Val Loss: 1.4279\n",
      "📦 Saved best model.\n",
      "Epoch 26/30 | Train Loss: 1.6027 | Val Loss: 1.4417\n",
      "Epoch 27/30 | Train Loss: 1.6206 | Val Loss: 1.4305\n",
      "Epoch 28/30 | Train Loss: 1.5141 | Val Loss: 1.4307\n",
      "Epoch 29/30 | Train Loss: 1.6083 | Val Loss: 1.4324\n",
      "Epoch 30/30 | Train Loss: 1.6359 | Val Loss: 1.4262\n",
      "📦 Saved best model.\n",
      "✅ Training complete.\n"
     ]
    }
   ],
   "source": [
    "train_loss, val_loss = train_model(model, train_dataloader, valid_dataloader, epochs=30, device=\"cpu\")"
   ]
  },
  {
   "cell_type": "markdown",
   "id": "40ffee98-5b04-4c7e-9116-7ebd4773f4aa",
   "metadata": {},
   "source": [
    "# Refactor"
   ]
  },
  {
   "cell_type": "markdown",
   "id": "a2c508e7-e621-480d-a676-2f1f34fab759",
   "metadata": {},
   "source": [
    "## One hot encode atom features"
   ]
  },
  {
   "cell_type": "code",
   "execution_count": 17,
   "id": "8d6849ae-91db-439c-ad95-4725950ab567",
   "metadata": {},
   "outputs": [],
   "source": [
    "smi = \"O=C1OC(CN1c1ccc(cc1)N1CCOCC1=O)CNC(=O)c1ccc(s1)Cl\"\n",
    "molecule = Chem.MolFromSmiles(smi)"
   ]
  },
  {
   "cell_type": "code",
   "execution_count": 45,
   "id": "68ca5a54-44e9-4862-9a8b-7b6415899d68",
   "metadata": {},
   "outputs": [],
   "source": [
    "feats = featurizer.featurize_atoms(molecule)\n",
    "atomic_number = feats[:, 0]\n",
    "degree = feats[:, 1]\n",
    "valence = feats[:, 2]\n",
    "num_hydrogens = feats[:, 3]\n",
    "is_aromatic = feats[:, 4].unsqueeze(1)\n",
    "\n"
   ]
  },
  {
   "cell_type": "code",
   "execution_count": 170,
   "id": "877dad01-00b6-4f7a-a295-39c6408ac24d",
   "metadata": {},
   "outputs": [],
   "source": [
    "\n",
    "from typing import Final\n",
    "\n",
    "from rdkit.Chem import rdchem\n",
    "\n",
    "MAX_DEGREE: Final[int] = 6\n",
    "MAX_VALENCE: Final[int] = 6\n",
    "MAX_HYDROGEN_ATOMS: Final[int] = 5\n",
    "MAX_ATOMIC_NUMBER: Final[int] = 118\n",
    "MAX_BOND_TYPES: Final[int] = 22\n",
    "\n",
    "\n",
    "BOND_TYPES: dict[rdchem.BondType, int] = {\n",
    "    v: k for k, v in rdchem.BondType.values.items()\n",
    "}\n",
    "\n",
    "\n",
    "def featurize_bonds(molecule: Chem.Mol) -> torch.Tensor:\n",
    "    \"\"\"Generates a tensor of bond features.\n",
    "    This function returns a tensor representing bond features for every\n",
    "    bond in the input molecule. Bond features consists of bond type,\n",
    "    conjugation and information whether its on a ring.\n",
    "\n",
    "    We use `bond.GetBondTypeAsDouble()` to get a numeric value for each type:\n",
    "\n",
    "    Single: 1.0\n",
    "    Aromatic: 1.5\n",
    "    Double: 2.0\n",
    "    Triple: 3.0\n",
    "\n",
    "    Args:\n",
    "        molecule: a Chem.Mol object.\n",
    "\n",
    "    Returns:\n",
    "        A tensor of bond features of shape (N, 3), where N is the number of\n",
    "        bonds in the molecule.\n",
    "\n",
    "\n",
    "    \"\"\"\n",
    "    bonds = molecule.GetBonds()\n",
    "    raw_features = []\n",
    "    for bond in bonds:\n",
    "        is_conjugated = torch.tensor(int(bond.GetIsConjugated())).unsqueeze(-1)\n",
    "        bond_type = F.one_hot(\n",
    "            torch.tensor(BOND_TYPES[bond.GetBondType()]),\n",
    "            num_classes=MAX_BOND_TYPES,\n",
    "        )\n",
    "        \n",
    "        is_in_ring = torch.tensor(int(bond.IsInRing())).unsqueeze(-1)\n",
    "\n",
    "        bond_feat = torch.cat([bond_type, is_conjugated, is_in_ring], -1)\n",
    "        raw_features.append(bond_feat)\n",
    "\n",
    "    return torch.stack(raw_features)"
   ]
  },
  {
   "cell_type": "code",
   "execution_count": 175,
   "id": "995cbeb1-d946-4c64-92da-c5da85b1f84a",
   "metadata": {},
   "outputs": [],
   "source": [
    "def featurize_atoms(molecule: Chem.Mol) -> torch.Tensor:\n",
    "    \"\"\"Generates a tensor of atom features.\n",
    "\n",
    "    Atom features consist of:\n",
    "    - Atomic number\n",
    "    - Degree (number of directly bonded atoms)\n",
    "    - Implicit valence\n",
    "    - Total number of hydrogen atoms\n",
    "    - Aromaticity flag\n",
    "\n",
    "    For the original implementation, see:\n",
    "    https://github.com/HIPS/neural-fingerprint/blob/master/neuralfingerprint/features.py\n",
    "    Args:\n",
    "        molecule: a Chem.Mol object.\n",
    "\n",
    "    Returns:\n",
    "        A tensor of atom features of shape (N, 135), where N is the number of\n",
    "        bonds in the molecule.\n",
    "\n",
    "\n",
    "    \"\"\"\n",
    "    atoms = molecule.GetAtoms()\n",
    "    raw_features = []\n",
    "    for atom in atoms:\n",
    "        atomic_number_one_hot = F.one_hot(\n",
    "            torch.tensor(atom.GetAtomicNum()),\n",
    "            num_classes=MAX_ATOMIC_NUMBER,\n",
    "        )\n",
    "        degree_one_hot = F.one_hot(\n",
    "            torch.tensor(atom.GetDegree()),\n",
    "            num_classes=MAX_DEGREE,\n",
    "        )\n",
    "        valence_one_hot = F.one_hot(\n",
    "            torch.tensor(atom.GetImplicitValence()),\n",
    "            num_classes=MAX_VALENCE,\n",
    "        )\n",
    "        num_hydrogens_one_hot = F.one_hot(\n",
    "            torch.tensor(atom.GetTotalNumHs()),\n",
    "            num_classes=MAX_HYDROGEN_ATOMS,\n",
    "        )\n",
    "        is_aromatic = torch.tensor(atom.GetIsAromatic()).unsqueeze(-1)\n",
    "\n",
    "        atom_feat = torch.cat(\n",
    "            [\n",
    "                atomic_number_one_hot,\n",
    "                degree_one_hot,\n",
    "                valence_one_hot,\n",
    "                num_hydrogens_one_hot,\n",
    "                is_aromatic,\n",
    "            ],\n",
    "            -1,\n",
    "        )\n",
    "        raw_features.append(atom_feat)\n",
    "\n",
    "    return torch.stack(raw_features)"
   ]
  },
  {
   "cell_type": "code",
   "execution_count": 176,
   "id": "1a0217bb-442e-4a27-8d5c-7eaff5128fd7",
   "metadata": {},
   "outputs": [],
   "source": [
    "feats_bonds = featurize_bonds(molecule)\n",
    "feats_atoms = featurize_atoms(molecule)\n",
    "test_feats = feats_bonds[0]"
   ]
  },
  {
   "cell_type": "code",
   "execution_count": 177,
   "id": "fbe14d0a-ccc3-46b5-b4fe-727e880581c4",
   "metadata": {},
   "outputs": [
    {
     "data": {
      "text/plain": [
       "torch.Size([29, 136])"
      ]
     },
     "execution_count": 177,
     "metadata": {},
     "output_type": "execute_result"
    }
   ],
   "source": [
    "feats_atoms.shape"
   ]
  },
  {
   "cell_type": "code",
   "execution_count": 165,
   "id": "01022156-6aa3-41f5-bfac-70b431426ac3",
   "metadata": {},
   "outputs": [
    {
     "data": {
      "text/plain": [
       "torch.Size([1, 24])"
      ]
     },
     "execution_count": 165,
     "metadata": {},
     "output_type": "execute_result"
    }
   ],
   "source": []
  },
  {
   "cell_type": "code",
   "execution_count": 30,
   "id": "1cf983a7-b511-43ae-9a1d-9529e47fdec4",
   "metadata": {},
   "outputs": [],
   "source": [
    "atomic_number_one_hot = F.one_hot(atomic_number, num_classes=118)\n",
    "degree_one_hot = F.one_hot(degree, num_classes=6)\n",
    "valence_one_hot = F.one_hot(valence, num_classes=6)\n",
    "num_hydrogens_one_hot = F.one_hot(num_hydrogens, num_classes=5)"
   ]
  },
  {
   "cell_type": "code",
   "execution_count": 36,
   "id": "84b8030b-8459-473b-88b9-1f46f32cac03",
   "metadata": {},
   "outputs": [
    {
     "data": {
      "text/plain": [
       "(torch.Size([29, 118]),\n",
       " torch.Size([29, 6]),\n",
       " torch.Size([29, 6]),\n",
       " torch.Size([29, 5]))"
      ]
     },
     "execution_count": 36,
     "metadata": {},
     "output_type": "execute_result"
    }
   ],
   "source": [
    "atomic_number_one_hot.shape, degree_one_hot.shape, valence_one_hot.shape, num_hydrogens_one_hot.shape"
   ]
  },
  {
   "cell_type": "code",
   "execution_count": 48,
   "id": "162b9d57-1af8-4cfb-909b-49e3c5918320",
   "metadata": {},
   "outputs": [
    {
     "data": {
      "text/plain": [
       "tensor([[0, 0, 0,  ..., 0, 0, 0],\n",
       "        [0, 0, 0,  ..., 0, 0, 0],\n",
       "        [0, 0, 0,  ..., 0, 0, 0],\n",
       "        ...,\n",
       "        [0, 0, 0,  ..., 0, 0, 1],\n",
       "        [0, 0, 0,  ..., 0, 0, 1],\n",
       "        [0, 0, 0,  ..., 0, 0, 0]])"
      ]
     },
     "execution_count": 48,
     "metadata": {},
     "output_type": "execute_result"
    }
   ],
   "source": [
    "torch.cat([atomic_number_one_hot, degree_one_hot, valence_one_hot, num_hydrogens_one_hot, is_aromatic], dim=1)"
   ]
  },
  {
   "cell_type": "code",
   "execution_count": 33,
   "id": "7812bffe-2a1e-4c3b-98e2-8962dbbb6adc",
   "metadata": {},
   "outputs": [
    {
     "data": {
      "text/plain": [
       "tensor([0, 0, 0, 0, 0, 0, 1, 0, 0, 0, 0, 0, 0, 0, 0, 0, 0, 0, 0, 0, 0, 0, 0, 0,\n",
       "        0, 0, 0, 0, 0, 0, 0, 0, 0, 0, 0, 0, 0, 0, 0, 0, 0, 0, 0, 0, 0, 0, 0, 0,\n",
       "        0, 0, 0, 0, 0, 0, 0, 0, 0, 0, 0, 0, 0, 0, 0, 0, 0, 0, 0, 0, 0, 0, 0, 0,\n",
       "        0, 0, 0, 0, 0, 0, 0, 0, 0, 0, 0, 0, 0, 0, 0, 0, 0, 0, 0, 0, 0, 0, 0, 0,\n",
       "        0, 0, 0, 0, 0, 0, 0, 0, 0, 0, 0, 0, 0, 0, 0, 0, 0, 0, 0, 0, 0, 0])"
      ]
     },
     "execution_count": 33,
     "metadata": {},
     "output_type": "execute_result"
    }
   ],
   "source": [
    "F.one_hot(arr, num_classes=118)"
   ]
  },
  {
   "cell_type": "code",
   "execution_count": 49,
   "id": "919d77e1-e150-44fc-a79f-1cf2f57144d5",
   "metadata": {},
   "outputs": [],
   "source": [
    "bond = molecule.GetBonds()[0]"
   ]
  },
  {
   "cell_type": "code",
   "execution_count": 64,
   "id": "5f33542e-5572-4704-9303-e0f6c2cfc551",
   "metadata": {},
   "outputs": [
    {
     "data": {
      "text/plain": [
       "tensor([0, 0, 1])"
      ]
     },
     "execution_count": 64,
     "metadata": {},
     "output_type": "execute_result"
    }
   ],
   "source": [
    "F.one_hot(torch.tensor(bond.GetBondType()))"
   ]
  },
  {
   "cell_type": "code",
   "execution_count": 61,
   "id": "aaedd8eb-a4c3-442c-9354-1f1f8656051e",
   "metadata": {},
   "outputs": [],
   "source": [
    "def bond_features(bond):\n",
    "    bt = bond.GetBondType()\n",
    "    return np.array([bt == Chem.rdchem.BondType.SINGLE,\n",
    "                     bt == Chem.rdchem.BondType.DOUBLE,\n",
    "                     bt == Chem.rdchem.BondType.TRIPLE,\n",
    "                     bt == Chem.rdchem.BondType.AROMATIC,\n",
    "                     # bond.GetIsConjugated(),\n",
    "                     # bond.IsInRing()\n",
    "                    ])\n"
   ]
  },
  {
   "cell_type": "code",
   "execution_count": 66,
   "id": "061733fe-236c-4cf2-8bdc-9a498b16725a",
   "metadata": {},
   "outputs": [
    {
     "ename": "RuntimeError",
     "evalue": "one_hot is only applicable to index tensor of type LongTensor.",
     "output_type": "error",
     "traceback": [
      "\u001b[0;31m---------------------------------------------------------------------------\u001b[0m",
      "\u001b[0;31mRuntimeError\u001b[0m                              Traceback (most recent call last)",
      "Cell \u001b[0;32mIn[66], line 1\u001b[0m\n\u001b[0;32m----> 1\u001b[0m \u001b[43mF\u001b[49m\u001b[38;5;241;43m.\u001b[39;49m\u001b[43mone_hot\u001b[49m\u001b[43m(\u001b[49m\u001b[43mtorch\u001b[49m\u001b[38;5;241;43m.\u001b[39;49m\u001b[43mtensor\u001b[49m\u001b[43m(\u001b[49m\u001b[43mbond_features\u001b[49m\u001b[43m(\u001b[49m\u001b[43mbond\u001b[49m\u001b[43m)\u001b[49m\u001b[43m)\u001b[49m\u001b[43m)\u001b[49m\n",
      "\u001b[0;31mRuntimeError\u001b[0m: one_hot is only applicable to index tensor of type LongTensor."
     ]
    }
   ],
   "source": [
    "F.one_hot(torch.tensor(bond_features(bond)))"
   ]
  },
  {
   "cell_type": "code",
   "execution_count": 63,
   "id": "cfcd2da1-555e-4286-86a3-b848ba05135e",
   "metadata": {},
   "outputs": [
    {
     "data": {
      "text/plain": [
       "tensor([2, 1, 0])"
      ]
     },
     "execution_count": 63,
     "metadata": {},
     "output_type": "execute_result"
    }
   ],
   "source": [
    "featurizer.featurize_bonds(molecule)[0]"
   ]
  },
  {
   "cell_type": "code",
   "execution_count": 60,
   "id": "12824ce1-f1b7-4998-a7ef-c097068ca746",
   "metadata": {},
   "outputs": [
    {
     "data": {
      "text/plain": [
       "2"
      ]
     },
     "execution_count": 60,
     "metadata": {},
     "output_type": "execute_result"
    }
   ],
   "source": [
    "is_conjugated = bond.GetIsConjugated()\n",
    "bond_type = int(bond.GetBondTypeAsDouble())\n",
    "is_in_ring = int(bond.IsInRing())\n",
    "bond_type"
   ]
  },
  {
   "cell_type": "code",
   "execution_count": 90,
   "id": "e654965b-264f-4218-bbdb-0a2da1a2621c",
   "metadata": {},
   "outputs": [
    {
     "data": {
      "text/plain": [
       "(12, 1)"
      ]
     },
     "execution_count": 90,
     "metadata": {},
     "output_type": "execute_result"
    }
   ],
   "source": [
    "bond_type_name.as_integer_ratio"
   ]
  },
  {
   "cell_type": "code",
   "execution_count": 98,
   "id": "f08c17e0-e71c-4522-a84e-ad87f12b92c8",
   "metadata": {},
   "outputs": [
    {
     "data": {
      "text/plain": [
       "rdkit.Chem.rdchem.BondType.AROMATIC"
      ]
     },
     "execution_count": 98,
     "metadata": {},
     "output_type": "execute_result"
    }
   ],
   "source": [
    "bond_type_name"
   ]
  },
  {
   "cell_type": "code",
   "execution_count": null,
   "id": "610052bb-4e32-4080-97e2-c80537ec58e2",
   "metadata": {},
   "outputs": [],
   "source": [
    "from rdkit.Chem import rdchem"
   ]
  },
  {
   "cell_type": "code",
   "execution_count": 97,
   "id": "dd35164d-1713-41c6-9caa-e045908ef2a8",
   "metadata": {},
   "outputs": [
    {
     "name": "stdout",
     "output_type": "stream",
     "text": [
      "0 0 UNSPECIFIED\n",
      "1 1 SINGLE\n",
      "2 1 DOUBLE\n",
      "3 2 TRIPLE\n",
      "4 1 QUADRUPLE\n",
      "5 2 QUINTUPLE\n",
      "6 2 HEXTUPLE\n",
      "7 3 ONEANDAHALF\n",
      "8 1 TWOANDAHALF\n",
      "9 2 THREEANDAHALF\n",
      "10 2 FOURANDAHALF\n",
      "11 3 FIVEANDAHALF\n",
      "12 2 AROMATIC\n",
      "13 3 IONIC\n",
      "14 3 HYDROGEN\n",
      "15 4 THREECENTER\n",
      "16 1 DATIVEONE\n",
      "17 2 DATIVE\n",
      "18 2 DATIVEL\n",
      "19 3 DATIVER\n",
      "20 2 OTHER\n",
      "21 3 ZERO\n"
     ]
    }
   ],
   "source": [
    "for k, v in Chem.BondType.values.items():\n",
    "    print(k.as_integer_ratio()[0], k.bit_count(), v)"
   ]
  },
  {
   "cell_type": "code",
   "execution_count": 68,
   "id": "da0b76a0-e140-430c-b8d5-4ec20a1c23e9",
   "metadata": {},
   "outputs": [
    {
     "name": "stdout",
     "output_type": "stream",
     "text": [
      "2 DOUBLE\n",
      "1 SINGLE\n",
      "1 SINGLE\n",
      "1 SINGLE\n",
      "1 SINGLE\n",
      "1 SINGLE\n",
      "1 AROMATIC\n",
      "1 AROMATIC\n",
      "1 AROMATIC\n",
      "1 AROMATIC\n",
      "1 AROMATIC\n",
      "1 SINGLE\n",
      "1 SINGLE\n",
      "1 SINGLE\n",
      "1 SINGLE\n",
      "1 SINGLE\n",
      "1 SINGLE\n",
      "2 DOUBLE\n",
      "1 SINGLE\n",
      "1 SINGLE\n",
      "1 SINGLE\n",
      "2 DOUBLE\n",
      "1 SINGLE\n",
      "1 AROMATIC\n",
      "1 AROMATIC\n",
      "1 AROMATIC\n",
      "1 AROMATIC\n",
      "1 SINGLE\n",
      "1 SINGLE\n",
      "1 AROMATIC\n",
      "1 SINGLE\n",
      "1 AROMATIC\n"
     ]
    }
   ],
   "source": [
    "for bond in molecule.GetBonds():\n",
    "    bond_type = bond.GetBondTypeAsDouble()\n",
    "    bond_type_name = bond.GetBondType()\n",
    "    print(int(bond_type), bond_type_name)"
   ]
  },
  {
   "cell_type": "code",
   "execution_count": null,
   "id": "d36264d1-8d7b-4300-984f-501419825974",
   "metadata": {},
   "outputs": [],
   "source": []
  }
 ],
 "metadata": {
  "kernelspec": {
   "display_name": "Python 3 (ipykernel)",
   "language": "python",
   "name": "python3"
  },
  "language_info": {
   "codemirror_mode": {
    "name": "ipython",
    "version": 3
   },
   "file_extension": ".py",
   "mimetype": "text/x-python",
   "name": "python",
   "nbconvert_exporter": "python",
   "pygments_lexer": "ipython3",
   "version": "3.10.16"
  }
 },
 "nbformat": 4,
 "nbformat_minor": 5
}
