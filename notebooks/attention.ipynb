{
 "cells": [
  {
   "cell_type": "markdown",
   "id": "3b9fc53d-e641-4ec6-9bf0-f633886547d1",
   "metadata": {},
   "source": [
    "# Imports"
   ]
  },
  {
   "cell_type": "code",
   "execution_count": 1,
   "id": "8e0fd007-44df-42d6-b25b-2e4545a7ee55",
   "metadata": {
    "tags": []
   },
   "outputs": [
    {
     "name": "stdout",
     "output_type": "stream",
     "text": [
      "True\n"
     ]
    }
   ],
   "source": [
    "import torch\n",
    "from torch import nn\n",
    "import torch.nn.functional as F\n",
    "from torch.utils import data as torch_data\n",
    "import numpy as np\n",
    "import matplotlib.pyplot as plt\n",
    "import seaborn as sns\n",
    "from rdkit import Chem\n",
    "from typing import Final\n",
    "import pandas as pd\n",
    "import dataclasses\n",
    "from etils import epath\n",
    "import torch_scatter\n",
    "import gc\n",
    "from tqdm.notebook import tqdm\n",
    "from graphmodels import featurizer\n",
    "from graphmodels import constants\n",
    "from graphmodels import datasets\n",
    "from graphmodels import data_utils\n",
    "from graphmodels import models\n",
    "from graphmodels.layers import graph_attention_layers\n",
    "from torch.utils.data import DataLoader, Dataset\n",
    "from sklearn import model_selection as sk_modelselection\n",
    "from sklearn import metrics as sk_metrics\n",
    "\n",
    "from torch_geometric.loader import DataLoader as GeomDataLoader\n",
    "\n",
    "\n",
    "from rdkit.Chem.Draw import IPythonConsole\n",
    "IPythonConsole.drawOptions.addAtomIndices = True\n",
    "print(torch.cuda.is_available())"
   ]
  },
  {
   "cell_type": "code",
   "execution_count": 2,
   "id": "b5d197bc-b471-462b-8fd3-2532ac744bdb",
   "metadata": {
    "tags": []
   },
   "outputs": [],
   "source": [
    "# DATAPATH: epath.Path = epath.Path(\"../datasets/chemistry/\")\n",
    "# df = pd.read_csv(DATAPATH/\"delaney-processed_clean.csv\")\n",
    "# df[\"mol\"] = df[\"RDKIT_SMILES\"].apply(Chem.MolFromSmiles)\n",
    "# df[\"num_bonds\"] = df[\"mol\"].apply(lambda x : x.GetNumBonds())\n",
    "# df = df.loc[df[\"num_bonds\"]>=1]"
   ]
  },
  {
   "cell_type": "code",
   "execution_count": 3,
   "id": "7b21fb41-bb45-40de-ac0b-d646afade668",
   "metadata": {
    "tags": []
   },
   "outputs": [],
   "source": [
    "# # Split data\n",
    "# train_df, test_df = sk_modelselection.train_test_split(\n",
    "#     df, test_size=0.3, random_state=42, shuffle=True,\n",
    "#     #stratify=df[\"measured log solubility in mols per litre\"]\n",
    "# )\n",
    "# train_df, valid_df = sk_modelselection.train_test_split(\n",
    "#     train_df,\n",
    "#     test_size=0.15,\n",
    "#     random_state=42,\n",
    "#     shuffle=True,\n",
    "#     #stratify=train_df[\"measured log solubility in mols per litre\"],\n",
    "# )"
   ]
  },
  {
   "cell_type": "code",
   "execution_count": 4,
   "id": "06dce251-d931-423e-9349-ba9248b78136",
   "metadata": {
    "tags": []
   },
   "outputs": [
    {
     "name": "stderr",
     "output_type": "stream",
     "text": [
      "Downloading https://www.chrsmrrs.com/graphkerneldatasets/PROTEINS.zip\n",
      "Processing...\n",
      "Done!\n"
     ]
    }
   ],
   "source": [
    "# LABEL: str = \"measured log solubility in mols per litre\"\n",
    "# SMILES: str = \"smiles\"\n",
    "# train_dset = datasets.mpnn_dataset.MPNNDataset(smiles=tuple(train_df[SMILES]),\n",
    "#                                                targets=tuple(train_df[LABEL]),\n",
    "#                                  add_master_node=False)\n",
    "\n",
    "# valid_dset = datasets.mpnn_dataset.MPNNDataset(smiles=tuple(valid_df[SMILES]),\n",
    "#                                                targets=tuple(valid_df[LABEL]),\n",
    "#                                  add_master_node=False)\n",
    "\n",
    "# test_dset = datasets.mpnn_dataset.MPNNDataset(smiles=tuple(test_df[SMILES]),\n",
    "#                                                targets=tuple(test_df[LABEL]),\n",
    "#                                 add_master_node=False)\n",
    "\n",
    "\n",
    "# train_dataloader = DataLoader(dataset=train_dset,\n",
    "#                               batch_size=32,\n",
    "#                               shuffle=True,\n",
    "#                               collate_fn=data_utils.mpnn_collate_diag,\n",
    "#                              )\n",
    "\n",
    "# valid_dataloader = DataLoader(dataset=valid_dset,\n",
    "#                               batch_size=32,\n",
    "#                               shuffle=False,\n",
    "#                               collate_fn=data_utils.mpnn_collate_diag,\n",
    "#                              )\n",
    "\n",
    "# test_dataloader = DataLoader(dataset=test_dset,\n",
    "#                               batch_size=32,\n",
    "#                               shuffle=False,\n",
    "#                               collate_fn=data_utils.mpnn_collate_diag,\n",
    "#                             )\n",
    "\n",
    "from torch_geometric.datasets import TUDataset\n",
    "dataset = TUDataset(root='/tmp/PROTEINS', name='PROTEINS')\n",
    "\n",
    "# Extract labels for stratified splitting\n",
    "labels = [data.y.item() for data in dataset]\n",
    "\n",
    "# First split: train vs temp (val + test)\n",
    "train_idx, temp_idx = sk_modelselection.train_test_split(\n",
    "    list(range(len(dataset))),\n",
    "    test_size=0.3,\n",
    "    stratify=labels,\n",
    "    random_state=42,\n",
    ")\n",
    "\n",
    "# Second split: val vs test from temp\n",
    "temp_labels = [labels[i] for i in temp_idx]\n",
    "val_idx, test_idx = sk_modelselection.train_test_split(\n",
    "    temp_idx,\n",
    "    test_size=0.5,\n",
    "    stratify=temp_labels,\n",
    "    random_state=42,\n",
    ")\n",
    "\n",
    "# Create the datasets\n",
    "train_dataset = dataset[train_idx]\n",
    "val_dataset = dataset[val_idx]\n",
    "test_dataset = dataset[test_idx]\n",
    "\n",
    "# Create data loaders\n",
    "train_loader = GeomDataLoader(train_dataset, batch_size=16, shuffle=True)\n",
    "val_loader = GeomDataLoader(val_dataset, batch_size=32, shuffle=False)\n",
    "test_loader = GeomDataLoader(test_dataset, batch_size=32, shuffle=False)"
   ]
  },
  {
   "cell_type": "code",
   "execution_count": 5,
   "id": "c595eaaa-2af1-4891-b9c7-9434488f63d4",
   "metadata": {},
   "outputs": [],
   "source": [
    "\n",
    "class GraphAttentionLayerV4(nn.Module):\n",
    "    \"\"\"Updated graph attention layer with edge features and skip connections\n",
    "\n",
    "    Attributes\n",
    "        n_node_features: number of input node features.\n",
    "        n_hidden_features: number of hidden features in intermediate layers.\n",
    "        scaling: scaling constant for LeakyRelu\n",
    "    \"\"\"\n",
    "\n",
    "    def __init__(\n",
    "        self,\n",
    "        n_node_features: int,\n",
    "        n_edge_features: int,\n",
    "        n_hidden_features: int,\n",
    "        scaling: float = 0.2,\n",
    "        dropout: float = 0.25,\n",
    "    ):\n",
    "        super().__init__()\n",
    "        self.scaling = scaling\n",
    "        self.dropout = dropout\n",
    "        self.w = nn.Linear(n_node_features, n_hidden_features)\n",
    "        self.edgew = nn.Linear(n_edge_features, n_hidden_features)\n",
    "        self.attn = nn.Linear(n_hidden_features * 3, 1)\n",
    "\n",
    "    def compute_attention(\n",
    "        self,\n",
    "        node_features: torch.Tensor,\n",
    "        edge_features: torch.Tensor,\n",
    "        edge_index: torch.Tensor,\n",
    "    ) -> torch.Tensor:\n",
    "        \"\"\"Computes attention score between nodes i and j.\n",
    "\n",
    "        The attention mechanism is defined as:\n",
    "\n",
    "            α_ij = softmax_j( LeakyReLU( aᵀ [ W h_i || W h_j ] ) )\n",
    "\n",
    "        where:\n",
    "        - h_i, h_j are the input features of nodes i and j,\n",
    "        - W is a shared learnable weight matrix,\n",
    "        - a is a learnable attention vector,\n",
    "        - || denotes vector concatenation,\n",
    "        - softmax_j is applied over all neighbors j ∈ N(i) of node i.\n",
    "\n",
    "        The updated feature for node i is computed as:\n",
    "\n",
    "            h_i' = σ( Σ_{j ∈ N(i)} α_ij · W h_j )\n",
    "\n",
    "        where σ is a non-linear activation function.\n",
    "\n",
    "        Args:\n",
    "            node_features: Input node features.\n",
    "            edge_features: Input edge features.\n",
    "            edge_index: Graph connectivity in COO format with shape $(2, E)$,\n",
    "            where $E$ is the number of edges.\n",
    "\n",
    "        Returns:\n",
    "            Attention scores multiplied by transformed neighbor features,\n",
    "            transformed node features, and target node indices.\n",
    "        \"\"\"\n",
    "\n",
    "        h = F.leaky_relu(self.w(node_features), self.scaling)\n",
    "        edge_h = F.leaky_relu(self.edgew(edge_features), self.scaling)\n",
    "\n",
    "        neighbors_nodes = edge_index[1]\n",
    "        target_nodes = edge_index[0]\n",
    "\n",
    "        h_i = h[target_nodes]\n",
    "        h_j = h[neighbors_nodes]\n",
    "        h_concat = torch.cat([h_i, h_j, edge_h], dim=-1)\n",
    "\n",
    "        eij = self.attn(h_concat)\n",
    "\n",
    "        attention_score = F.dropout(\n",
    "            torch_scatter.scatter_softmax(\n",
    "                src=eij,\n",
    "                index=target_nodes,\n",
    "                dim=0,\n",
    "            ),\n",
    "            p=self.dropout,\n",
    "        )\n",
    "        message = attention_score * h_j\n",
    "        return message, h, target_nodes\n",
    "\n",
    "    def forward(\n",
    "        self,\n",
    "        node_features: torch.Tensor,\n",
    "        edge_features: torch.Tensor,\n",
    "        edge_index: torch.Tensor,\n",
    "    ):\n",
    "        message, transformed_node_features, target_nodes = self.compute_attention(\n",
    "            node_features=node_features,\n",
    "            edge_features=edge_features,\n",
    "            edge_index=edge_index,\n",
    "        )\n",
    "\n",
    "        out = torch_scatter.scatter_add(\n",
    "            message,\n",
    "            target_nodes,\n",
    "            dim=0,\n",
    "            dim_size=node_features.size(0),\n",
    "        )\n",
    "        out = out + transformed_node_features\n",
    "        return F.elu(out)\n",
    "    \n",
    "class GraphAttentionLayerV3(nn.Module):\n",
    "    \"\"\"Implements a graph attention layer with skip connection.\n",
    "    \n",
    "    After the aggregation step, we add the transformed node features\n",
    "    to the aggregated node features.\n",
    "\n",
    "    Attributes\n",
    "        n_node_features: number of input node features.\n",
    "        n_hidden_features: number of hidden features in intermediate layers.\n",
    "        scaling: scaling constant for LeakyRelu\n",
    "    \"\"\"\n",
    "\n",
    "    def __init__(\n",
    "        self,\n",
    "        n_node_features: int,\n",
    "        n_hidden_features: int,\n",
    "        scaling: float = 0.2,\n",
    "        dropout: float = 0.25,\n",
    "    ):\n",
    "        super().__init__()\n",
    "        self.scaling = scaling\n",
    "        self.dropout = dropout\n",
    "        self.w = nn.Linear(n_node_features, n_hidden_features)\n",
    "        self.attn = nn.Linear(n_hidden_features * 2, 1)\n",
    "        self.norm = nn.LayerNorm(n_hidden_features)\n",
    "\n",
    "    def compute_attention(\n",
    "        self,\n",
    "        node_features: torch.Tensor,\n",
    "        edge_index: torch.Tensor,\n",
    "    ) -> torch.Tensor:\n",
    "        \"\"\"Computes attention score between nodes i and j.\n",
    "\n",
    "        The attention mechanism is defined as:\n",
    "\n",
    "            α_ij = softmax_j( LeakyReLU( aᵀ [ W h_i || W h_j ] ) )\n",
    "\n",
    "        where:\n",
    "        - h_i, h_j are the input features of nodes i and j,\n",
    "        - W is a shared learnable weight matrix,\n",
    "        - a is a learnable attention vector,\n",
    "        - || denotes vector concatenation,\n",
    "        - softmax_j is applied over all neighbors j ∈ N(i) of node i.\n",
    "\n",
    "        The updated feature for node i is computed as:\n",
    "\n",
    "            h_i' = σ( Σ_{j ∈ N(i)} α_ij · W h_j )\n",
    "\n",
    "        where σ is a non-linear activation function (e.g., ELU or ReLU).\n",
    "\n",
    "        Args:\n",
    "            node_features: input node features (shape = N, F)\n",
    "            where N is the number of nodes and F the number of features.\n",
    "            edge_index: graph connectivity in COO format with shape (2, E),\n",
    "                where E is the number of edges. The first row contains target\n",
    "                node indices, and the second row contains source node indices.\n",
    "        Returns:\n",
    "            Attention scores for nodes.\n",
    "        \"\"\"\n",
    "\n",
    "        h = F.elu(self.w(node_features))\n",
    "\n",
    "        neighbors_nodes = edge_index[1]\n",
    "        target_nodes = edge_index[0]\n",
    "\n",
    "        h_i = h[target_nodes]\n",
    "\n",
    "        h_j = h[neighbors_nodes]\n",
    "        h_concat = torch.cat([h_i, h_j], dim=-1)\n",
    "\n",
    "        eij = self.attn(h_concat)\n",
    "\n",
    "        attention_score = F.dropout(\n",
    "            torch_scatter.scatter_softmax(\n",
    "                src=eij,\n",
    "                index=target_nodes,\n",
    "                dim=0,\n",
    "            ),\n",
    "            p=self.dropout,\n",
    "        )\n",
    "        message = (attention_score * h_j)\n",
    "        \n",
    "        return message, h, target_nodes\n",
    "\n",
    "    def forward(\n",
    "        self,\n",
    "        node_features: torch.Tensor,\n",
    "        edge_index: torch.Tensor,\n",
    "    ):\n",
    "        message, transformed_node_features, target_nodes = self.compute_attention(\n",
    "            node_features=node_features,\n",
    "            edge_index=edge_index,\n",
    "        )\n",
    "        out = torch_scatter.scatter_add(\n",
    "            message,\n",
    "            target_nodes,\n",
    "            dim=0,\n",
    "            dim_size=transformed_node_features.size(0),\n",
    "        )\n",
    "        out = out + transformed_node_features\n",
    "        return self.norm(F.elu(out))\n",
    "\n",
    "class MultiHeadGATLayer(nn.Module):\n",
    "    \"\"\"Implements a simple graph attention layer.\n",
    "\n",
    "    Attributes\n",
    "        n_node_features: number of input node features.\n",
    "        n_hidden_features: number of hidden features in intermediate layers.\n",
    "        scaling: scaling constant for LeakyRelu\n",
    "    \"\"\"\n",
    "\n",
    "    def __init__(\n",
    "        self,\n",
    "        n_node_features: int,\n",
    "        n_hidden_features: int,\n",
    "        dropout: float,\n",
    "        scaling: float = 0.2,\n",
    "        num_heads: int = 8,\n",
    "        agg_method: str = \"mean\",\n",
    "    ):\n",
    "        super().__init__()\n",
    "\n",
    "        if agg_method not in [\"mean\", \"concat\", \"max\"]:\n",
    "            raise ValueError(\"Only mean, max and concat are available.\")\n",
    "        self.num_heads = num_heads\n",
    "        self.agg_method = agg_method\n",
    "        self.head_dimension = n_hidden_features // num_heads\n",
    "\n",
    "        self.scaling = scaling\n",
    "        self.n_hidden_features = n_hidden_features\n",
    "\n",
    "        attention_heads = [\n",
    "            GraphAttentionLayerV3(\n",
    "                n_node_features=n_node_features,\n",
    "                n_hidden_features=self.head_dimension,\n",
    "                dropout=dropout,\n",
    "            )\n",
    "        ]\n",
    "        for i in range(1, self.num_heads):\n",
    "            attention_heads.append(\n",
    "                GraphAttentionLayerV3(\n",
    "                    n_node_features=n_node_features,\n",
    "                    n_hidden_features=self.head_dimension,\n",
    "                    dropout=dropout,\n",
    "                )\n",
    "            )\n",
    "        self.multiheadgat = nn.ModuleList(attention_heads)\n",
    "\n",
    "        if agg_method in [\"max\", \"mean\"]:\n",
    "            self.out_layer = nn.Linear(\n",
    "                self.head_dimension, self.n_hidden_features\n",
    "            )\n",
    "        else:\n",
    "            self.out_layer = nn.Identity()\n",
    "\n",
    "    def forward(self, node_features, edge_index):\n",
    "        head_outs = [\n",
    "            attn_head(node_features, edge_index)\n",
    "            for attn_head in self.multiheadgat\n",
    "        ]\n",
    "        if self.agg_method == \"concat\":\n",
    "            return F.elu(self.out_layer(torch.cat(head_outs, dim=-1)))\n",
    "        elif self.agg_method == \"mean\":\n",
    "            return F.elu(self.out_layer(torch.mean(torch.stack(head_outs), dim=0)))\n",
    "\n",
    "class MultiHeadGATLayerEdge(nn.Module):\n",
    "    \"\"\"Implements a simple graph attention layer.\n",
    "\n",
    "    Attributes\n",
    "        n_node_features: number of input node features.\n",
    "        n_hidden_features: number of hidden features in intermediate layers.\n",
    "        scaling: scaling constant for LeakyRelu\n",
    "    \"\"\"\n",
    "\n",
    "    def __init__(\n",
    "        self,\n",
    "        n_node_features: int,\n",
    "        n_edge_features: int,\n",
    "        n_hidden_features: int,\n",
    "        dropout: float,\n",
    "        scaling: float = 0.2,\n",
    "        num_heads: int = 8,\n",
    "        agg_method: str = \"mean\",\n",
    "    ):\n",
    "        super().__init__()\n",
    "\n",
    "        if agg_method not in [\"mean\", \"concat\", \"max\"]:\n",
    "            raise ValueError(\"Only mean, max and concat are available.\")\n",
    "        self.num_heads = num_heads\n",
    "        self.agg_method = agg_method\n",
    "        self.head_dimension = n_hidden_features // num_heads\n",
    "\n",
    "        self.scaling = scaling\n",
    "        self.n_hidden_features = n_hidden_features\n",
    "\n",
    "        attention_heads = [\n",
    "            GraphAttentionLayerV4(\n",
    "                n_node_features=n_node_features,\n",
    "                n_edge_features=n_edge_features,\n",
    "                n_hidden_features=self.head_dimension,\n",
    "                dropout=dropout,\n",
    "            )\n",
    "        ]\n",
    "        for i in range(1, self.num_heads):\n",
    "            attention_heads.append(\n",
    "                GraphAttentionLayerV4(\n",
    "                    n_node_features=n_node_features,\n",
    "                    n_edge_features=n_edge_features,\n",
    "                    n_hidden_features=self.head_dimension,\n",
    "                    dropout=dropout,\n",
    "                )\n",
    "            )\n",
    "        self.multiheadgat = nn.ModuleList(attention_heads)\n",
    "\n",
    "        if agg_method in [\"max\", \"mean\"]:\n",
    "            self.out_layer = nn.Linear(\n",
    "                self.head_dimension, self.n_hidden_features\n",
    "            )\n",
    "        else:\n",
    "            self.out_layer = nn.Identity()\n",
    "\n",
    "    def forward(self, node_features, edge_features, edge_index):\n",
    "        head_outs = [\n",
    "            attn_head(node_features, edge_features, edge_index)\n",
    "            for attn_head in self.multiheadgat\n",
    "        ]\n",
    "        if self.agg_method == \"concat\":\n",
    "            return F.elu(self.out_layer(torch.cat(head_outs, dim=-1)))\n",
    "        elif self.agg_method == \"mean\":\n",
    "            return F.elu(self.out_layer(torch.mean(torch.stack(head_outs), dim=0)))\n"
   ]
  },
  {
   "cell_type": "code",
   "execution_count": 6,
   "id": "04fffa36-0684-4052-9d8f-c8a96f4cb8a5",
   "metadata": {
    "tags": []
   },
   "outputs": [],
   "source": [
    "class SimpleGATModel(nn.Module):\n",
    "    \"\"\"Implements a simple graph attention model.\"\"\"\n",
    "    def __init__(self, n_node_features: int, n_hidden_features: int, n_out_features: int, scaling: float=0.2, dropout: float=0.25):\n",
    "        super().__init__()\n",
    "        self.gat_layer1 = GraphAttentionLayerV3(n_node_features=n_node_features,\n",
    "                                                n_hidden_features=n_hidden_features,\n",
    "                                                scaling=scaling,\n",
    "                                                dropout=dropout)\n",
    "        self.gat_layer2 = GraphAttentionLayerV3(n_node_features=n_hidden_features,\n",
    "                                                n_hidden_features=n_hidden_features,\n",
    "                                                scaling=scaling,\n",
    "                                                dropout=dropout)\n",
    "        self.output_layer = nn.Linear(n_hidden_features, n_out_features)\n",
    "        \n",
    "    def forward(self, *, node_features, edge_index, batch_vector):\n",
    "        \n",
    "        out = self.gat_layer1(node_features=node_features, edge_index=edge_index)\n",
    "        out = self.gat_layer2(node_features=out, edge_index=edge_index)\n",
    "        \n",
    "        num_batches = int(batch_vector.max()) + 1\n",
    "        \n",
    "        emb_dim = out.size(-1)\n",
    "        \n",
    "        mol_embeddings = torch.zeros(\n",
    "            num_batches, emb_dim, device=out.device\n",
    "        )\n",
    "\n",
    "        mol_embeddings.index_add_(0, batch_vector, out)\n",
    "        \n",
    "        return self.output_layer(mol_embeddings)\n",
    "        \n",
    "\n",
    "class MultiheadGATModel(nn.Module):\n",
    "    \"\"\"Implements a simple graph attention model.\"\"\"\n",
    "\n",
    "    def __init__(\n",
    "        self,\n",
    "        n_node_features: int,\n",
    "        *,\n",
    "        n_hidden_features: int,\n",
    "        n_out_features: int,\n",
    "        num_heads: int,\n",
    "        agg_method: str,\n",
    "        dropout: float,\n",
    "        scaling: float = 0.2,\n",
    "    ):\n",
    "        super().__init__()\n",
    "        self.gat_layer1 = MultiHeadGATLayer(\n",
    "            n_node_features=n_node_features,\n",
    "            n_hidden_features=n_hidden_features,\n",
    "            scaling=scaling,\n",
    "            num_heads=num_heads,\n",
    "            agg_method=agg_method,\n",
    "            dropout=dropout,\n",
    "        )\n",
    "\n",
    "        self.output_layer = nn.Linear(n_hidden_features, n_out_features)\n",
    "\n",
    "    def forward(self, node_features, edge_index, batch_vector):\n",
    "        out = self.gat_layer1(node_features, edge_index)\n",
    "\n",
    "        num_batches = int(batch_vector.max()) + 1\n",
    "\n",
    "        emb_dim = out.size(-1)\n",
    "\n",
    "        mol_embeddings = torch.zeros(num_batches, emb_dim, device=out.device)\n",
    "\n",
    "        mol_embeddings.index_add_(0, batch_vector, out)\n",
    "\n",
    "        return self.output_layer(mol_embeddings)\n",
    "\n",
    "\n",
    "class MultiheadGATModelEdge(nn.Module):\n",
    "    \"\"\"Implements a simple graph attention model.\"\"\"\n",
    "\n",
    "    def __init__(\n",
    "        self,\n",
    "        n_node_features: int,\n",
    "        n_edge_features: int,\n",
    "        n_hidden_features: int,\n",
    "        n_out_features: int,\n",
    "        num_heads: int,\n",
    "        agg_method: str,\n",
    "        dropout: float,\n",
    "        scaling: float = 0.2,\n",
    "    ):\n",
    "        super().__init__()\n",
    "        self.gat_layer1 = MultiHeadGATLayerEdge(\n",
    "            n_node_features=n_node_features,\n",
    "            n_hidden_features=n_hidden_features,\n",
    "            n_edge_features=n_edge_features,\n",
    "            scaling=scaling,\n",
    "            num_heads=num_heads,\n",
    "            agg_method=agg_method,\n",
    "            dropout=dropout,\n",
    "        )\n",
    "\n",
    "        self.output_layer = nn.Linear(n_hidden_features, n_out_features)\n",
    "\n",
    "    def forward(self, node_features, edge_features, edge_index, batch_vector):\n",
    "        out = self.gat_layer1(node_features, edge_features, edge_index)\n",
    "\n",
    "        num_batches = int(batch_vector.max()) + 1\n",
    "\n",
    "        emb_dim = out.size(-1)\n",
    "\n",
    "        mol_embeddings = torch.zeros(num_batches, emb_dim, device=out.device)\n",
    "\n",
    "        mol_embeddings.index_add_(0, batch_vector, out)\n",
    "\n",
    "        return self.output_layer(mol_embeddings)\n"
   ]
  },
  {
   "cell_type": "code",
   "execution_count": 7,
   "id": "dc1a6ace-22c2-4b2e-86bd-cd21bc4b9ad8",
   "metadata": {
    "tags": []
   },
   "outputs": [],
   "source": [
    "def train_model(model: nn.Module,\n",
    "                train_loader: DataLoader,\n",
    "                valid_loader: DataLoader,\n",
    "                loss_fn: torch.nn.modules.loss,\n",
    "                epochs: int=10,\n",
    "                lr: float=1e-3,\n",
    "                weight_decay: float=0.1,\n",
    "                device: str='cuda'):\n",
    "    optimizer = torch.optim.Adam(model.parameters(), lr=lr, weight_decay=weight_decay)\n",
    "    history = []\n",
    "\n",
    "    model.to(device)\n",
    "    print(\"🚀 Starting training...\\n\")\n",
    "    pbar = tqdm(total=epochs, desc=\"Training\")\n",
    "\n",
    "    for epoch in range(epochs):\n",
    "        model.train()\n",
    "        train_loss = 0.0\n",
    "        for batch_idx, batch in enumerate(train_loader):\n",
    "            atom_feats = batch.x.to(device)\n",
    "            #bond_features =  batch.edge_features.to(device)\n",
    "            edge_index = batch.edge_index.to(device)\n",
    "            labels = batch.y.to(device)\n",
    "            batch_vector = batch.batch.to(device)\n",
    "\n",
    "            optimizer.zero_grad()\n",
    "            outputs = model(node_features=atom_feats, edge_index=edge_index, batch_vector=batch_vector).squeeze()\n",
    "\n",
    "            loss = loss_fn(outputs, labels.squeeze().to(torch.float32))\n",
    "            loss.backward()\n",
    "            optimizer.step()\n",
    "            train_loss += loss.item()\n",
    "\n",
    "        train_loss /= len(train_loader)\n",
    "\n",
    "        # Validation phase\n",
    "        model.eval()\n",
    "        valid_loss = 0.0\n",
    "        with torch.no_grad():\n",
    "            for batch in valid_loader:\n",
    "                atom_feats = batch.x.to(device)\n",
    "                #bond_features =  batch.edge_features.to(device)\n",
    "                edge_index = batch.edge_index.to(device)\n",
    "                labels = batch.y.to(device)\n",
    "                batch_vector = batch.batch.to(device)\n",
    "\n",
    "                outputs = model(node_features=atom_feats, edge_index=edge_index, batch_vector=batch_vector).squeeze()\n",
    "                loss = loss_fn(outputs, labels.squeeze().to(torch.float32))\n",
    "                valid_loss += loss.item()\n",
    "        valid_loss /= len(valid_loader)\n",
    "\n",
    "        # Update the tqdm progress bar with train and validation loss\n",
    "        pbar.set_postfix({\"train_loss\": f\"{train_loss:.4f}\", \"val_loss\": f\"{valid_loss:.4f}\"})\n",
    "\n",
    "        history.append({'epoch': epoch+1, 'train_loss': train_loss, 'valid_loss': valid_loss})\n",
    "        pbar.update(1)\n",
    "\n",
    "    pbar.close()\n",
    "    print(\"\\n🎉 Training completed!\\n\")\n",
    "    return pd.DataFrame(history)\n"
   ]
  },
  {
   "cell_type": "code",
   "execution_count": 18,
   "id": "e4bd5edf-2013-4ebf-bd4c-3a858944eb32",
   "metadata": {
    "tags": []
   },
   "outputs": [
    {
     "name": "stdout",
     "output_type": "stream",
     "text": [
      "🚀 Starting training...\n",
      "\n"
     ]
    },
    {
     "data": {
      "application/vnd.jupyter.widget-view+json": {
       "model_id": "b4f900bbe564448ea04837e05fb3b9ef",
       "version_major": 2,
       "version_minor": 0
      },
      "text/plain": [
       "Training:   0%|          | 0/200 [00:00<?, ?it/s]"
      ]
     },
     "metadata": {},
     "output_type": "display_data"
    },
    {
     "name": "stdout",
     "output_type": "stream",
     "text": [
      "\n",
      "🎉 Training completed!\n",
      "\n"
     ]
    }
   ],
   "source": [
    "gat_model = MultiheadGATModel(n_node_features=3,\n",
    "                                  n_hidden_features=8,\n",
    "                                  n_out_features=1,\n",
    "                                  dropout=0.0,\n",
    "                                  agg_method=\"concat\",\n",
    "                                  num_heads=2)\n",
    "#gat_model = SimpleGATModel(n_node_features=3, n_hidden_features=24, n_out_features=1, dropout=0.25)\n",
    "history = train_model(model=gat_model,\n",
    "                      loss_fn=nn.BCEWithLogitsLoss(),\n",
    "                      train_loader=train_loader,\n",
    "                      valid_loader=val_loader,\n",
    "                      epochs=200,\n",
    "                      lr=1e-3,\n",
    "                      weight_decay=1e-5,\n",
    "                      device=\"cuda\")\n",
    "\n",
    "gc.collect()\n",
    "torch.cuda.empty_cache()"
   ]
  },
  {
   "cell_type": "code",
   "execution_count": 19,
   "id": "bd663253-dc22-4e55-82b3-69415c7aa254",
   "metadata": {
    "tags": []
   },
   "outputs": [
    {
     "data": {
      "image/png": "[encoded data removed]",
      "text/plain": [
       "<Figure size 640x480 with 1 Axes>"
      ]
     },
     "metadata": {},
     "output_type": "display_data"
    }
   ],
   "source": [
    "ax = sns.lineplot(history, x=\"epoch\", y=\"train_loss\",color=\"green\")\n",
    "ax = sns.lineplot(history, x=\"epoch\", y=\"valid_loss\", color=\"orange\")"
   ]
  },
  {
   "cell_type": "code",
   "execution_count": 20,
   "id": "644c4a4e-d32f-4faa-a528-7d7c0bef8b7b",
   "metadata": {
    "tags": []
   },
   "outputs": [],
   "source": [
    "gat_model.eval()\n",
    "device=\"cpu\"\n",
    "gat_model.to(device)\n",
    "\n",
    "preds = []\n",
    "target_labels = []\n",
    "with torch.no_grad():\n",
    "    for batch in test_loader:\n",
    "        \n",
    "        atom_feats = batch.x.to(device)\n",
    "        #bond_features =  batch.edge_features.to(device)\n",
    "        edge_index = batch.edge_index.to(device)\n",
    "        labels = batch.y.to(device)\n",
    "        batch_vector = batch.batch.to(device)\n",
    "\n",
    "        outputs = gat_model(node_features=atom_feats, edge_index=edge_index, batch_vector=batch_vector).squeeze()\n",
    "        probs = torch.sigmoid(outputs)\n",
    "        preds.append((probs >= 0.5).int())\n",
    "        target_labels.append(labels)\n",
    "\n",
    "preds = torch.cat(preds)\n",
    "target_labels = torch.cat(target_labels)"
   ]
  },
  {
   "cell_type": "code",
   "execution_count": 21,
   "id": "3309f03e-f28f-45b5-915a-3c227532b020",
   "metadata": {
    "tags": []
   },
   "outputs": [
    {
     "data": {
      "text/plain": [
       "(0.3235032608491716, 0.6706586826347305)"
      ]
     },
     "execution_count": 21,
     "metadata": {},
     "output_type": "execute_result"
    }
   ],
   "source": [
    "mcc = sk_metrics.matthews_corrcoef(target_labels, preds)\n",
    "acc = sk_metrics.accuracy_score(target_labels, preds)\n",
    "mcc,acc"
   ]
  },
  {
   "cell_type": "code",
   "execution_count": 22,
   "id": "5f6252ed-f470-447e-b264-9e9d8610f30c",
   "metadata": {},
   "outputs": [
    {
     "data": {
      "text/plain": [
       "array([[70, 30],\n",
       "       [25, 42]])"
      ]
     },
     "execution_count": 22,
     "metadata": {},
     "output_type": "execute_result"
    }
   ],
   "source": [
    "sk_metrics.confusion_matrix(target_labels, preds)"
   ]
  },
  {
   "cell_type": "code",
   "execution_count": null,
   "id": "c3f35d16-6737-4e15-84db-06175f3cdf4d",
   "metadata": {},
   "outputs": [],
   "source": []
  }
 ],
 "metadata": {
  "kernelspec": {
   "display_name": "Python 3 (ipykernel)",
   "language": "python",
   "name": "python3"
  },
  "language_info": {
   "codemirror_mode": {
    "name": "ipython",
    "version": 3
   },
   "file_extension": ".py",
   "mimetype": "text/x-python",
   "name": "python",
   "nbconvert_exporter": "python",
   "pygments_lexer": "ipython3",
   "version": "3.12.2"
  },
  "widgets": {
   "application/vnd.jupyter.widget-state+json": {
    "state": {
     "0318404a46e44235980e5638749a502f": {
      "model_module": "@jupyter-widgets/base",
      "model_module_version": "2.0.0",
      "model_name": "LayoutModel",
      "state": {}
     },
     "07905321525e496db5f6b0c3c64df878": {
      "model_module": "@jupyter-widgets/controls",
      "model_module_version": "2.0.0",
      "model_name": "HBoxModel",
      "state": {
       "children": [
        "IPY_MODEL_ea43164af77e438d89370224a37c37e9",
        "IPY_MODEL_723ffcc4240b47d697b116476e994e9d",
        "IPY_MODEL_4b475298901644849c90752cadcdf49d"
       ],
       "layout": "IPY_MODEL_8bead5d9ab534ff6b1710b2e3200115b"
      }
     },
     "0a34b3d700e446bf8e478a8157afca36": {
      "model_module": "@jupyter-widgets/controls",
      "model_module_version": "2.0.0",
      "model_name": "HTMLModel",
      "state": {
       "layout": "IPY_MODEL_f3ff95861ae04f39be50e993e6ef953d",
       "style": "IPY_MODEL_5e11f94b292b4c5684c89502681c915d",
       "value": " 0/10 [06:27&lt;?, ?it/s]"
      }
     },
     "0be6470cb44c43828fbf57073f636767": {
      "model_module": "@jupyter-widgets/controls",
      "model_module_version": "2.0.0",
      "model_name": "ProgressStyleModel",
      "state": {
       "description_width": ""
      }
     },
     "0c0243348bd74f068b1b9afd97f331a1": {
      "model_module": "@jupyter-widgets/base",
      "model_module_version": "2.0.0",
      "model_name": "LayoutModel",
      "state": {}
     },
     "11e45a17c12947bd87a67d28a203451c": {
      "model_module": "@jupyter-widgets/controls",
      "model_module_version": "2.0.0",
      "model_name": "FloatProgressModel",
      "state": {
       "bar_style": "success",
       "layout": "IPY_MODEL_369454554e1a4f2fb6ac457f2f53d3c7",
       "max": 40,
       "style": "IPY_MODEL_196ac4a26d8b418b99f39d77cb3da008",
       "value": 40
      }
     },
     "1384dd511e5245939a76757ea4c34435": {
      "model_module": "@jupyter-widgets/controls",
      "model_module_version": "2.0.0",
      "model_name": "HTMLStyleModel",
      "state": {
       "description_width": "",
       "font_size": null,
       "text_color": null
      }
     },
     "14d1d9681c9a4494931f0c0365023bb3": {
      "model_module": "@jupyter-widgets/controls",
      "model_module_version": "2.0.0",
      "model_name": "HBoxModel",
      "state": {
       "children": [
        "IPY_MODEL_ced22994139d49a897a21524d7780c57",
        "IPY_MODEL_11e45a17c12947bd87a67d28a203451c",
        "IPY_MODEL_68f45e35343b4747bb4e6d921934c0f2"
       ],
       "layout": "IPY_MODEL_8223bc826c7e405bbb5c7e256b84f47a"
      }
     },
     "1528afef076444958df148303eb8d09c": {
      "model_module": "@jupyter-widgets/controls",
      "model_module_version": "2.0.0",
      "model_name": "HTMLStyleModel",
      "state": {
       "description_width": "",
       "font_size": null,
       "text_color": null
      }
     },
     "17806d35978d46c4ae1ea9e1d9b2a2d3": {
      "model_module": "@jupyter-widgets/controls",
      "model_module_version": "2.0.0",
      "model_name": "ProgressStyleModel",
      "state": {
       "description_width": ""
      }
     },
     "196ac4a26d8b418b99f39d77cb3da008": {
      "model_module": "@jupyter-widgets/controls",
      "model_module_version": "2.0.0",
      "model_name": "ProgressStyleModel",
      "state": {
       "description_width": ""
      }
     },
     "1cedb713c3db41ce862512ea2a15cc46": {
      "model_module": "@jupyter-widgets/controls",
      "model_module_version": "2.0.0",
      "model_name": "HBoxModel",
      "state": {
       "children": [
        "IPY_MODEL_4cf8b06c68f44190b435b913607c7cb3",
        "IPY_MODEL_7728fdb208bc43a491ef9d269b5513df",
        "IPY_MODEL_0a34b3d700e446bf8e478a8157afca36"
       ],
       "layout": "IPY_MODEL_c770dd0b72a34475bed2df37a73806fa"
      }
     },
     "1efc1f8db42a4abbb0ea4c27e14ee02e": {
      "model_module": "@jupyter-widgets/base",
      "model_module_version": "2.0.0",
      "model_name": "LayoutModel",
      "state": {}
     },
     "239e683148f0466fb77f025c0894f539": {
      "model_module": "@jupyter-widgets/controls",
      "model_module_version": "2.0.0",
      "model_name": "HTMLStyleModel",
      "state": {
       "description_width": "",
       "font_size": null,
       "text_color": null
      }
     },
     "25a0c3c6c9bb4d1d96ad1bf9a98ec7c6": {
      "model_module": "@jupyter-widgets/base",
      "model_module_version": "2.0.0",
      "model_name": "LayoutModel",
      "state": {}
     },
     "2ad01ef07afb4b269d48d7c1e34a6490": {
      "model_module": "@jupyter-widgets/base",
      "model_module_version": "2.0.0",
      "model_name": "LayoutModel",
      "state": {}
     },
     "2e7099d64fb64997bc4ae881e740e448": {
      "model_module": "@jupyter-widgets/controls",
      "model_module_version": "2.0.0",
      "model_name": "FloatProgressModel",
      "state": {
       "layout": "IPY_MODEL_5270bd97c71346658068edf9ecec9dda",
       "max": 10,
       "style": "IPY_MODEL_9413f62b162f43b9b2ed68ffc1fc0ec8",
       "value": 1
      }
     },
     "2f58092b77274fbfa8a461db6daec803": {
      "model_module": "@jupyter-widgets/controls",
      "model_module_version": "2.0.0",
      "model_name": "ProgressStyleModel",
      "state": {
       "description_width": ""
      }
     },
     "31854dc41247485e95c694297a169ce1": {
      "model_module": "@jupyter-widgets/controls",
      "model_module_version": "2.0.0",
      "model_name": "HTMLModel",
      "state": {
       "layout": "IPY_MODEL_7f313a3b82e04cd8b8e1751be965ab11",
       "style": "IPY_MODEL_94c23100befb412abed4c5709ee0366b",
       "value": " 0/10 [02:19&lt;?, ?it/s]"
      }
     },
     "342f63cdf7da44628d7ddcf44f954da2": {
      "model_module": "@jupyter-widgets/controls",
      "model_module_version": "2.0.0",
      "model_name": "FloatProgressModel",
      "state": {
       "layout": "IPY_MODEL_bdb54b1d7dcd49a499381cdba3336052",
       "max": 10,
       "style": "IPY_MODEL_709ef80634fa41fe859bd70dace38504"
      }
     },
     "369454554e1a4f2fb6ac457f2f53d3c7": {
      "model_module": "@jupyter-widgets/base",
      "model_module_version": "2.0.0",
      "model_name": "LayoutModel",
      "state": {}
     },
     "36a91a60bb5245419c630b9bdfdaff7b": {
      "model_module": "@jupyter-widgets/controls",
      "model_module_version": "2.0.0",
      "model_name": "HTMLStyleModel",
      "state": {
       "description_width": "",
       "font_size": null,
       "text_color": null
      }
     },
     "39a6ee85757b4392a7c908ed518b73c9": {
      "model_module": "@jupyter-widgets/base",
      "model_module_version": "2.0.0",
      "model_name": "LayoutModel",
      "state": {}
     },
     "3eb27859fab64e00b635a30362c72ef6": {
      "model_module": "@jupyter-widgets/controls",
      "model_module_version": "2.0.0",
      "model_name": "HTMLStyleModel",
      "state": {
       "description_width": "",
       "font_size": null,
       "text_color": null
      }
     },
     "3f0ca3f9f29f43f6a639498617793ae6": {
      "model_module": "@jupyter-widgets/controls",
      "model_module_version": "2.0.0",
      "model_name": "HBoxModel",
      "state": {
       "children": [
        "IPY_MODEL_64e341eeb96843c990ad39b7f0835444",
        "IPY_MODEL_7e32dbe4915840399fc36cec6bcf8012",
        "IPY_MODEL_b097b827e2d44079a1b8358b27d2afe0"
       ],
       "layout": "IPY_MODEL_589e0cb22f5f45ae8b14ecd7d58edcbf"
      }
     },
     "4020ce3823d2441a9b7b1933553150d3": {
      "model_module": "@jupyter-widgets/base",
      "model_module_version": "2.0.0",
      "model_name": "LayoutModel",
      "state": {}
     },
     "40c111705c8940f7843ad4becf4b9a3f": {
      "model_module": "@jupyter-widgets/base",
      "model_module_version": "2.0.0",
      "model_name": "LayoutModel",
      "state": {}
     },
     "42b21c29c55444a1bb052f4d3516edcb": {
      "model_module": "@jupyter-widgets/controls",
      "model_module_version": "2.0.0",
      "model_name": "HTMLStyleModel",
      "state": {
       "description_width": "",
       "font_size": null,
       "text_color": null
      }
     },
     "4506ce39e0c243bca0e95b90916df4f2": {
      "model_module": "@jupyter-widgets/controls",
      "model_module_version": "2.0.0",
      "model_name": "HBoxModel",
      "state": {
       "children": [
        "IPY_MODEL_766e776e512f4995b83e1ff19230c5cb",
        "IPY_MODEL_a51980fcd755404aa4a2c63102e1b160",
        "IPY_MODEL_750590a692524151aab0b539c6d27412"
       ],
       "layout": "IPY_MODEL_c62d726fff83438c8ea1037de8c0be91"
      }
     },
     "462270acd8384fa48c68599e02d6918a": {
      "model_module": "@jupyter-widgets/base",
      "model_module_version": "2.0.0",
      "model_name": "LayoutModel",
      "state": {}
     },
     "476c4e1d0c694a0eb645e4c08599734f": {
      "model_module": "@jupyter-widgets/controls",
      "model_module_version": "2.0.0",
      "model_name": "HTMLModel",
      "state": {
       "layout": "IPY_MODEL_25a0c3c6c9bb4d1d96ad1bf9a98ec7c6",
       "style": "IPY_MODEL_499532b149da4a6b924937ca376b735a",
       "value": "Training: 100%"
      }
     },
     "48921c8bc7d74d42a9562eafd72f0b5a": {
      "model_module": "@jupyter-widgets/base",
      "model_module_version": "2.0.0",
      "model_name": "LayoutModel",
      "state": {}
     },
     "499532b149da4a6b924937ca376b735a": {
      "model_module": "@jupyter-widgets/controls",
      "model_module_version": "2.0.0",
      "model_name": "HTMLStyleModel",
      "state": {
       "description_width": "",
       "font_size": null,
       "text_color": null
      }
     },
     "49ecfaa0b8ef4ae281a53425265c46a1": {
      "model_module": "@jupyter-widgets/controls",
      "model_module_version": "2.0.0",
      "model_name": "FloatProgressModel",
      "state": {
       "bar_style": "danger",
       "layout": "IPY_MODEL_e5239006412d4027a45e3347f078796a",
       "max": 10,
       "style": "IPY_MODEL_806bd17b4e9646e1ba29270640871ec0"
      }
     },
     "4b475298901644849c90752cadcdf49d": {
      "model_module": "@jupyter-widgets/controls",
      "model_module_version": "2.0.0",
      "model_name": "HTMLModel",
      "state": {
       "layout": "IPY_MODEL_8e01cba6f0c44557a685a2d0554f9786",
       "style": "IPY_MODEL_78c15e8051444824a01fff1cf72c2635",
       "value": " 0/10 [00:00&lt;?, ?it/s]"
      }
     },
     "4bd6a36749464cfbac9eeae4c611dcda": {
      "model_module": "@jupyter-widgets/base",
      "model_module_version": "2.0.0",
      "model_name": "LayoutModel",
      "state": {}
     },
     "4cf8b06c68f44190b435b913607c7cb3": {
      "model_module": "@jupyter-widgets/controls",
      "model_module_version": "2.0.0",
      "model_name": "HTMLModel",
      "state": {
       "layout": "IPY_MODEL_ca9895d8153948a1ba93e69b84569e67",
       "style": "IPY_MODEL_1384dd511e5245939a76757ea4c34435",
       "value": "Training:   0%"
      }
     },
     "4da02ffa197e41259d9dd616264051c8": {
      "model_module": "@jupyter-widgets/controls",
      "model_module_version": "2.0.0",
      "model_name": "HTMLModel",
      "state": {
       "layout": "IPY_MODEL_bd02346f4a6d44518115c42f2976ff73",
       "style": "IPY_MODEL_b0b7f0d8f647439e8cfbb872d4c6e50a",
       "value": " 10/10 [01:04&lt;00:00,  6.25s/it]"
      }
     },
     "516d53c0df4140f7a5aa74a3da940eea": {
      "model_module": "@jupyter-widgets/controls",
      "model_module_version": "2.0.0",
      "model_name": "FloatProgressModel",
      "state": {
       "layout": "IPY_MODEL_4020ce3823d2441a9b7b1933553150d3",
       "max": 50,
       "style": "IPY_MODEL_17806d35978d46c4ae1ea9e1d9b2a2d3",
       "value": 41
      }
     },
     "5270bd97c71346658068edf9ecec9dda": {
      "model_module": "@jupyter-widgets/base",
      "model_module_version": "2.0.0",
      "model_name": "LayoutModel",
      "state": {}
     },
     "589e0cb22f5f45ae8b14ecd7d58edcbf": {
      "model_module": "@jupyter-widgets/base",
      "model_module_version": "2.0.0",
      "model_name": "LayoutModel",
      "state": {}
     },
     "59b3ed3a20b94ba8b0ca31d317102adb": {
      "model_module": "@jupyter-widgets/controls",
      "model_module_version": "2.0.0",
      "model_name": "HTMLStyleModel",
      "state": {
       "description_width": "",
       "font_size": null,
       "text_color": null
      }
     },
     "5e11f94b292b4c5684c89502681c915d": {
      "model_module": "@jupyter-widgets/controls",
      "model_module_version": "2.0.0",
      "model_name": "HTMLStyleModel",
      "state": {
       "description_width": "",
       "font_size": null,
       "text_color": null
      }
     },
     "6140e603014f424abed9f575e5d56d56": {
      "model_module": "@jupyter-widgets/controls",
      "model_module_version": "2.0.0",
      "model_name": "HBoxModel",
      "state": {
       "children": [
        "IPY_MODEL_a9e3bb49b5e348a1be01112031ed18f4",
        "IPY_MODEL_49ecfaa0b8ef4ae281a53425265c46a1",
        "IPY_MODEL_31854dc41247485e95c694297a169ce1"
       ],
       "layout": "IPY_MODEL_e4a44b38db0b4fd6a1cb0169ccfed349"
      }
     },
     "62228603bd21486b83ff0a57a05682e8": {
      "model_module": "@jupyter-widgets/controls",
      "model_module_version": "2.0.0",
      "model_name": "HBoxModel",
      "state": {
       "children": [
        "IPY_MODEL_476c4e1d0c694a0eb645e4c08599734f",
        "IPY_MODEL_84629636da614eb98da7b211b3bfbc76",
        "IPY_MODEL_4da02ffa197e41259d9dd616264051c8"
       ],
       "layout": "IPY_MODEL_7303ee6f633a4b0b9b5c163da090daf7"
      }
     },
     "632ee9b83e0f401b920baa654a6ea5bc": {
      "model_module": "@jupyter-widgets/base",
      "model_module_version": "2.0.0",
      "model_name": "LayoutModel",
      "state": {}
     },
     "64e341eeb96843c990ad39b7f0835444": {
      "model_module": "@jupyter-widgets/controls",
      "model_module_version": "2.0.0",
      "model_name": "HTMLModel",
      "state": {
       "layout": "IPY_MODEL_c5322344ae7d473e878c501a4825871b",
       "style": "IPY_MODEL_1528afef076444958df148303eb8d09c",
       "value": "Training:   0%"
      }
     },
     "6872bb5e99e74d71affb4669ee171727": {
      "model_module": "@jupyter-widgets/controls",
      "model_module_version": "2.0.0",
      "model_name": "HTMLModel",
      "state": {
       "layout": "IPY_MODEL_da073501deea4262b78bf22fab622fd9",
       "style": "IPY_MODEL_3eb27859fab64e00b635a30362c72ef6",
       "value": "Training:  10%"
      }
     },
     "68f45e35343b4747bb4e6d921934c0f2": {
      "model_module": "@jupyter-widgets/controls",
      "model_module_version": "2.0.0",
      "model_name": "HTMLModel",
      "state": {
       "layout": "IPY_MODEL_2ad01ef07afb4b269d48d7c1e34a6490",
       "style": "IPY_MODEL_d26cf56002144986b42921cd8e3ecdfb",
       "value": " 40/40 [04:02&lt;00:00,  5.91s/it]"
      }
     },
     "709ef80634fa41fe859bd70dace38504": {
      "model_module": "@jupyter-widgets/controls",
      "model_module_version": "2.0.0",
      "model_name": "ProgressStyleModel",
      "state": {
       "description_width": ""
      }
     },
     "723ffcc4240b47d697b116476e994e9d": {
      "model_module": "@jupyter-widgets/controls",
      "model_module_version": "2.0.0",
      "model_name": "FloatProgressModel",
      "state": {
       "layout": "IPY_MODEL_836c3ce0ba584aaca7519dae2ac5b6e7",
       "max": 10,
       "style": "IPY_MODEL_8337865246cf4b238283c1426510bf25"
      }
     },
     "7303ee6f633a4b0b9b5c163da090daf7": {
      "model_module": "@jupyter-widgets/base",
      "model_module_version": "2.0.0",
      "model_name": "LayoutModel",
      "state": {}
     },
     "750590a692524151aab0b539c6d27412": {
      "model_module": "@jupyter-widgets/controls",
      "model_module_version": "2.0.0",
      "model_name": "HTMLModel",
      "state": {
       "layout": "IPY_MODEL_0318404a46e44235980e5638749a502f",
       "style": "IPY_MODEL_f01a920fc76344a387fbc9f3f977df43",
       "value": " 20/20 [01:50&lt;00:00,  5.04s/it]"
      }
     },
     "766e776e512f4995b83e1ff19230c5cb": {
      "model_module": "@jupyter-widgets/controls",
      "model_module_version": "2.0.0",
      "model_name": "HTMLModel",
      "state": {
       "layout": "IPY_MODEL_48921c8bc7d74d42a9562eafd72f0b5a",
       "style": "IPY_MODEL_59b3ed3a20b94ba8b0ca31d317102adb",
       "value": "Training: 100%"
      }
     },
     "7728fdb208bc43a491ef9d269b5513df": {
      "model_module": "@jupyter-widgets/controls",
      "model_module_version": "2.0.0",
      "model_name": "FloatProgressModel",
      "state": {
       "bar_style": "danger",
       "layout": "IPY_MODEL_e0597ccc58b84ed883c45da211164182",
       "max": 10,
       "style": "IPY_MODEL_e1c104e013a143fca4f7deeaa9d59c9b"
      }
     },
     "78c15e8051444824a01fff1cf72c2635": {
      "model_module": "@jupyter-widgets/controls",
      "model_module_version": "2.0.0",
      "model_name": "HTMLStyleModel",
      "state": {
       "description_width": "",
       "font_size": null,
       "text_color": null
      }
     },
     "78cb0fa2cf3c4f0ab6dc915a0cdcd901": {
      "model_module": "@jupyter-widgets/base",
      "model_module_version": "2.0.0",
      "model_name": "LayoutModel",
      "state": {}
     },
     "7e32dbe4915840399fc36cec6bcf8012": {
      "model_module": "@jupyter-widgets/controls",
      "model_module_version": "2.0.0",
      "model_name": "FloatProgressModel",
      "state": {
       "bar_style": "danger",
       "layout": "IPY_MODEL_a5300b6023fe4411a0f0277a378dd369",
       "max": 10,
       "style": "IPY_MODEL_0be6470cb44c43828fbf57073f636767"
      }
     },
     "7f313a3b82e04cd8b8e1751be965ab11": {
      "model_module": "@jupyter-widgets/base",
      "model_module_version": "2.0.0",
      "model_name": "LayoutModel",
      "state": {}
     },
     "806bd17b4e9646e1ba29270640871ec0": {
      "model_module": "@jupyter-widgets/controls",
      "model_module_version": "2.0.0",
      "model_name": "ProgressStyleModel",
      "state": {
       "description_width": ""
      }
     },
     "8223bc826c7e405bbb5c7e256b84f47a": {
      "model_module": "@jupyter-widgets/base",
      "model_module_version": "2.0.0",
      "model_name": "LayoutModel",
      "state": {}
     },
     "8337865246cf4b238283c1426510bf25": {
      "model_module": "@jupyter-widgets/controls",
      "model_module_version": "2.0.0",
      "model_name": "ProgressStyleModel",
      "state": {
       "description_width": ""
      }
     },
     "836c3ce0ba584aaca7519dae2ac5b6e7": {
      "model_module": "@jupyter-widgets/base",
      "model_module_version": "2.0.0",
      "model_name": "LayoutModel",
      "state": {}
     },
     "84629636da614eb98da7b211b3bfbc76": {
      "model_module": "@jupyter-widgets/controls",
      "model_module_version": "2.0.0",
      "model_name": "FloatProgressModel",
      "state": {
       "bar_style": "success",
       "layout": "IPY_MODEL_b52a2b0724114ab2ab2d2502509d6548",
       "max": 10,
       "style": "IPY_MODEL_ea315718036242fb8aa755751b615e15",
       "value": 10
      }
     },
     "8bead5d9ab534ff6b1710b2e3200115b": {
      "model_module": "@jupyter-widgets/base",
      "model_module_version": "2.0.0",
      "model_name": "LayoutModel",
      "state": {}
     },
     "8df1a6efefb54a5784fb4402f09bf239": {
      "model_module": "@jupyter-widgets/controls",
      "model_module_version": "2.0.0",
      "model_name": "HTMLStyleModel",
      "state": {
       "description_width": "",
       "font_size": null,
       "text_color": null
      }
     },
     "8e01cba6f0c44557a685a2d0554f9786": {
      "model_module": "@jupyter-widgets/base",
      "model_module_version": "2.0.0",
      "model_name": "LayoutModel",
      "state": {}
     },
     "932e8c2b461244e8887de5b2c5d7c37b": {
      "model_module": "@jupyter-widgets/controls",
      "model_module_version": "2.0.0",
      "model_name": "HBoxModel",
      "state": {
       "children": [
        "IPY_MODEL_ef27bd17aa164590814f2926b25f1bd0",
        "IPY_MODEL_516d53c0df4140f7a5aa74a3da940eea",
        "IPY_MODEL_eecd389881a4456e9011abc2f06bebd9"
       ],
       "layout": "IPY_MODEL_40c111705c8940f7843ad4becf4b9a3f"
      }
     },
     "9413f62b162f43b9b2ed68ffc1fc0ec8": {
      "model_module": "@jupyter-widgets/controls",
      "model_module_version": "2.0.0",
      "model_name": "ProgressStyleModel",
      "state": {
       "description_width": ""
      }
     },
     "94c23100befb412abed4c5709ee0366b": {
      "model_module": "@jupyter-widgets/controls",
      "model_module_version": "2.0.0",
      "model_name": "HTMLStyleModel",
      "state": {
       "description_width": "",
       "font_size": null,
       "text_color": null
      }
     },
     "a51980fcd755404aa4a2c63102e1b160": {
      "model_module": "@jupyter-widgets/controls",
      "model_module_version": "2.0.0",
      "model_name": "FloatProgressModel",
      "state": {
       "bar_style": "success",
       "layout": "IPY_MODEL_1efc1f8db42a4abbb0ea4c27e14ee02e",
       "max": 20,
       "style": "IPY_MODEL_2f58092b77274fbfa8a461db6daec803",
       "value": 20
      }
     },
     "a5300b6023fe4411a0f0277a378dd369": {
      "model_module": "@jupyter-widgets/base",
      "model_module_version": "2.0.0",
      "model_name": "LayoutModel",
      "state": {}
     },
     "a9e3bb49b5e348a1be01112031ed18f4": {
      "model_module": "@jupyter-widgets/controls",
      "model_module_version": "2.0.0",
      "model_name": "HTMLModel",
      "state": {
       "layout": "IPY_MODEL_ab56a6f93f43427fae53fe0405eeab90",
       "style": "IPY_MODEL_c4c1cad7c85a43b49246c7ed034d5c58",
       "value": "Training:   0%"
      }
     },
     "aaa1735bbddd48959f1e4aa3a7a4bf5b": {
      "model_module": "@jupyter-widgets/controls",
      "model_module_version": "2.0.0",
      "model_name": "HTMLStyleModel",
      "state": {
       "description_width": "",
       "font_size": null,
       "text_color": null
      }
     },
     "ab56a6f93f43427fae53fe0405eeab90": {
      "model_module": "@jupyter-widgets/base",
      "model_module_version": "2.0.0",
      "model_name": "LayoutModel",
      "state": {}
     },
     "ace79c271b9b4cecb2084fb13f2d5b34": {
      "model_module": "@jupyter-widgets/base",
      "model_module_version": "2.0.0",
      "model_name": "LayoutModel",
      "state": {}
     },
     "af26c30231d64113895bb15b34d626f6": {
      "model_module": "@jupyter-widgets/controls",
      "model_module_version": "2.0.0",
      "model_name": "HTMLStyleModel",
      "state": {
       "description_width": "",
       "font_size": null,
       "text_color": null
      }
     },
     "b097b827e2d44079a1b8358b27d2afe0": {
      "model_module": "@jupyter-widgets/controls",
      "model_module_version": "2.0.0",
      "model_name": "HTMLModel",
      "state": {
       "layout": "IPY_MODEL_4bd6a36749464cfbac9eeae4c611dcda",
       "style": "IPY_MODEL_fb6c12e813414e349eeecfe1cb5b289d",
       "value": " 0/10 [03:57&lt;?, ?it/s]"
      }
     },
     "b0b7f0d8f647439e8cfbb872d4c6e50a": {
      "model_module": "@jupyter-widgets/controls",
      "model_module_version": "2.0.0",
      "model_name": "HTMLStyleModel",
      "state": {
       "description_width": "",
       "font_size": null,
       "text_color": null
      }
     },
     "b52a2b0724114ab2ab2d2502509d6548": {
      "model_module": "@jupyter-widgets/base",
      "model_module_version": "2.0.0",
      "model_name": "LayoutModel",
      "state": {}
     },
     "bb98cc00bf184f5484d4b7ae5285a5cd": {
      "model_module": "@jupyter-widgets/controls",
      "model_module_version": "2.0.0",
      "model_name": "HTMLModel",
      "state": {
       "layout": "IPY_MODEL_462270acd8384fa48c68599e02d6918a",
       "style": "IPY_MODEL_42b21c29c55444a1bb052f4d3516edcb",
       "value": "Training:   0%"
      }
     },
     "bd02346f4a6d44518115c42f2976ff73": {
      "model_module": "@jupyter-widgets/base",
      "model_module_version": "2.0.0",
      "model_name": "LayoutModel",
      "state": {}
     },
     "bdb54b1d7dcd49a499381cdba3336052": {
      "model_module": "@jupyter-widgets/base",
      "model_module_version": "2.0.0",
      "model_name": "LayoutModel",
      "state": {}
     },
     "c4c1cad7c85a43b49246c7ed034d5c58": {
      "model_module": "@jupyter-widgets/controls",
      "model_module_version": "2.0.0",
      "model_name": "HTMLStyleModel",
      "state": {
       "description_width": "",
       "font_size": null,
       "text_color": null
      }
     },
     "c5322344ae7d473e878c501a4825871b": {
      "model_module": "@jupyter-widgets/base",
      "model_module_version": "2.0.0",
      "model_name": "LayoutModel",
      "state": {}
     },
     "c62d726fff83438c8ea1037de8c0be91": {
      "model_module": "@jupyter-widgets/base",
      "model_module_version": "2.0.0",
      "model_name": "LayoutModel",
      "state": {}
     },
     "c75b6b091cff4057b934cd46a6dafec0": {
      "model_module": "@jupyter-widgets/controls",
      "model_module_version": "2.0.0",
      "model_name": "HBoxModel",
      "state": {
       "children": [
        "IPY_MODEL_6872bb5e99e74d71affb4669ee171727",
        "IPY_MODEL_2e7099d64fb64997bc4ae881e740e448",
        "IPY_MODEL_d42f03a62cfa432591de6cc6eee2a92a"
       ],
       "layout": "IPY_MODEL_f9e7acbb2a8d4851bb44aeb280f43179"
      }
     },
     "c770dd0b72a34475bed2df37a73806fa": {
      "model_module": "@jupyter-widgets/base",
      "model_module_version": "2.0.0",
      "model_name": "LayoutModel",
      "state": {}
     },
     "ca9895d8153948a1ba93e69b84569e67": {
      "model_module": "@jupyter-widgets/base",
      "model_module_version": "2.0.0",
      "model_name": "LayoutModel",
      "state": {}
     },
     "cde0914229b24539a32078d14e130289": {
      "model_module": "@jupyter-widgets/base",
      "model_module_version": "2.0.0",
      "model_name": "LayoutModel",
      "state": {}
     },
     "ced22994139d49a897a21524d7780c57": {
      "model_module": "@jupyter-widgets/controls",
      "model_module_version": "2.0.0",
      "model_name": "HTMLModel",
      "state": {
       "layout": "IPY_MODEL_0c0243348bd74f068b1b9afd97f331a1",
       "style": "IPY_MODEL_f11eb1d29b6d4c208c21eb850dad131d",
       "value": "Training: 100%"
      }
     },
     "d26cf56002144986b42921cd8e3ecdfb": {
      "model_module": "@jupyter-widgets/controls",
      "model_module_version": "2.0.0",
      "model_name": "HTMLStyleModel",
      "state": {
       "description_width": "",
       "font_size": null,
       "text_color": null
      }
     },
     "d42f03a62cfa432591de6cc6eee2a92a": {
      "model_module": "@jupyter-widgets/controls",
      "model_module_version": "2.0.0",
      "model_name": "HTMLModel",
      "state": {
       "layout": "IPY_MODEL_39a6ee85757b4392a7c908ed518b73c9",
       "style": "IPY_MODEL_af26c30231d64113895bb15b34d626f6",
       "value": " 1/10 [01:10&lt;10:32, 70.25s/it]"
      }
     },
     "d87729abce8940589033475775f41c2e": {
      "model_module": "@jupyter-widgets/controls",
      "model_module_version": "2.0.0",
      "model_name": "HTMLModel",
      "state": {
       "layout": "IPY_MODEL_ace79c271b9b4cecb2084fb13f2d5b34",
       "style": "IPY_MODEL_aaa1735bbddd48959f1e4aa3a7a4bf5b",
       "value": " 0/10 [00:00&lt;?, ?it/s]"
      }
     },
     "da073501deea4262b78bf22fab622fd9": {
      "model_module": "@jupyter-widgets/base",
      "model_module_version": "2.0.0",
      "model_name": "LayoutModel",
      "state": {}
     },
     "dcce0d167ba14ba4abe506ae57859dea": {
      "model_module": "@jupyter-widgets/controls",
      "model_module_version": "2.0.0",
      "model_name": "HBoxModel",
      "state": {
       "children": [
        "IPY_MODEL_bb98cc00bf184f5484d4b7ae5285a5cd",
        "IPY_MODEL_342f63cdf7da44628d7ddcf44f954da2",
        "IPY_MODEL_d87729abce8940589033475775f41c2e"
       ],
       "layout": "IPY_MODEL_632ee9b83e0f401b920baa654a6ea5bc"
      }
     },
     "e0597ccc58b84ed883c45da211164182": {
      "model_module": "@jupyter-widgets/base",
      "model_module_version": "2.0.0",
      "model_name": "LayoutModel",
      "state": {}
     },
     "e1c104e013a143fca4f7deeaa9d59c9b": {
      "model_module": "@jupyter-widgets/controls",
      "model_module_version": "2.0.0",
      "model_name": "ProgressStyleModel",
      "state": {
       "description_width": ""
      }
     },
     "e4a44b38db0b4fd6a1cb0169ccfed349": {
      "model_module": "@jupyter-widgets/base",
      "model_module_version": "2.0.0",
      "model_name": "LayoutModel",
      "state": {}
     },
     "e5239006412d4027a45e3347f078796a": {
      "model_module": "@jupyter-widgets/base",
      "model_module_version": "2.0.0",
      "model_name": "LayoutModel",
      "state": {}
     },
     "ea315718036242fb8aa755751b615e15": {
      "model_module": "@jupyter-widgets/controls",
      "model_module_version": "2.0.0",
      "model_name": "ProgressStyleModel",
      "state": {
       "description_width": ""
      }
     },
     "ea43164af77e438d89370224a37c37e9": {
      "model_module": "@jupyter-widgets/controls",
      "model_module_version": "2.0.0",
      "model_name": "HTMLModel",
      "state": {
       "layout": "IPY_MODEL_78cb0fa2cf3c4f0ab6dc915a0cdcd901",
       "style": "IPY_MODEL_239e683148f0466fb77f025c0894f539",
       "value": "Training:   0%"
      }
     },
     "eecd389881a4456e9011abc2f06bebd9": {
      "model_module": "@jupyter-widgets/controls",
      "model_module_version": "2.0.0",
      "model_name": "HTMLModel",
      "state": {
       "layout": "IPY_MODEL_fb20f3c3f1e44a68917460039790be84",
       "style": "IPY_MODEL_36a91a60bb5245419c630b9bdfdaff7b",
       "value": " 41/50 [03:48&lt;00:54,  6.05s/it]"
      }
     },
     "ef27bd17aa164590814f2926b25f1bd0": {
      "model_module": "@jupyter-widgets/controls",
      "model_module_version": "2.0.0",
      "model_name": "HTMLModel",
      "state": {
       "layout": "IPY_MODEL_cde0914229b24539a32078d14e130289",
       "style": "IPY_MODEL_8df1a6efefb54a5784fb4402f09bf239",
       "value": "Training:  82%"
      }
     },
     "f01a920fc76344a387fbc9f3f977df43": {
      "model_module": "@jupyter-widgets/controls",
      "model_module_version": "2.0.0",
      "model_name": "HTMLStyleModel",
      "state": {
       "description_width": "",
       "font_size": null,
       "text_color": null
      }
     },
     "f11eb1d29b6d4c208c21eb850dad131d": {
      "model_module": "@jupyter-widgets/controls",
      "model_module_version": "2.0.0",
      "model_name": "HTMLStyleModel",
      "state": {
       "description_width": "",
       "font_size": null,
       "text_color": null
      }
     },
     "f3ff95861ae04f39be50e993e6ef953d": {
      "model_module": "@jupyter-widgets/base",
      "model_module_version": "2.0.0",
      "model_name": "LayoutModel",
      "state": {}
     },
     "f9e7acbb2a8d4851bb44aeb280f43179": {
      "model_module": "@jupyter-widgets/base",
      "model_module_version": "2.0.0",
      "model_name": "LayoutModel",
      "state": {}
     },
     "fb20f3c3f1e44a68917460039790be84": {
      "model_module": "@jupyter-widgets/base",
      "model_module_version": "2.0.0",
      "model_name": "LayoutModel",
      "state": {}
     },
     "fb6c12e813414e349eeecfe1cb5b289d": {
      "model_module": "@jupyter-widgets/controls",
      "model_module_version": "2.0.0",
      "model_name": "HTMLStyleModel",
      "state": {
       "description_width": "",
       "font_size": null,
       "text_color": null
      }
     }
    },
    "version_major": 2,
    "version_minor": 0
   }
  }
 },
 "nbformat": 4,
 "nbformat_minor": 5
}
