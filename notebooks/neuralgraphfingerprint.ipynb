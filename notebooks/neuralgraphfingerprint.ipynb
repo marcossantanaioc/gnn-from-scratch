{
 "cells": [
  {
   "cell_type": "code",
   "execution_count": 54,
   "id": "95226085-0134-4137-9c58-aafe08995392",
   "metadata": {},
   "outputs": [
    {
     "name": "stdout",
     "output_type": "stream",
     "text": [
      "Running on CPU\n"
     ]
    }
   ],
   "source": [
    "import numpy as np\n",
    "import pandas as pd\n",
    "import torch\n",
    "from rdkit import Chem\n",
    "from sklearn import model_selection as sk_modelselection\n",
    "from torch.nn import functional as F\n",
    "from torch import nn\n",
    "import matplotlib.pyplot as plt\n",
    "import seaborn as sns\n",
    "from torch.utils.data import DataLoader, Dataset\n",
    "import functools\n",
    "from graphmodels import constants, datasets, data_utils\n",
    "from graphmodels import models as graphmodel_factory\n",
    "from tqdm.notebook import tqdm\n",
    "device = \"cpu\"\n",
    "if torch.cuda.is_available():\n",
    "    print(\"GPU is available\")\n",
    "    device = \"cuda\"\n",
    "else:\n",
    "    print(\"Running on CPU\")"
   ]
  },
  {
   "cell_type": "markdown",
   "id": "580c5e9a-91ae-4fbc-ab17-32f3d9c1835a",
   "metadata": {},
   "source": [
    "# Load data"
   ]
  },
  {
   "cell_type": "code",
   "execution_count": 3,
   "id": "c7ead05f-15d8-4392-be3a-14cd7f98ee07",
   "metadata": {},
   "outputs": [
    {
     "name": "stdout",
     "output_type": "stream",
     "text": [
      "Max num atoms = 55\n"
     ]
    }
   ],
   "source": [
    "sol_df = pd.read_csv(\"../datasets/chemistry/delaney-processed.csv\")\n",
    "sol_df[\"mol\"] = sol_df[\"smiles\"].apply(Chem.MolFromSmiles)\n",
    "sol_df[\"num_atoms\"] = sol_df[\"mol\"].apply(lambda x : x.GetNumAtoms())\n",
    "MAX_NUM_ATOMS = sol_df[\"num_atoms\"].max()\n",
    "print(f\"Max num atoms = {MAX_NUM_ATOMS}\")"
   ]
  },
  {
   "cell_type": "code",
   "execution_count": 4,
   "id": "d93344cd-1570-4882-9ddf-246a3b038016",
   "metadata": {},
   "outputs": [],
   "source": [
    "# Split data\n",
    "train_df, test_df = sk_modelselection.train_test_split(sol_df, test_size=0.2, random_state=42, shuffle=True)\n",
    "train_df, valid_df = sk_modelselection.train_test_split(train_df, test_size=0.15, random_state=42, shuffle=True)"
   ]
  },
  {
   "cell_type": "code",
   "execution_count": 5,
   "id": "c80f5b9f-addd-416d-b72f-205beea65ccd",
   "metadata": {},
   "outputs": [
    {
     "data": {
      "text/plain": [
       "((766, 12), (226, 12), (136, 12))"
      ]
     },
     "execution_count": 5,
     "metadata": {},
     "output_type": "execute_result"
    }
   ],
   "source": [
    "train_df.shape, test_df.shape, valid_df.shape"
   ]
  },
  {
   "cell_type": "code",
   "execution_count": 6,
   "id": "b47bb606-b9f0-4239-9324-a4be25986a67",
   "metadata": {},
   "outputs": [
    {
     "data": {
      "text/html": [
       "<div>\n",
       "<style scoped>\n",
       "    .dataframe tbody tr th:only-of-type {\n",
       "        vertical-align: middle;\n",
       "    }\n",
       "\n",
       "    .dataframe tbody tr th {\n",
       "        vertical-align: top;\n",
       "    }\n",
       "\n",
       "    .dataframe thead th {\n",
       "        text-align: right;\n",
       "    }\n",
       "</style>\n",
       "<table border=\"1\" class=\"dataframe\">\n",
       "  <thead>\n",
       "    <tr style=\"text-align: right;\">\n",
       "      <th></th>\n",
       "      <th>Compound ID</th>\n",
       "      <th>ESOL predicted log solubility in mols per litre</th>\n",
       "      <th>Minimum Degree</th>\n",
       "      <th>Molecular Weight</th>\n",
       "      <th>Number of H-Bond Donors</th>\n",
       "      <th>Number of Rings</th>\n",
       "      <th>Number of Rotatable Bonds</th>\n",
       "      <th>Polar Surface Area</th>\n",
       "      <th>measured log solubility in mols per litre</th>\n",
       "      <th>smiles</th>\n",
       "      <th>mol</th>\n",
       "      <th>num_atoms</th>\n",
       "    </tr>\n",
       "  </thead>\n",
       "  <tbody>\n",
       "    <tr>\n",
       "      <th>456</th>\n",
       "      <td>Etomidate</td>\n",
       "      <td>-3.359</td>\n",
       "      <td>1</td>\n",
       "      <td>244.294</td>\n",
       "      <td>0</td>\n",
       "      <td>2</td>\n",
       "      <td>4</td>\n",
       "      <td>44.12</td>\n",
       "      <td>-4.735</td>\n",
       "      <td>CCOC(=O)c1cncn1C(C)c2ccccc2</td>\n",
       "      <td>&lt;rdkit.Chem.rdchem.Mol object at 0x7fa5e88eaab0&gt;</td>\n",
       "      <td>18</td>\n",
       "    </tr>\n",
       "    <tr>\n",
       "      <th>938</th>\n",
       "      <td>isoguanine</td>\n",
       "      <td>-1.740</td>\n",
       "      <td>1</td>\n",
       "      <td>151.129</td>\n",
       "      <td>3</td>\n",
       "      <td>2</td>\n",
       "      <td>0</td>\n",
       "      <td>100.71</td>\n",
       "      <td>-3.401</td>\n",
       "      <td>Nc1nc(O)nc2nc[nH]c12</td>\n",
       "      <td>&lt;rdkit.Chem.rdchem.Mol object at 0x7fa5e88f7f40&gt;</td>\n",
       "      <td>11</td>\n",
       "    </tr>\n",
       "    <tr>\n",
       "      <th>925</th>\n",
       "      <td>RTI 6</td>\n",
       "      <td>-3.335</td>\n",
       "      <td>1</td>\n",
       "      <td>313.361</td>\n",
       "      <td>2</td>\n",
       "      <td>3</td>\n",
       "      <td>4</td>\n",
       "      <td>81.59</td>\n",
       "      <td>-3.360</td>\n",
       "      <td>CCN2c1nc(N(C)(CCO))ccc1NC(=O)c3cccnc23</td>\n",
       "      <td>&lt;rdkit.Chem.rdchem.Mol object at 0x7fa5e88f7990&gt;</td>\n",
       "      <td>23</td>\n",
       "    </tr>\n",
       "    <tr>\n",
       "      <th>810</th>\n",
       "      <td>Tetrahydropyran</td>\n",
       "      <td>-0.978</td>\n",
       "      <td>2</td>\n",
       "      <td>86.134</td>\n",
       "      <td>0</td>\n",
       "      <td>1</td>\n",
       "      <td>0</td>\n",
       "      <td>9.23</td>\n",
       "      <td>-0.030</td>\n",
       "      <td>C1CCOCC1</td>\n",
       "      <td>&lt;rdkit.Chem.rdchem.Mol object at 0x7fa5e88f4740&gt;</td>\n",
       "      <td>6</td>\n",
       "    </tr>\n",
       "    <tr>\n",
       "      <th>495</th>\n",
       "      <td>Minoxidil</td>\n",
       "      <td>-1.809</td>\n",
       "      <td>1</td>\n",
       "      <td>209.253</td>\n",
       "      <td>2</td>\n",
       "      <td>2</td>\n",
       "      <td>1</td>\n",
       "      <td>95.11</td>\n",
       "      <td>-1.989</td>\n",
       "      <td>Nc1cc(nc(N)n1=O)N2CCCCC2</td>\n",
       "      <td>&lt;rdkit.Chem.rdchem.Mol object at 0x7fa5e88ebbc0&gt;</td>\n",
       "      <td>15</td>\n",
       "    </tr>\n",
       "    <tr>\n",
       "      <th>...</th>\n",
       "      <td>...</td>\n",
       "      <td>...</td>\n",
       "      <td>...</td>\n",
       "      <td>...</td>\n",
       "      <td>...</td>\n",
       "      <td>...</td>\n",
       "      <td>...</td>\n",
       "      <td>...</td>\n",
       "      <td>...</td>\n",
       "      <td>...</td>\n",
       "      <td>...</td>\n",
       "      <td>...</td>\n",
       "    </tr>\n",
       "    <tr>\n",
       "      <th>837</th>\n",
       "      <td>Metoxuron</td>\n",
       "      <td>-2.683</td>\n",
       "      <td>1</td>\n",
       "      <td>228.679</td>\n",
       "      <td>1</td>\n",
       "      <td>1</td>\n",
       "      <td>2</td>\n",
       "      <td>41.57</td>\n",
       "      <td>-2.564</td>\n",
       "      <td>COc1ccc(NC(=O)N(C)C)cc1Cl</td>\n",
       "      <td>&lt;rdkit.Chem.rdchem.Mol object at 0x7fa5e88f5310&gt;</td>\n",
       "      <td>15</td>\n",
       "    </tr>\n",
       "    <tr>\n",
       "      <th>587</th>\n",
       "      <td>benodanil</td>\n",
       "      <td>-4.245</td>\n",
       "      <td>1</td>\n",
       "      <td>323.133</td>\n",
       "      <td>1</td>\n",
       "      <td>2</td>\n",
       "      <td>2</td>\n",
       "      <td>29.10</td>\n",
       "      <td>-4.210</td>\n",
       "      <td>c1c(NC(=O)c2ccccc2(I))cccc1</td>\n",
       "      <td>&lt;rdkit.Chem.rdchem.Mol object at 0x7fa5e88ee490&gt;</td>\n",
       "      <td>16</td>\n",
       "    </tr>\n",
       "    <tr>\n",
       "      <th>776</th>\n",
       "      <td>1-Methylcyclohexene</td>\n",
       "      <td>-2.574</td>\n",
       "      <td>1</td>\n",
       "      <td>96.173</td>\n",
       "      <td>0</td>\n",
       "      <td>1</td>\n",
       "      <td>0</td>\n",
       "      <td>0.00</td>\n",
       "      <td>-3.270</td>\n",
       "      <td>CC1=CCCCC1</td>\n",
       "      <td>&lt;rdkit.Chem.rdchem.Mol object at 0x7fa5e88f37d0&gt;</td>\n",
       "      <td>7</td>\n",
       "    </tr>\n",
       "    <tr>\n",
       "      <th>153</th>\n",
       "      <td>1-Chloropentane</td>\n",
       "      <td>-2.294</td>\n",
       "      <td>1</td>\n",
       "      <td>106.596</td>\n",
       "      <td>0</td>\n",
       "      <td>0</td>\n",
       "      <td>3</td>\n",
       "      <td>0.00</td>\n",
       "      <td>-2.730</td>\n",
       "      <td>CCCCCCl</td>\n",
       "      <td>&lt;rdkit.Chem.rdchem.Mol object at 0x7fa5e88de500&gt;</td>\n",
       "      <td>6</td>\n",
       "    </tr>\n",
       "    <tr>\n",
       "      <th>29</th>\n",
       "      <td>Methyl octanoate</td>\n",
       "      <td>-2.608</td>\n",
       "      <td>1</td>\n",
       "      <td>158.241</td>\n",
       "      <td>0</td>\n",
       "      <td>0</td>\n",
       "      <td>6</td>\n",
       "      <td>26.30</td>\n",
       "      <td>-3.170</td>\n",
       "      <td>CCCCCCCC(=O)OC</td>\n",
       "      <td>&lt;rdkit.Chem.rdchem.Mol object at 0x7fa5e8a62e30&gt;</td>\n",
       "      <td>11</td>\n",
       "    </tr>\n",
       "  </tbody>\n",
       "</table>\n",
       "<p>766 rows × 12 columns</p>\n",
       "</div>"
      ],
      "text/plain": [
       "              Compound ID  ESOL predicted log solubility in mols per litre   \n",
       "456             Etomidate                                           -3.359  \\\n",
       "938            isoguanine                                           -1.740   \n",
       "925                 RTI 6                                           -3.335   \n",
       "810      Tetrahydropyran                                            -0.978   \n",
       "495             Minoxidil                                           -1.809   \n",
       "..                    ...                                              ...   \n",
       "837             Metoxuron                                           -2.683   \n",
       "587             benodanil                                           -4.245   \n",
       "776  1-Methylcyclohexene                                            -2.574   \n",
       "153       1-Chloropentane                                           -2.294   \n",
       "29       Methyl octanoate                                           -2.608   \n",
       "\n",
       "     Minimum Degree  Molecular Weight  Number of H-Bond Donors   \n",
       "456               1           244.294                        0  \\\n",
       "938               1           151.129                        3   \n",
       "925               1           313.361                        2   \n",
       "810               2            86.134                        0   \n",
       "495               1           209.253                        2   \n",
       "..              ...               ...                      ...   \n",
       "837               1           228.679                        1   \n",
       "587               1           323.133                        1   \n",
       "776               1            96.173                        0   \n",
       "153               1           106.596                        0   \n",
       "29                1           158.241                        0   \n",
       "\n",
       "     Number of Rings  Number of Rotatable Bonds  Polar Surface Area   \n",
       "456                2                          4               44.12  \\\n",
       "938                2                          0              100.71   \n",
       "925                3                          4               81.59   \n",
       "810                1                          0                9.23   \n",
       "495                2                          1               95.11   \n",
       "..               ...                        ...                 ...   \n",
       "837                1                          2               41.57   \n",
       "587                2                          2               29.10   \n",
       "776                1                          0                0.00   \n",
       "153                0                          3                0.00   \n",
       "29                 0                          6               26.30   \n",
       "\n",
       "     measured log solubility in mols per litre   \n",
       "456                                     -4.735  \\\n",
       "938                                     -3.401   \n",
       "925                                     -3.360   \n",
       "810                                     -0.030   \n",
       "495                                     -1.989   \n",
       "..                                         ...   \n",
       "837                                     -2.564   \n",
       "587                                     -4.210   \n",
       "776                                     -3.270   \n",
       "153                                     -2.730   \n",
       "29                                      -3.170   \n",
       "\n",
       "                                      smiles   \n",
       "456              CCOC(=O)c1cncn1C(C)c2ccccc2  \\\n",
       "938                    Nc1nc(O)nc2nc[nH]c12    \n",
       "925  CCN2c1nc(N(C)(CCO))ccc1NC(=O)c3cccnc23    \n",
       "810                                 C1CCOCC1   \n",
       "495                Nc1cc(nc(N)n1=O)N2CCCCC2    \n",
       "..                                       ...   \n",
       "837                COc1ccc(NC(=O)N(C)C)cc1Cl   \n",
       "587              c1c(NC(=O)c2ccccc2(I))cccc1   \n",
       "776                               CC1=CCCCC1   \n",
       "153                                  CCCCCCl   \n",
       "29                            CCCCCCCC(=O)OC   \n",
       "\n",
       "                                                  mol  num_atoms  \n",
       "456  <rdkit.Chem.rdchem.Mol object at 0x7fa5e88eaab0>         18  \n",
       "938  <rdkit.Chem.rdchem.Mol object at 0x7fa5e88f7f40>         11  \n",
       "925  <rdkit.Chem.rdchem.Mol object at 0x7fa5e88f7990>         23  \n",
       "810  <rdkit.Chem.rdchem.Mol object at 0x7fa5e88f4740>          6  \n",
       "495  <rdkit.Chem.rdchem.Mol object at 0x7fa5e88ebbc0>         15  \n",
       "..                                                ...        ...  \n",
       "837  <rdkit.Chem.rdchem.Mol object at 0x7fa5e88f5310>         15  \n",
       "587  <rdkit.Chem.rdchem.Mol object at 0x7fa5e88ee490>         16  \n",
       "776  <rdkit.Chem.rdchem.Mol object at 0x7fa5e88f37d0>          7  \n",
       "153  <rdkit.Chem.rdchem.Mol object at 0x7fa5e88de500>          6  \n",
       "29   <rdkit.Chem.rdchem.Mol object at 0x7fa5e8a62e30>         11  \n",
       "\n",
       "[766 rows x 12 columns]"
      ]
     },
     "execution_count": 6,
     "metadata": {},
     "output_type": "execute_result"
    }
   ],
   "source": [
    "train_df"
   ]
  },
  {
   "cell_type": "markdown",
   "id": "7cb5d6eb-8d7f-4d6e-82bc-c54ae265bdd2",
   "metadata": {},
   "source": [
    "# Create datasets"
   ]
  },
  {
   "cell_type": "code",
   "execution_count": 7,
   "id": "b715098c-b96f-49f5-9513-07d62e384555",
   "metadata": {},
   "outputs": [],
   "source": [
    "train_dset = datasets.NeuralFingerprintDataset(smiles=tuple(train_df[\"smiles\"]),\n",
    "                                               targets=tuple(train_df[\"measured log solubility in mols per litre\"]))\n",
    "\n",
    "valid_dset = datasets.NeuralFingerprintDataset(smiles=tuple(valid_df[\"smiles\"]),\n",
    "                                               targets=tuple(valid_df[\"measured log solubility in mols per litre\"]))\n",
    "\n",
    "test_dset = datasets.NeuralFingerprintDataset(smiles=tuple(test_df[\"smiles\"]),\n",
    "                                               targets=tuple(test_df[\"measured log solubility in mols per litre\"]))"
   ]
  },
  {
   "cell_type": "code",
   "execution_count": 8,
   "id": "97b9f860-17dd-45ed-b935-025ab16c0f13",
   "metadata": {},
   "outputs": [],
   "source": [
    "train_dataloader = DataLoader(dataset=train_dset,\n",
    "                              batch_size=32,\n",
    "                              shuffle=True,\n",
    "                              collate_fn=functools.partial(data_utils.neuralgraph_longest_collate,\n",
    "                                                           max_num_atoms=MAX_NUM_ATOMS))\n",
    "\n",
    "valid_dataloader = DataLoader(dataset=valid_dset,\n",
    "                              batch_size=32,\n",
    "                              shuffle=False,\n",
    "                              collate_fn=functools.partial(data_utils.neuralgraph_longest_collate,\n",
    "                                                           max_num_atoms=MAX_NUM_ATOMS))\n",
    "\n",
    "test_dataloader = DataLoader(dataset=test_dset,\n",
    "                              batch_size=32,\n",
    "                              shuffle=False,\n",
    "                              collate_fn=functools.partial(data_utils.neuralgraph_longest_collate,\n",
    "                                                           max_num_atoms=MAX_NUM_ATOMS))"
   ]
  },
  {
   "cell_type": "code",
   "execution_count": 15,
   "id": "dc5d5f5f-dd4b-4d33-b366-20075462e2c5",
   "metadata": {},
   "outputs": [],
   "source": [
    "first_batch = next(iter(train_dataloader))"
   ]
  },
  {
   "cell_type": "code",
   "execution_count": 16,
   "id": "e00825e4-5aff-458e-a3a8-e7ce7c1198e5",
   "metadata": {},
   "outputs": [],
   "source": [
    "a,b,c,t = first_batch"
   ]
  },
  {
   "cell_type": "code",
   "execution_count": 17,
   "id": "d44b0980-39fa-411d-9df2-1ae199580fe2",
   "metadata": {},
   "outputs": [
    {
     "data": {
      "text/plain": [
       "torch.Size([32])"
      ]
     },
     "execution_count": 17,
     "metadata": {},
     "output_type": "execute_result"
    }
   ],
   "source": [
    "t.shape"
   ]
  },
  {
   "cell_type": "markdown",
   "id": "1cc593ba-8491-47f4-9a92-75bece93b431",
   "metadata": {},
   "source": [
    "# Train model"
   ]
  },
  {
   "cell_type": "code",
   "execution_count": 9,
   "id": "10965f8e-3330-432c-9b58-90f45a9cef50",
   "metadata": {},
   "outputs": [],
   "source": [
    "LEARNING_RATE: int = 1e-3\n",
    "BATCH_SIZE: int = 64\n",
    "N_EPOCHS: int = 5"
   ]
  },
  {
   "cell_type": "code",
   "execution_count": 45,
   "id": "821e73f9-715b-466b-a2be-f76f5e767bca",
   "metadata": {},
   "outputs": [
    {
     "name": "stdout",
     "output_type": "stream",
     "text": [
      "NeuralGraphFingerprintModel(\n",
      "  (lin_layer): Linear(in_features=296, out_features=200, bias=True)\n",
      "  (out_layer): Linear(in_features=200, out_features=1, bias=True)\n",
      ")\n"
     ]
    }
   ],
   "source": [
    "model = graphmodel_factory.NeuralGraphFingerprintModel(num_input_features=(constants.NUM_ATOM_FEATURES*2+constants.NUM_BOND_FEATURES),\n",
    "                                                       num_hidden_units=200,\n",
    "                                                       num_output_units=1)\n",
    "print(model)"
   ]
  },
  {
   "cell_type": "code",
   "execution_count": 46,
   "id": "e6dc0a57-61bc-465c-a684-a42991b4a20b",
   "metadata": {},
   "outputs": [],
   "source": [
    "# Define loss function\n",
    "loss_func = nn.MSELoss()"
   ]
  },
  {
   "cell_type": "code",
   "execution_count": 47,
   "id": "12741cd9-3286-497e-962c-d4af1f464f15",
   "metadata": {},
   "outputs": [],
   "source": [
    "# Define optimizer\n",
    "optimizer = torch.optim.Adam(model.parameters(), lr=LEARNING_RATE)"
   ]
  },
  {
   "cell_type": "code",
   "execution_count": 48,
   "id": "2c3d7d13-c4a5-4402-98d0-0dfefce57541",
   "metadata": {},
   "outputs": [],
   "source": [
    "def validate(model, val_loader, loss_fn, device):\n",
    "    \"\"\"\n",
    "    Validate the model on the validation dataset.\n",
    "\n",
    "    Args:\n",
    "        model (torch.nn.Module): The neural network model.\n",
    "        val_loader (DataLoader): DataLoader for validation data.\n",
    "        loss_fn (callable): Loss function.\n",
    "        device (torch.device): Device to run the validation on ('cpu' or 'cuda').\n",
    "\n",
    "    Returns:\n",
    "        float: Average validation loss.\n",
    "    \"\"\"\n",
    "    model.eval()\n",
    "    running_val_loss = 0.0\n",
    "\n",
    "    with torch.no_grad():\n",
    "        for atom_features, bond_features, adj_matrix, target in val_loader:\n",
    "            atom_features = atom_features.to(device)\n",
    "            bond_features = bond_features.to(device)\n",
    "            adj_matrix = adj_matrix.to(device)\n",
    "            target = target.to(device)\n",
    "            \n",
    "            pred = model((atom_features, bond_features, adj_matrix)).squeeze(-1)\n",
    "            loss = loss_fn(pred, target)\n",
    "            running_val_loss += loss.item()\n",
    "\n",
    "    avg_val_loss = running_val_loss / len(val_loader)\n",
    "    return avg_val_loss\n",
    "    \n",
    "def train(*, model, train_loader, val_loader, loss_fn, optimizer, device, epochs):\n",
    "    \"\"\"\n",
    "    Train the model and validate after each epoch.\n",
    "\n",
    "    Args:\n",
    "        model (torch.nn.Module): The neural network model.\n",
    "        train_loader (DataLoader): DataLoader for training data.\n",
    "        val_loader (DataLoader): DataLoader for validation data.\n",
    "        loss_fn (callable): Loss function.\n",
    "        optimizer (torch.optim.Optimizer): Optimizer.\n",
    "        device (torch.device): Device to run the training on ('cpu' or 'cuda').\n",
    "        epochs (int): Number of training epochs.\n",
    "\n",
    "    Returns:\n",
    "        dict: Training and validation losses per epoch.\n",
    "    \"\"\"\n",
    "    model.to(device)\n",
    "    history = {'train_loss': [], 'val_loss': []}\n",
    "\n",
    "    for epoch in range(epochs):\n",
    "        model.train()\n",
    "        running_train_loss = 0.0\n",
    "        for batch, (atom_features, bond_features, adj_matrix, target) in tqdm(enumerate(train_loader, 0),\n",
    "                                                                              total=epochs, leave=False):\n",
    "            atom_features = atom_features.to(device)\n",
    "            bond_features = bond_features.to(device)\n",
    "            adj_matrix = adj_matrix.to(device)\n",
    "            target = target.to(device)\n",
    "\n",
    "            optimizer.zero_grad()\n",
    "            pred = model((atom_features, bond_features, adj_matrix)).squeeze(-1)\n",
    "            loss = loss_fn(pred, target)\n",
    "            loss.backward()\n",
    "            optimizer.step()\n",
    "\n",
    "            running_train_loss += loss.item()\n",
    "\n",
    "        avg_train_loss = running_train_loss / len(train_loader)\n",
    "        history['train_loss'].append(avg_train_loss)\n",
    "\n",
    "        avg_val_loss = validate(model, val_loader, loss_fn, device)\n",
    "        history['val_loss'].append(avg_val_loss)\n",
    "\n",
    "        print(f\"Epoch {epoch+1}/{epochs} - \"\n",
    "              f\"Train Loss: {avg_train_loss:.4f} - \"\n",
    "              f\"Validation Loss: {avg_val_loss:.4f}\")\n",
    "\n",
    "    return history"
   ]
  },
  {
   "cell_type": "code",
   "execution_count": 49,
   "id": "bfa78af3-9a60-469b-a6ce-8032f06cc5fe",
   "metadata": {},
   "outputs": [
    {
     "data": {
      "application/vnd.jupyter.widget-view+json": {
       "model_id": "53597da8fae641d8bc16c5f64d9409b8",
       "version_major": 2,
       "version_minor": 0
      },
      "text/plain": [
       "  0%|          | 0/30 [00:00<?, ?it/s]"
      ]
     },
     "metadata": {},
     "output_type": "display_data"
    },
    {
     "name": "stdout",
     "output_type": "stream",
     "text": [
      "Epoch 1/30 - Train Loss: 3.7435 - Validation Loss: 1.7383\n"
     ]
    },
    {
     "data": {
      "application/vnd.jupyter.widget-view+json": {
       "model_id": "f9e4278245144430865f333f0dda1ee0",
       "version_major": 2,
       "version_minor": 0
      },
      "text/plain": [
       "  0%|          | 0/30 [00:00<?, ?it/s]"
      ]
     },
     "metadata": {},
     "output_type": "display_data"
    },
    {
     "name": "stdout",
     "output_type": "stream",
     "text": [
      "Epoch 2/30 - Train Loss: 1.5948 - Validation Loss: 1.2982\n"
     ]
    },
    {
     "data": {
      "application/vnd.jupyter.widget-view+json": {
       "model_id": "f9b9472d3f7b4da48395e7fa0b27378d",
       "version_major": 2,
       "version_minor": 0
      },
      "text/plain": [
       "  0%|          | 0/30 [00:00<?, ?it/s]"
      ]
     },
     "metadata": {},
     "output_type": "display_data"
    },
    {
     "name": "stdout",
     "output_type": "stream",
     "text": [
      "Epoch 3/30 - Train Loss: 1.2880 - Validation Loss: 1.0524\n"
     ]
    },
    {
     "data": {
      "application/vnd.jupyter.widget-view+json": {
       "model_id": "01560236f72e4cd197f138179c46af89",
       "version_major": 2,
       "version_minor": 0
      },
      "text/plain": [
       "  0%|          | 0/30 [00:00<?, ?it/s]"
      ]
     },
     "metadata": {},
     "output_type": "display_data"
    },
    {
     "name": "stdout",
     "output_type": "stream",
     "text": [
      "Epoch 4/30 - Train Loss: 1.1498 - Validation Loss: 0.9860\n"
     ]
    },
    {
     "data": {
      "application/vnd.jupyter.widget-view+json": {
       "model_id": "8f4a86171f53451a927dd4ae0feeb2ee",
       "version_major": 2,
       "version_minor": 0
      },
      "text/plain": [
       "  0%|          | 0/30 [00:00<?, ?it/s]"
      ]
     },
     "metadata": {},
     "output_type": "display_data"
    },
    {
     "name": "stdout",
     "output_type": "stream",
     "text": [
      "Epoch 5/30 - Train Loss: 1.0845 - Validation Loss: 0.9326\n"
     ]
    },
    {
     "data": {
      "application/vnd.jupyter.widget-view+json": {
       "model_id": "47aeb4ccf0a24124adce4c6c466f5468",
       "version_major": 2,
       "version_minor": 0
      },
      "text/plain": [
       "  0%|          | 0/30 [00:00<?, ?it/s]"
      ]
     },
     "metadata": {},
     "output_type": "display_data"
    },
    {
     "name": "stdout",
     "output_type": "stream",
     "text": [
      "Epoch 6/30 - Train Loss: 1.0566 - Validation Loss: 0.8135\n"
     ]
    },
    {
     "data": {
      "application/vnd.jupyter.widget-view+json": {
       "model_id": "9589b1a40bde469a91dc81c66d3ed553",
       "version_major": 2,
       "version_minor": 0
      },
      "text/plain": [
       "  0%|          | 0/30 [00:00<?, ?it/s]"
      ]
     },
     "metadata": {},
     "output_type": "display_data"
    },
    {
     "name": "stdout",
     "output_type": "stream",
     "text": [
      "Epoch 7/30 - Train Loss: 1.0122 - Validation Loss: 0.8175\n"
     ]
    },
    {
     "data": {
      "application/vnd.jupyter.widget-view+json": {
       "model_id": "e55cc0586ebd480da98499c57df9c718",
       "version_major": 2,
       "version_minor": 0
      },
      "text/plain": [
       "  0%|          | 0/30 [00:00<?, ?it/s]"
      ]
     },
     "metadata": {},
     "output_type": "display_data"
    },
    {
     "name": "stdout",
     "output_type": "stream",
     "text": [
      "Epoch 8/30 - Train Loss: 0.9785 - Validation Loss: 0.8181\n"
     ]
    },
    {
     "data": {
      "application/vnd.jupyter.widget-view+json": {
       "model_id": "841826c390094c20a2e658174480db04",
       "version_major": 2,
       "version_minor": 0
      },
      "text/plain": [
       "  0%|          | 0/30 [00:00<?, ?it/s]"
      ]
     },
     "metadata": {},
     "output_type": "display_data"
    },
    {
     "name": "stdout",
     "output_type": "stream",
     "text": [
      "Epoch 9/30 - Train Loss: 0.9377 - Validation Loss: 0.8124\n"
     ]
    },
    {
     "data": {
      "application/vnd.jupyter.widget-view+json": {
       "model_id": "ea47c77bb6ca4d26ac5eea1b78753514",
       "version_major": 2,
       "version_minor": 0
      },
      "text/plain": [
       "  0%|          | 0/30 [00:00<?, ?it/s]"
      ]
     },
     "metadata": {},
     "output_type": "display_data"
    },
    {
     "name": "stdout",
     "output_type": "stream",
     "text": [
      "Epoch 10/30 - Train Loss: 0.9380 - Validation Loss: 0.8000\n"
     ]
    },
    {
     "data": {
      "application/vnd.jupyter.widget-view+json": {
       "model_id": "2438d359437c43a2858fe2008a77d628",
       "version_major": 2,
       "version_minor": 0
      },
      "text/plain": [
       "  0%|          | 0/30 [00:00<?, ?it/s]"
      ]
     },
     "metadata": {},
     "output_type": "display_data"
    },
    {
     "name": "stdout",
     "output_type": "stream",
     "text": [
      "Epoch 11/30 - Train Loss: 0.9897 - Validation Loss: 0.7639\n"
     ]
    },
    {
     "data": {
      "application/vnd.jupyter.widget-view+json": {
       "model_id": "1e421e7d84c440d1ad420bb28119b7dc",
       "version_major": 2,
       "version_minor": 0
      },
      "text/plain": [
       "  0%|          | 0/30 [00:00<?, ?it/s]"
      ]
     },
     "metadata": {},
     "output_type": "display_data"
    },
    {
     "name": "stdout",
     "output_type": "stream",
     "text": [
      "Epoch 12/30 - Train Loss: 0.9107 - Validation Loss: 0.8573\n"
     ]
    },
    {
     "data": {
      "application/vnd.jupyter.widget-view+json": {
       "model_id": "91893eb1428147a88d668f97c1110dbf",
       "version_major": 2,
       "version_minor": 0
      },
      "text/plain": [
       "  0%|          | 0/30 [00:00<?, ?it/s]"
      ]
     },
     "metadata": {},
     "output_type": "display_data"
    },
    {
     "name": "stdout",
     "output_type": "stream",
     "text": [
      "Epoch 13/30 - Train Loss: 0.8913 - Validation Loss: 0.8082\n"
     ]
    },
    {
     "data": {
      "application/vnd.jupyter.widget-view+json": {
       "model_id": "3e813e6aa5b64182bd67755066af3673",
       "version_major": 2,
       "version_minor": 0
      },
      "text/plain": [
       "  0%|          | 0/30 [00:00<?, ?it/s]"
      ]
     },
     "metadata": {},
     "output_type": "display_data"
    },
    {
     "name": "stdout",
     "output_type": "stream",
     "text": [
      "Epoch 14/30 - Train Loss: 0.8816 - Validation Loss: 0.7989\n"
     ]
    },
    {
     "data": {
      "application/vnd.jupyter.widget-view+json": {
       "model_id": "a1b4cea982894f45a538d5b6a4bf5eee",
       "version_major": 2,
       "version_minor": 0
      },
      "text/plain": [
       "  0%|          | 0/30 [00:00<?, ?it/s]"
      ]
     },
     "metadata": {},
     "output_type": "display_data"
    },
    {
     "name": "stdout",
     "output_type": "stream",
     "text": [
      "Epoch 15/30 - Train Loss: 0.9193 - Validation Loss: 0.7745\n"
     ]
    },
    {
     "data": {
      "application/vnd.jupyter.widget-view+json": {
       "model_id": "2351180353c048f0b5615563efc93095",
       "version_major": 2,
       "version_minor": 0
      },
      "text/plain": [
       "  0%|          | 0/30 [00:00<?, ?it/s]"
      ]
     },
     "metadata": {},
     "output_type": "display_data"
    },
    {
     "name": "stdout",
     "output_type": "stream",
     "text": [
      "Epoch 16/30 - Train Loss: 0.9030 - Validation Loss: 0.7416\n"
     ]
    },
    {
     "data": {
      "application/vnd.jupyter.widget-view+json": {
       "model_id": "5d8b326b2e4a4b10b45dbf727f674d9d",
       "version_major": 2,
       "version_minor": 0
      },
      "text/plain": [
       "  0%|          | 0/30 [00:00<?, ?it/s]"
      ]
     },
     "metadata": {},
     "output_type": "display_data"
    },
    {
     "name": "stdout",
     "output_type": "stream",
     "text": [
      "Epoch 17/30 - Train Loss: 0.8545 - Validation Loss: 0.7431\n"
     ]
    },
    {
     "data": {
      "application/vnd.jupyter.widget-view+json": {
       "model_id": "a633ac480c07498487b5e130dfe2177a",
       "version_major": 2,
       "version_minor": 0
      },
      "text/plain": [
       "  0%|          | 0/30 [00:00<?, ?it/s]"
      ]
     },
     "metadata": {},
     "output_type": "display_data"
    },
    {
     "name": "stdout",
     "output_type": "stream",
     "text": [
      "Epoch 18/30 - Train Loss: 0.8886 - Validation Loss: 0.8102\n"
     ]
    },
    {
     "data": {
      "application/vnd.jupyter.widget-view+json": {
       "model_id": "0dc7a2c44324453185cacae285836e38",
       "version_major": 2,
       "version_minor": 0
      },
      "text/plain": [
       "  0%|          | 0/30 [00:00<?, ?it/s]"
      ]
     },
     "metadata": {},
     "output_type": "display_data"
    },
    {
     "name": "stdout",
     "output_type": "stream",
     "text": [
      "Epoch 19/30 - Train Loss: 0.8613 - Validation Loss: 0.7044\n"
     ]
    },
    {
     "data": {
      "application/vnd.jupyter.widget-view+json": {
       "model_id": "ac900c93418840938a3948a5b183bb1c",
       "version_major": 2,
       "version_minor": 0
      },
      "text/plain": [
       "  0%|          | 0/30 [00:00<?, ?it/s]"
      ]
     },
     "metadata": {},
     "output_type": "display_data"
    },
    {
     "name": "stdout",
     "output_type": "stream",
     "text": [
      "Epoch 20/30 - Train Loss: 0.8414 - Validation Loss: 0.7191\n"
     ]
    },
    {
     "data": {
      "application/vnd.jupyter.widget-view+json": {
       "model_id": "9f406e0a8fdb43449249172f3e286ed7",
       "version_major": 2,
       "version_minor": 0
      },
      "text/plain": [
       "  0%|          | 0/30 [00:00<?, ?it/s]"
      ]
     },
     "metadata": {},
     "output_type": "display_data"
    },
    {
     "name": "stdout",
     "output_type": "stream",
     "text": [
      "Epoch 21/30 - Train Loss: 0.9564 - Validation Loss: 0.7256\n"
     ]
    },
    {
     "data": {
      "application/vnd.jupyter.widget-view+json": {
       "model_id": "844b33ec026a4d1caf5c833a0d74b82e",
       "version_major": 2,
       "version_minor": 0
      },
      "text/plain": [
       "  0%|          | 0/30 [00:00<?, ?it/s]"
      ]
     },
     "metadata": {},
     "output_type": "display_data"
    },
    {
     "name": "stdout",
     "output_type": "stream",
     "text": [
      "Epoch 22/30 - Train Loss: 0.9219 - Validation Loss: 0.8731\n"
     ]
    },
    {
     "data": {
      "application/vnd.jupyter.widget-view+json": {
       "model_id": "016ff5bd7c574cd99db1abaf68d5f66d",
       "version_major": 2,
       "version_minor": 0
      },
      "text/plain": [
       "  0%|          | 0/30 [00:00<?, ?it/s]"
      ]
     },
     "metadata": {},
     "output_type": "display_data"
    },
    {
     "name": "stdout",
     "output_type": "stream",
     "text": [
      "Epoch 23/30 - Train Loss: 0.8571 - Validation Loss: 0.7198\n"
     ]
    },
    {
     "data": {
      "application/vnd.jupyter.widget-view+json": {
       "model_id": "b98f8345d59545ca93adc1297fc6b3df",
       "version_major": 2,
       "version_minor": 0
      },
      "text/plain": [
       "  0%|          | 0/30 [00:00<?, ?it/s]"
      ]
     },
     "metadata": {},
     "output_type": "display_data"
    },
    {
     "name": "stdout",
     "output_type": "stream",
     "text": [
      "Epoch 24/30 - Train Loss: 0.8738 - Validation Loss: 0.7008\n"
     ]
    },
    {
     "data": {
      "application/vnd.jupyter.widget-view+json": {
       "model_id": "a376ffd060f04527b0e3171bef10e4cd",
       "version_major": 2,
       "version_minor": 0
      },
      "text/plain": [
       "  0%|          | 0/30 [00:00<?, ?it/s]"
      ]
     },
     "metadata": {},
     "output_type": "display_data"
    },
    {
     "name": "stdout",
     "output_type": "stream",
     "text": [
      "Epoch 25/30 - Train Loss: 0.8834 - Validation Loss: 0.7655\n"
     ]
    },
    {
     "data": {
      "application/vnd.jupyter.widget-view+json": {
       "model_id": "026a2bd183dd4e7797355adfb6c378ed",
       "version_major": 2,
       "version_minor": 0
      },
      "text/plain": [
       "  0%|          | 0/30 [00:00<?, ?it/s]"
      ]
     },
     "metadata": {},
     "output_type": "display_data"
    },
    {
     "name": "stdout",
     "output_type": "stream",
     "text": [
      "Epoch 26/30 - Train Loss: 0.8811 - Validation Loss: 1.1493\n"
     ]
    },
    {
     "data": {
      "application/vnd.jupyter.widget-view+json": {
       "model_id": "8e9c5006c4ba45b2936353997b1b6f01",
       "version_major": 2,
       "version_minor": 0
      },
      "text/plain": [
       "  0%|          | 0/30 [00:00<?, ?it/s]"
      ]
     },
     "metadata": {},
     "output_type": "display_data"
    },
    {
     "name": "stdout",
     "output_type": "stream",
     "text": [
      "Epoch 27/30 - Train Loss: 0.8764 - Validation Loss: 0.7266\n"
     ]
    },
    {
     "data": {
      "application/vnd.jupyter.widget-view+json": {
       "model_id": "d3fab70340134de58660a9b5509eaa13",
       "version_major": 2,
       "version_minor": 0
      },
      "text/plain": [
       "  0%|          | 0/30 [00:00<?, ?it/s]"
      ]
     },
     "metadata": {},
     "output_type": "display_data"
    },
    {
     "name": "stdout",
     "output_type": "stream",
     "text": [
      "Epoch 28/30 - Train Loss: 0.8968 - Validation Loss: 0.7008\n"
     ]
    },
    {
     "data": {
      "application/vnd.jupyter.widget-view+json": {
       "model_id": "4a4699978afa4eef999c58850a6ee80d",
       "version_major": 2,
       "version_minor": 0
      },
      "text/plain": [
       "  0%|          | 0/30 [00:00<?, ?it/s]"
      ]
     },
     "metadata": {},
     "output_type": "display_data"
    },
    {
     "name": "stdout",
     "output_type": "stream",
     "text": [
      "Epoch 29/30 - Train Loss: 0.8229 - Validation Loss: 0.6996\n"
     ]
    },
    {
     "data": {
      "application/vnd.jupyter.widget-view+json": {
       "model_id": "5bb1e36abdf84b87a93d9c798b2f68cb",
       "version_major": 2,
       "version_minor": 0
      },
      "text/plain": [
       "  0%|          | 0/30 [00:00<?, ?it/s]"
      ]
     },
     "metadata": {},
     "output_type": "display_data"
    },
    {
     "name": "stdout",
     "output_type": "stream",
     "text": [
      "Epoch 30/30 - Train Loss: 0.8413 - Validation Loss: 0.7306\n"
     ]
    }
   ],
   "source": [
    "history = train(model=model,\n",
    "      train_loader=train_dataloader,\n",
    "      val_loader=valid_dataloader,\n",
    "      loss_fn=loss_func,\n",
    "      optimizer=optimizer,\n",
    "      device=\"cpu\",\n",
    "      epochs=30)"
   ]
  },
  {
   "cell_type": "code",
   "execution_count": 56,
   "id": "0626150d-8234-4571-852a-f014f8f2218f",
   "metadata": {},
   "outputs": [
    {
     "data": {
      "text/plain": [
       "dict_keys(['train_loss', 'val_loss'])"
      ]
     },
     "execution_count": 56,
     "metadata": {},
     "output_type": "execute_result"
    }
   ],
   "source": [
    "history.keys()"
   ]
  },
  {
   "cell_type": "code",
   "execution_count": 53,
   "id": "612a7c02-8806-42a3-970f-bdd83fe901d2",
   "metadata": {},
   "outputs": [],
   "source": [
    "epochs = list(range(30))"
   ]
  },
  {
   "cell_type": "code",
   "execution_count": 62,
   "id": "4446a6e6-3e66-4fd0-b319-497281558b16",
   "metadata": {},
   "outputs": [
    {
     "data": {
      "text/plain": [
       "Text(0.5, 0, 'Loss')"
      ]
     },
     "execution_count": 62,
     "metadata": {},
     "output_type": "execute_result"
    },
    {
     "data": {
      "image/png": "[encoded data removed]",
      "text/plain": [
       "<Figure size 640x480 with 1 Axes>"
      ]
     },
     "metadata": {},
     "output_type": "display_data"
    }
   ],
   "source": [
    "ax = sns.lineplot(x=epochs, y=history[\"train_loss\"], label=\"train\")\n",
    "ax = sns.lineplot(x=epochs, y=history[\"val_loss\"], label=\"valid\")\n",
    "\n",
    "ax.set_xlabel(\"Epoches\")\n",
    "ax.set_xlabel(\"Loss\")"
   ]
  }
 ],
 "metadata": {
  "kernelspec": {
   "display_name": "Python 3 (ipykernel)",
   "language": "python",
   "name": "python3"
  },
  "language_info": {
   "codemirror_mode": {
    "name": "ipython",
    "version": 3
   },
   "file_extension": ".py",
   "mimetype": "text/x-python",
   "name": "python",
   "nbconvert_exporter": "python",
   "pygments_lexer": "ipython3",
   "version": "3.10.16"
  }
 },
 "nbformat": 4,
 "nbformat_minor": 5
}
