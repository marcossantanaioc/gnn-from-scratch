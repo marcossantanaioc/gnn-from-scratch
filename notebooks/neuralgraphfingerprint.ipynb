{
 "cells": [
  {
   "cell_type": "code",
   "execution_count": 1,
   "id": "95226085-0134-4137-9c58-aafe08995392",
   "metadata": {},
   "outputs": [
    {
     "name": "stdout",
     "output_type": "stream",
     "text": [
      "Running on CPU\n"
     ]
    },
    {
     "name": "stderr",
     "output_type": "stream",
     "text": [
      "/home/marcossantana/anaconda3/envs/cheminformatics-env/lib/python3.10/site-packages/torch/cuda/__init__.py:129: UserWarning: CUDA initialization: CUDA unknown error - this may be due to an incorrectly set up environment, e.g. changing env variable CUDA_VISIBLE_DEVICES after program start. Setting the available devices to be zero. (Triggered internally at /pytorch/c10/cuda/CUDAFunctions.cpp:109.)\n",
      "  return torch._C._cuda_getDeviceCount() > 0\n"
     ]
    }
   ],
   "source": [
    "import numpy as np\n",
    "import pandas as pd\n",
    "import torch\n",
    "from rdkit import Chem\n",
    "from sklearn import model_selection as sk_modelselection\n",
    "from torch.nn import functional as F\n",
    "from torch import nn\n",
    "\n",
    "from torch.utils.data import DataLoader, Dataset\n",
    "import functools\n",
    "from graphmodels import constants, datasets, data_utils\n",
    "from graphmodels import models as graphmodel_factory\n",
    "from tqdm.notebook import tqdm\n",
    "device = \"cpu\"\n",
    "if torch.cuda.is_available():\n",
    "    print(\"GPU is available\")\n",
    "    device = \"cuda\"\n",
    "else:\n",
    "    print(\"Running on CPU\")"
   ]
  },
  {
   "cell_type": "markdown",
   "id": "580c5e9a-91ae-4fbc-ab17-32f3d9c1835a",
   "metadata": {},
   "source": [
    "# Load data"
   ]
  },
  {
   "cell_type": "code",
   "execution_count": 2,
   "id": "9f4dcde7-c100-4572-ba4d-b169cc7414ae",
   "metadata": {},
   "outputs": [],
   "source": [
    "sol_df = pd.read_csv(\"../datasets/chemistry/delaney-processed.csv\")"
   ]
  },
  {
   "cell_type": "code",
   "execution_count": 3,
   "id": "c7ead05f-15d8-4392-be3a-14cd7f98ee07",
   "metadata": {},
   "outputs": [
    {
     "name": "stdout",
     "output_type": "stream",
     "text": [
      "Max num atoms = 55\n"
     ]
    }
   ],
   "source": [
    "sol_df[\"mol\"] = sol_df[\"smiles\"].apply(Chem.MolFromSmiles)\n",
    "sol_df[\"num_atoms\"] = sol_df[\"mol\"].apply(lambda x : x.GetNumAtoms())\n",
    "MAX_NUM_ATOMS = sol_df[\"num_atoms\"].max()\n",
    "print(f\"Max num atoms = {MAX_NUM_ATOMS}\")"
   ]
  },
  {
   "cell_type": "code",
   "execution_count": 4,
   "id": "d93344cd-1570-4882-9ddf-246a3b038016",
   "metadata": {},
   "outputs": [],
   "source": [
    "# Split data\n",
    "train_df, test_df = sk_modelselection.train_test_split(sol_df, test_size=0.2, random_state=42, shuffle=True)\n",
    "train_df, valid_df = sk_modelselection.train_test_split(train_df, test_size=0.15, random_state=42, shuffle=True)"
   ]
  },
  {
   "cell_type": "code",
   "execution_count": 5,
   "id": "c80f5b9f-addd-416d-b72f-205beea65ccd",
   "metadata": {},
   "outputs": [
    {
     "data": {
      "text/plain": [
       "((766, 12), (226, 12), (136, 12))"
      ]
     },
     "execution_count": 5,
     "metadata": {},
     "output_type": "execute_result"
    }
   ],
   "source": [
    "train_df.shape, test_df.shape, valid_df.shape"
   ]
  },
  {
   "cell_type": "code",
   "execution_count": 6,
   "id": "b47bb606-b9f0-4239-9324-a4be25986a67",
   "metadata": {},
   "outputs": [
    {
     "data": {
      "text/html": [
       "<div>\n",
       "<style scoped>\n",
       "    .dataframe tbody tr th:only-of-type {\n",
       "        vertical-align: middle;\n",
       "    }\n",
       "\n",
       "    .dataframe tbody tr th {\n",
       "        vertical-align: top;\n",
       "    }\n",
       "\n",
       "    .dataframe thead th {\n",
       "        text-align: right;\n",
       "    }\n",
       "</style>\n",
       "<table border=\"1\" class=\"dataframe\">\n",
       "  <thead>\n",
       "    <tr style=\"text-align: right;\">\n",
       "      <th></th>\n",
       "      <th>Compound ID</th>\n",
       "      <th>ESOL predicted log solubility in mols per litre</th>\n",
       "      <th>Minimum Degree</th>\n",
       "      <th>Molecular Weight</th>\n",
       "      <th>Number of H-Bond Donors</th>\n",
       "      <th>Number of Rings</th>\n",
       "      <th>Number of Rotatable Bonds</th>\n",
       "      <th>Polar Surface Area</th>\n",
       "      <th>measured log solubility in mols per litre</th>\n",
       "      <th>smiles</th>\n",
       "      <th>mol</th>\n",
       "      <th>num_atoms</th>\n",
       "    </tr>\n",
       "  </thead>\n",
       "  <tbody>\n",
       "    <tr>\n",
       "      <th>456</th>\n",
       "      <td>Etomidate</td>\n",
       "      <td>-3.359</td>\n",
       "      <td>1</td>\n",
       "      <td>244.294</td>\n",
       "      <td>0</td>\n",
       "      <td>2</td>\n",
       "      <td>4</td>\n",
       "      <td>44.12</td>\n",
       "      <td>-4.735</td>\n",
       "      <td>CCOC(=O)c1cncn1C(C)c2ccccc2</td>\n",
       "      <td>&lt;rdkit.Chem.rdchem.Mol object at 0x7fa5e88eaab0&gt;</td>\n",
       "      <td>18</td>\n",
       "    </tr>\n",
       "    <tr>\n",
       "      <th>938</th>\n",
       "      <td>isoguanine</td>\n",
       "      <td>-1.740</td>\n",
       "      <td>1</td>\n",
       "      <td>151.129</td>\n",
       "      <td>3</td>\n",
       "      <td>2</td>\n",
       "      <td>0</td>\n",
       "      <td>100.71</td>\n",
       "      <td>-3.401</td>\n",
       "      <td>Nc1nc(O)nc2nc[nH]c12</td>\n",
       "      <td>&lt;rdkit.Chem.rdchem.Mol object at 0x7fa5e88f7f40&gt;</td>\n",
       "      <td>11</td>\n",
       "    </tr>\n",
       "    <tr>\n",
       "      <th>925</th>\n",
       "      <td>RTI 6</td>\n",
       "      <td>-3.335</td>\n",
       "      <td>1</td>\n",
       "      <td>313.361</td>\n",
       "      <td>2</td>\n",
       "      <td>3</td>\n",
       "      <td>4</td>\n",
       "      <td>81.59</td>\n",
       "      <td>-3.360</td>\n",
       "      <td>CCN2c1nc(N(C)(CCO))ccc1NC(=O)c3cccnc23</td>\n",
       "      <td>&lt;rdkit.Chem.rdchem.Mol object at 0x7fa5e88f7990&gt;</td>\n",
       "      <td>23</td>\n",
       "    </tr>\n",
       "    <tr>\n",
       "      <th>810</th>\n",
       "      <td>Tetrahydropyran</td>\n",
       "      <td>-0.978</td>\n",
       "      <td>2</td>\n",
       "      <td>86.134</td>\n",
       "      <td>0</td>\n",
       "      <td>1</td>\n",
       "      <td>0</td>\n",
       "      <td>9.23</td>\n",
       "      <td>-0.030</td>\n",
       "      <td>C1CCOCC1</td>\n",
       "      <td>&lt;rdkit.Chem.rdchem.Mol object at 0x7fa5e88f4740&gt;</td>\n",
       "      <td>6</td>\n",
       "    </tr>\n",
       "    <tr>\n",
       "      <th>495</th>\n",
       "      <td>Minoxidil</td>\n",
       "      <td>-1.809</td>\n",
       "      <td>1</td>\n",
       "      <td>209.253</td>\n",
       "      <td>2</td>\n",
       "      <td>2</td>\n",
       "      <td>1</td>\n",
       "      <td>95.11</td>\n",
       "      <td>-1.989</td>\n",
       "      <td>Nc1cc(nc(N)n1=O)N2CCCCC2</td>\n",
       "      <td>&lt;rdkit.Chem.rdchem.Mol object at 0x7fa5e88ebbc0&gt;</td>\n",
       "      <td>15</td>\n",
       "    </tr>\n",
       "    <tr>\n",
       "      <th>...</th>\n",
       "      <td>...</td>\n",
       "      <td>...</td>\n",
       "      <td>...</td>\n",
       "      <td>...</td>\n",
       "      <td>...</td>\n",
       "      <td>...</td>\n",
       "      <td>...</td>\n",
       "      <td>...</td>\n",
       "      <td>...</td>\n",
       "      <td>...</td>\n",
       "      <td>...</td>\n",
       "      <td>...</td>\n",
       "    </tr>\n",
       "    <tr>\n",
       "      <th>837</th>\n",
       "      <td>Metoxuron</td>\n",
       "      <td>-2.683</td>\n",
       "      <td>1</td>\n",
       "      <td>228.679</td>\n",
       "      <td>1</td>\n",
       "      <td>1</td>\n",
       "      <td>2</td>\n",
       "      <td>41.57</td>\n",
       "      <td>-2.564</td>\n",
       "      <td>COc1ccc(NC(=O)N(C)C)cc1Cl</td>\n",
       "      <td>&lt;rdkit.Chem.rdchem.Mol object at 0x7fa5e88f5310&gt;</td>\n",
       "      <td>15</td>\n",
       "    </tr>\n",
       "    <tr>\n",
       "      <th>587</th>\n",
       "      <td>benodanil</td>\n",
       "      <td>-4.245</td>\n",
       "      <td>1</td>\n",
       "      <td>323.133</td>\n",
       "      <td>1</td>\n",
       "      <td>2</td>\n",
       "      <td>2</td>\n",
       "      <td>29.10</td>\n",
       "      <td>-4.210</td>\n",
       "      <td>c1c(NC(=O)c2ccccc2(I))cccc1</td>\n",
       "      <td>&lt;rdkit.Chem.rdchem.Mol object at 0x7fa5e88ee490&gt;</td>\n",
       "      <td>16</td>\n",
       "    </tr>\n",
       "    <tr>\n",
       "      <th>776</th>\n",
       "      <td>1-Methylcyclohexene</td>\n",
       "      <td>-2.574</td>\n",
       "      <td>1</td>\n",
       "      <td>96.173</td>\n",
       "      <td>0</td>\n",
       "      <td>1</td>\n",
       "      <td>0</td>\n",
       "      <td>0.00</td>\n",
       "      <td>-3.270</td>\n",
       "      <td>CC1=CCCCC1</td>\n",
       "      <td>&lt;rdkit.Chem.rdchem.Mol object at 0x7fa5e88f37d0&gt;</td>\n",
       "      <td>7</td>\n",
       "    </tr>\n",
       "    <tr>\n",
       "      <th>153</th>\n",
       "      <td>1-Chloropentane</td>\n",
       "      <td>-2.294</td>\n",
       "      <td>1</td>\n",
       "      <td>106.596</td>\n",
       "      <td>0</td>\n",
       "      <td>0</td>\n",
       "      <td>3</td>\n",
       "      <td>0.00</td>\n",
       "      <td>-2.730</td>\n",
       "      <td>CCCCCCl</td>\n",
       "      <td>&lt;rdkit.Chem.rdchem.Mol object at 0x7fa5e88de500&gt;</td>\n",
       "      <td>6</td>\n",
       "    </tr>\n",
       "    <tr>\n",
       "      <th>29</th>\n",
       "      <td>Methyl octanoate</td>\n",
       "      <td>-2.608</td>\n",
       "      <td>1</td>\n",
       "      <td>158.241</td>\n",
       "      <td>0</td>\n",
       "      <td>0</td>\n",
       "      <td>6</td>\n",
       "      <td>26.30</td>\n",
       "      <td>-3.170</td>\n",
       "      <td>CCCCCCCC(=O)OC</td>\n",
       "      <td>&lt;rdkit.Chem.rdchem.Mol object at 0x7fa5e8a62e30&gt;</td>\n",
       "      <td>11</td>\n",
       "    </tr>\n",
       "  </tbody>\n",
       "</table>\n",
       "<p>766 rows × 12 columns</p>\n",
       "</div>"
      ],
      "text/plain": [
       "              Compound ID  ESOL predicted log solubility in mols per litre   \n",
       "456             Etomidate                                           -3.359  \\\n",
       "938            isoguanine                                           -1.740   \n",
       "925                 RTI 6                                           -3.335   \n",
       "810      Tetrahydropyran                                            -0.978   \n",
       "495             Minoxidil                                           -1.809   \n",
       "..                    ...                                              ...   \n",
       "837             Metoxuron                                           -2.683   \n",
       "587             benodanil                                           -4.245   \n",
       "776  1-Methylcyclohexene                                            -2.574   \n",
       "153       1-Chloropentane                                           -2.294   \n",
       "29       Methyl octanoate                                           -2.608   \n",
       "\n",
       "     Minimum Degree  Molecular Weight  Number of H-Bond Donors   \n",
       "456               1           244.294                        0  \\\n",
       "938               1           151.129                        3   \n",
       "925               1           313.361                        2   \n",
       "810               2            86.134                        0   \n",
       "495               1           209.253                        2   \n",
       "..              ...               ...                      ...   \n",
       "837               1           228.679                        1   \n",
       "587               1           323.133                        1   \n",
       "776               1            96.173                        0   \n",
       "153               1           106.596                        0   \n",
       "29                1           158.241                        0   \n",
       "\n",
       "     Number of Rings  Number of Rotatable Bonds  Polar Surface Area   \n",
       "456                2                          4               44.12  \\\n",
       "938                2                          0              100.71   \n",
       "925                3                          4               81.59   \n",
       "810                1                          0                9.23   \n",
       "495                2                          1               95.11   \n",
       "..               ...                        ...                 ...   \n",
       "837                1                          2               41.57   \n",
       "587                2                          2               29.10   \n",
       "776                1                          0                0.00   \n",
       "153                0                          3                0.00   \n",
       "29                 0                          6               26.30   \n",
       "\n",
       "     measured log solubility in mols per litre   \n",
       "456                                     -4.735  \\\n",
       "938                                     -3.401   \n",
       "925                                     -3.360   \n",
       "810                                     -0.030   \n",
       "495                                     -1.989   \n",
       "..                                         ...   \n",
       "837                                     -2.564   \n",
       "587                                     -4.210   \n",
       "776                                     -3.270   \n",
       "153                                     -2.730   \n",
       "29                                      -3.170   \n",
       "\n",
       "                                      smiles   \n",
       "456              CCOC(=O)c1cncn1C(C)c2ccccc2  \\\n",
       "938                    Nc1nc(O)nc2nc[nH]c12    \n",
       "925  CCN2c1nc(N(C)(CCO))ccc1NC(=O)c3cccnc23    \n",
       "810                                 C1CCOCC1   \n",
       "495                Nc1cc(nc(N)n1=O)N2CCCCC2    \n",
       "..                                       ...   \n",
       "837                COc1ccc(NC(=O)N(C)C)cc1Cl   \n",
       "587              c1c(NC(=O)c2ccccc2(I))cccc1   \n",
       "776                               CC1=CCCCC1   \n",
       "153                                  CCCCCCl   \n",
       "29                            CCCCCCCC(=O)OC   \n",
       "\n",
       "                                                  mol  num_atoms  \n",
       "456  <rdkit.Chem.rdchem.Mol object at 0x7fa5e88eaab0>         18  \n",
       "938  <rdkit.Chem.rdchem.Mol object at 0x7fa5e88f7f40>         11  \n",
       "925  <rdkit.Chem.rdchem.Mol object at 0x7fa5e88f7990>         23  \n",
       "810  <rdkit.Chem.rdchem.Mol object at 0x7fa5e88f4740>          6  \n",
       "495  <rdkit.Chem.rdchem.Mol object at 0x7fa5e88ebbc0>         15  \n",
       "..                                                ...        ...  \n",
       "837  <rdkit.Chem.rdchem.Mol object at 0x7fa5e88f5310>         15  \n",
       "587  <rdkit.Chem.rdchem.Mol object at 0x7fa5e88ee490>         16  \n",
       "776  <rdkit.Chem.rdchem.Mol object at 0x7fa5e88f37d0>          7  \n",
       "153  <rdkit.Chem.rdchem.Mol object at 0x7fa5e88de500>          6  \n",
       "29   <rdkit.Chem.rdchem.Mol object at 0x7fa5e8a62e30>         11  \n",
       "\n",
       "[766 rows x 12 columns]"
      ]
     },
     "execution_count": 6,
     "metadata": {},
     "output_type": "execute_result"
    }
   ],
   "source": [
    "train_df"
   ]
  },
  {
   "cell_type": "markdown",
   "id": "7cb5d6eb-8d7f-4d6e-82bc-c54ae265bdd2",
   "metadata": {},
   "source": [
    "# Create datasets"
   ]
  },
  {
   "cell_type": "code",
   "execution_count": 7,
   "id": "b715098c-b96f-49f5-9513-07d62e384555",
   "metadata": {},
   "outputs": [],
   "source": [
    "train_dset = datasets.NeuralFingerprintDataset(smiles=tuple(train_df[\"smiles\"]),\n",
    "                                               targets=tuple(train_df[\"measured log solubility in mols per litre\"]))\n",
    "\n",
    "valid_dset = datasets.NeuralFingerprintDataset(smiles=tuple(valid_df[\"smiles\"]),\n",
    "                                               targets=tuple(valid_df[\"measured log solubility in mols per litre\"]))\n",
    "\n",
    "test_dset = datasets.NeuralFingerprintDataset(smiles=tuple(test_df[\"smiles\"]),\n",
    "                                               targets=tuple(test_df[\"measured log solubility in mols per litre\"]))"
   ]
  },
  {
   "cell_type": "code",
   "execution_count": 8,
   "id": "97b9f860-17dd-45ed-b935-025ab16c0f13",
   "metadata": {},
   "outputs": [],
   "source": [
    "train_dataloader = DataLoader(dataset=train_dset,\n",
    "                              batch_size=32,\n",
    "                              shuffle=True,\n",
    "                              collate_fn=functools.partial(data_utils.neuralgraph_longest_collate,\n",
    "                                                           max_num_atoms=MAX_NUM_ATOMS))\n",
    "\n",
    "valid_dataloader = DataLoader(dataset=valid_dset,\n",
    "                              batch_size=32,\n",
    "                              shuffle=False,\n",
    "                              collate_fn=functools.partial(data_utils.neuralgraph_longest_collate,\n",
    "                                                           max_num_atoms=MAX_NUM_ATOMS))\n",
    "\n",
    "test_dataloader = DataLoader(dataset=test_dset,\n",
    "                              batch_size=32,\n",
    "                              shuffle=False,\n",
    "                              collate_fn=functools.partial(data_utils.neuralgraph_longest_collate,\n",
    "                                                           max_num_atoms=MAX_NUM_ATOMS))"
   ]
  },
  {
   "cell_type": "code",
   "execution_count": 15,
   "id": "dc5d5f5f-dd4b-4d33-b366-20075462e2c5",
   "metadata": {},
   "outputs": [],
   "source": [
    "first_batch = next(iter(train_dataloader))"
   ]
  },
  {
   "cell_type": "code",
   "execution_count": 16,
   "id": "e00825e4-5aff-458e-a3a8-e7ce7c1198e5",
   "metadata": {},
   "outputs": [],
   "source": [
    "a,b,c,t = first_batch"
   ]
  },
  {
   "cell_type": "code",
   "execution_count": 17,
   "id": "d44b0980-39fa-411d-9df2-1ae199580fe2",
   "metadata": {},
   "outputs": [
    {
     "data": {
      "text/plain": [
       "torch.Size([32])"
      ]
     },
     "execution_count": 17,
     "metadata": {},
     "output_type": "execute_result"
    }
   ],
   "source": [
    "t.shape"
   ]
  },
  {
   "cell_type": "markdown",
   "id": "1cc593ba-8491-47f4-9a92-75bece93b431",
   "metadata": {},
   "source": [
    "# Train model"
   ]
  },
  {
   "cell_type": "code",
   "execution_count": 9,
   "id": "10965f8e-3330-432c-9b58-90f45a9cef50",
   "metadata": {},
   "outputs": [],
   "source": [
    "LEARNING_RATE: int = 1e-3\n",
    "BATCH_SIZE: int = 64\n",
    "N_EPOCHS: int = 5"
   ]
  },
  {
   "cell_type": "code",
   "execution_count": 40,
   "id": "821e73f9-715b-466b-a2be-f76f5e767bca",
   "metadata": {},
   "outputs": [
    {
     "name": "stdout",
     "output_type": "stream",
     "text": [
      "NeuralGraphFingerprintModel(\n",
      "  (lin_layer): Linear(in_features=296, out_features=200, bias=True)\n",
      "  (out_layer): Linear(in_features=200, out_features=1, bias=True)\n",
      ")\n"
     ]
    }
   ],
   "source": [
    "model = graphmodel_factory.NeuralGraphFingerprintModel(num_input_features=(constants.NUM_ATOM_FEATURES*2+constants.NUM_BOND_FEATURES),\n",
    "                                                       num_hidden_units=200,\n",
    "                                                       num_output_units=1)\n",
    "print(model)"
   ]
  },
  {
   "cell_type": "code",
   "execution_count": 41,
   "id": "e6dc0a57-61bc-465c-a684-a42991b4a20b",
   "metadata": {},
   "outputs": [],
   "source": [
    "# Define loss function\n",
    "loss_func = nn.MSELoss()"
   ]
  },
  {
   "cell_type": "code",
   "execution_count": 42,
   "id": "12741cd9-3286-497e-962c-d4af1f464f15",
   "metadata": {},
   "outputs": [],
   "source": [
    "# Define optimizer\n",
    "optimizer = torch.optim.Adam(model.parameters(), lr=LEARNING_RATE)"
   ]
  },
  {
   "cell_type": "code",
   "execution_count": 43,
   "id": "2c3d7d13-c4a5-4402-98d0-0dfefce57541",
   "metadata": {},
   "outputs": [],
   "source": [
    "def validate(model, val_loader, loss_fn, device):\n",
    "    \"\"\"\n",
    "    Validate the model on the validation dataset.\n",
    "\n",
    "    Args:\n",
    "        model (torch.nn.Module): The neural network model.\n",
    "        val_loader (DataLoader): DataLoader for validation data.\n",
    "        loss_fn (callable): Loss function.\n",
    "        device (torch.device): Device to run the validation on ('cpu' or 'cuda').\n",
    "\n",
    "    Returns:\n",
    "        float: Average validation loss.\n",
    "    \"\"\"\n",
    "    model.eval()\n",
    "    running_val_loss = 0.0\n",
    "\n",
    "    with torch.no_grad():\n",
    "        for atom_features, bond_features, adj_matrix, target in val_loader:\n",
    "            atom_features = atom_features.to(device)\n",
    "            bond_features = bond_features.to(device)\n",
    "            adj_matrix = adj_matrix.to(device)\n",
    "            target = target.to(device)\n",
    "            \n",
    "            pred = model((atom_features, bond_features, adj_matrix)).squeeze(-1)\n",
    "            loss = loss_fn(pred, target)\n",
    "            running_val_loss += loss.item()\n",
    "\n",
    "    avg_val_loss = running_val_loss / len(val_loader)\n",
    "    return avg_val_loss\n",
    "    \n",
    "def train(*, model, train_loader, val_loader, loss_fn, optimizer, device, epochs):\n",
    "    \"\"\"\n",
    "    Train the model and validate after each epoch.\n",
    "\n",
    "    Args:\n",
    "        model (torch.nn.Module): The neural network model.\n",
    "        train_loader (DataLoader): DataLoader for training data.\n",
    "        val_loader (DataLoader): DataLoader for validation data.\n",
    "        loss_fn (callable): Loss function.\n",
    "        optimizer (torch.optim.Optimizer): Optimizer.\n",
    "        device (torch.device): Device to run the training on ('cpu' or 'cuda').\n",
    "        epochs (int): Number of training epochs.\n",
    "\n",
    "    Returns:\n",
    "        dict: Training and validation losses per epoch.\n",
    "    \"\"\"\n",
    "    model.to(device)\n",
    "    history = {'train_loss': [], 'val_loss': []}\n",
    "\n",
    "    for epoch in range(epochs):\n",
    "        model.train()\n",
    "        running_train_loss = 0.0\n",
    "        for batch, (atom_features, bond_features, adj_matrix, target) in tqdm(enumerate(train_loader, 0),\n",
    "                                                                              total=epochs, leave=False):\n",
    "            atom_features = atom_features.to(device)\n",
    "            bond_features = bond_features.to(device)\n",
    "            adj_matrix = adj_matrix.to(device)\n",
    "            target = target.to(device)\n",
    "\n",
    "            optimizer.zero_grad()\n",
    "            pred = model((atom_features, bond_features, adj_matrix)).squeeze(-1)\n",
    "            loss = loss_fn(pred, target)\n",
    "            loss.backward()\n",
    "            optimizer.step()\n",
    "\n",
    "            running_train_loss += loss.item()\n",
    "\n",
    "        avg_train_loss = running_train_loss / len(train_loader)\n",
    "        history['train_loss'].append(avg_train_loss)\n",
    "\n",
    "        avg_val_loss = validate(model, val_loader, loss_fn, device)\n",
    "        history['val_loss'].append(avg_val_loss)\n",
    "\n",
    "        print(f\"Epoch {epoch+1}/{epochs} - \"\n",
    "              f\"Train Loss: {avg_train_loss:.4f} - \"\n",
    "              f\"Validation Loss: {avg_val_loss:.4f}\")\n",
    "\n",
    "    return history"
   ]
  },
  {
   "cell_type": "code",
   "execution_count": null,
   "id": "bfa78af3-9a60-469b-a6ce-8032f06cc5fe",
   "metadata": {},
   "outputs": [
    {
     "data": {
      "application/vnd.jupyter.widget-view+json": {
       "model_id": "8e1e3098249f40ada816d189b2418dfa",
       "version_major": 2,
       "version_minor": 0
      },
      "text/plain": [
       "  0%|          | 0/30 [00:00<?, ?it/s]"
      ]
     },
     "metadata": {},
     "output_type": "display_data"
    },
    {
     "name": "stdout",
     "output_type": "stream",
     "text": [
      "Epoch 1/30 - Train Loss: 2.4763 - Validation Loss: 1.4923\n"
     ]
    },
    {
     "data": {
      "application/vnd.jupyter.widget-view+json": {
       "model_id": "72a06535b20845d4b4bea3609631bdc0",
       "version_major": 2,
       "version_minor": 0
      },
      "text/plain": [
       "  0%|          | 0/30 [00:00<?, ?it/s]"
      ]
     },
     "metadata": {},
     "output_type": "display_data"
    },
    {
     "name": "stdout",
     "output_type": "stream",
     "text": [
      "Epoch 2/30 - Train Loss: 1.4068 - Validation Loss: 1.0765\n"
     ]
    },
    {
     "data": {
      "application/vnd.jupyter.widget-view+json": {
       "model_id": "4cc7dd1df02741798a718da7af2d2e19",
       "version_major": 2,
       "version_minor": 0
      },
      "text/plain": [
       "  0%|          | 0/30 [00:00<?, ?it/s]"
      ]
     },
     "metadata": {},
     "output_type": "display_data"
    },
    {
     "name": "stdout",
     "output_type": "stream",
     "text": [
      "Epoch 3/30 - Train Loss: 1.2360 - Validation Loss: 1.1630\n"
     ]
    },
    {
     "data": {
      "application/vnd.jupyter.widget-view+json": {
       "model_id": "87e6d89145344f168a31b948529cf599",
       "version_major": 2,
       "version_minor": 0
      },
      "text/plain": [
       "  0%|          | 0/30 [00:00<?, ?it/s]"
      ]
     },
     "metadata": {},
     "output_type": "display_data"
    },
    {
     "name": "stdout",
     "output_type": "stream",
     "text": [
      "Epoch 4/30 - Train Loss: 1.1826 - Validation Loss: 0.9540\n"
     ]
    },
    {
     "data": {
      "application/vnd.jupyter.widget-view+json": {
       "model_id": "3e8aaf5cbcef47b8bb05c86988614fce",
       "version_major": 2,
       "version_minor": 0
      },
      "text/plain": [
       "  0%|          | 0/30 [00:00<?, ?it/s]"
      ]
     },
     "metadata": {},
     "output_type": "display_data"
    },
    {
     "name": "stdout",
     "output_type": "stream",
     "text": [
      "Epoch 5/30 - Train Loss: 1.0757 - Validation Loss: 0.9213\n"
     ]
    },
    {
     "data": {
      "application/vnd.jupyter.widget-view+json": {
       "model_id": "4de882877e294d14a579caa25b665927",
       "version_major": 2,
       "version_minor": 0
      },
      "text/plain": [
       "  0%|          | 0/30 [00:00<?, ?it/s]"
      ]
     },
     "metadata": {},
     "output_type": "display_data"
    },
    {
     "name": "stdout",
     "output_type": "stream",
     "text": [
      "Epoch 6/30 - Train Loss: 1.0270 - Validation Loss: 0.8382\n"
     ]
    },
    {
     "data": {
      "application/vnd.jupyter.widget-view+json": {
       "model_id": "1e1658be72b543189cf0de4b74c7bae5",
       "version_major": 2,
       "version_minor": 0
      },
      "text/plain": [
       "  0%|          | 0/30 [00:00<?, ?it/s]"
      ]
     },
     "metadata": {},
     "output_type": "display_data"
    },
    {
     "name": "stdout",
     "output_type": "stream",
     "text": [
      "Epoch 7/30 - Train Loss: 0.9783 - Validation Loss: 0.7796\n"
     ]
    },
    {
     "data": {
      "application/vnd.jupyter.widget-view+json": {
       "model_id": "2a358b0eb55a48eca2187c1bb9c8efbe",
       "version_major": 2,
       "version_minor": 0
      },
      "text/plain": [
       "  0%|          | 0/30 [00:00<?, ?it/s]"
      ]
     },
     "metadata": {},
     "output_type": "display_data"
    },
    {
     "name": "stdout",
     "output_type": "stream",
     "text": [
      "Epoch 8/30 - Train Loss: 0.9421 - Validation Loss: 0.8531\n"
     ]
    },
    {
     "data": {
      "application/vnd.jupyter.widget-view+json": {
       "model_id": "c066ce4749ca4cc5b180d06f3741e4a3",
       "version_major": 2,
       "version_minor": 0
      },
      "text/plain": [
       "  0%|          | 0/30 [00:00<?, ?it/s]"
      ]
     },
     "metadata": {},
     "output_type": "display_data"
    },
    {
     "name": "stdout",
     "output_type": "stream",
     "text": [
      "Epoch 9/30 - Train Loss: 0.9446 - Validation Loss: 0.8057\n"
     ]
    },
    {
     "data": {
      "application/vnd.jupyter.widget-view+json": {
       "model_id": "a505ed9c11764f118573d80671d4a62f",
       "version_major": 2,
       "version_minor": 0
      },
      "text/plain": [
       "  0%|          | 0/30 [00:00<?, ?it/s]"
      ]
     },
     "metadata": {},
     "output_type": "display_data"
    }
   ],
   "source": [
    "train(model=model,\n",
    "      train_loader=train_dataloader,\n",
    "      val_loader=valid_dataloader,\n",
    "      loss_fn=loss_func,\n",
    "      optimizer=optimizer,\n",
    "      device=\"cpu\",\n",
    "      epochs=30)"
   ]
  },
  {
   "cell_type": "code",
   "execution_count": null,
   "id": "0626150d-8234-4571-852a-f014f8f2218f",
   "metadata": {},
   "outputs": [],
   "source": []
  }
 ],
 "metadata": {
  "kernelspec": {
   "display_name": "Python 3 (ipykernel)",
   "language": "python",
   "name": "python3"
  },
  "language_info": {
   "codemirror_mode": {
    "name": "ipython",
    "version": 3
   },
   "file_extension": ".py",
   "mimetype": "text/x-python",
   "name": "python",
   "nbconvert_exporter": "python",
   "pygments_lexer": "ipython3",
   "version": "3.10.16"
  }
 },
 "nbformat": 4,
 "nbformat_minor": 5
}
