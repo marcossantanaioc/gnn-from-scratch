{
 "cells": [
  {
   "cell_type": "code",
   "execution_count": 1,
   "id": "95226085-0134-4137-9c58-aafe08995392",
   "metadata": {},
   "outputs": [
    {
     "name": "stdout",
     "output_type": "stream",
     "text": [
      "GPU is available\n"
     ]
    }
   ],
   "source": [
    "import numpy as np\n",
    "import pandas as pd\n",
    "import torch\n",
    "from rdkit import Chem\n",
    "from sklearn import model_selection as sk_modelselection\n",
    "from torch.nn import functional as F\n",
    "from torch.utils.data import DataLoader, Dataset\n",
    "\n",
    "from graphmodels import constants, datasets\n",
    "\n",
    "device = \"cpu\"\n",
    "if torch.cuda.is_available():\n",
    "    print(\"GPU is available\")\n",
    "    device = \"cuda\"\n",
    "else:\n",
    "    print(\"Running on CPU\")"
   ]
  },
  {
   "cell_type": "markdown",
   "id": "580c5e9a-91ae-4fbc-ab17-32f3d9c1835a",
   "metadata": {},
   "source": [
    "# Load data"
   ]
  },
  {
   "cell_type": "code",
   "execution_count": 2,
   "id": "9f4dcde7-c100-4572-ba4d-b169cc7414ae",
   "metadata": {},
   "outputs": [],
   "source": [
    "sol_df = pd.read_csv(\"../datasets/chemistry/delaney-processed.csv\")"
   ]
  },
  {
   "cell_type": "code",
   "execution_count": 3,
   "id": "c7ead05f-15d8-4392-be3a-14cd7f98ee07",
   "metadata": {},
   "outputs": [
    {
     "name": "stdout",
     "output_type": "stream",
     "text": [
      "Max num atoms = 55\n"
     ]
    }
   ],
   "source": [
    "sol_df[\"mol\"] = sol_df[\"smiles\"].apply(Chem.MolFromSmiles)\n",
    "sol_df[\"num_atoms\"] = sol_df[\"mol\"].apply(lambda x : x.GetNumAtoms())\n",
    "MAX_NUM_ATOMS = sol_df[\"num_atoms\"].max()\n",
    "print(f\"Max num atoms = {MAX_NUM_ATOMS}\")"
   ]
  },
  {
   "cell_type": "code",
   "execution_count": 4,
   "id": "d93344cd-1570-4882-9ddf-246a3b038016",
   "metadata": {},
   "outputs": [],
   "source": [
    "# Split data\n",
    "train_df, test_df = sk_modelselection.train_test_split(sol_df, test_size=0.2, random_state=42, shuffle=True)\n",
    "train_df, valid_df = sk_modelselection.train_test_split(train_df, test_size=0.15, random_state=42, shuffle=True)"
   ]
  },
  {
   "cell_type": "code",
   "execution_count": 5,
   "id": "c80f5b9f-addd-416d-b72f-205beea65ccd",
   "metadata": {},
   "outputs": [
    {
     "data": {
      "text/plain": [
       "((766, 12), (226, 12), (136, 12))"
      ]
     },
     "execution_count": 5,
     "metadata": {},
     "output_type": "execute_result"
    }
   ],
   "source": [
    "train_df.shape, test_df.shape, valid_df.shape"
   ]
  },
  {
   "cell_type": "code",
   "execution_count": 6,
   "id": "b47bb606-b9f0-4239-9324-a4be25986a67",
   "metadata": {},
   "outputs": [
    {
     "data": {
      "text/html": [
       "<div>\n",
       "<style scoped>\n",
       "    .dataframe tbody tr th:only-of-type {\n",
       "        vertical-align: middle;\n",
       "    }\n",
       "\n",
       "    .dataframe tbody tr th {\n",
       "        vertical-align: top;\n",
       "    }\n",
       "\n",
       "    .dataframe thead th {\n",
       "        text-align: right;\n",
       "    }\n",
       "</style>\n",
       "<table border=\"1\" class=\"dataframe\">\n",
       "  <thead>\n",
       "    <tr style=\"text-align: right;\">\n",
       "      <th></th>\n",
       "      <th>Compound ID</th>\n",
       "      <th>ESOL predicted log solubility in mols per litre</th>\n",
       "      <th>Minimum Degree</th>\n",
       "      <th>Molecular Weight</th>\n",
       "      <th>Number of H-Bond Donors</th>\n",
       "      <th>Number of Rings</th>\n",
       "      <th>Number of Rotatable Bonds</th>\n",
       "      <th>Polar Surface Area</th>\n",
       "      <th>measured log solubility in mols per litre</th>\n",
       "      <th>smiles</th>\n",
       "      <th>mol</th>\n",
       "      <th>num_atoms</th>\n",
       "    </tr>\n",
       "  </thead>\n",
       "  <tbody>\n",
       "    <tr>\n",
       "      <th>456</th>\n",
       "      <td>Etomidate</td>\n",
       "      <td>-3.359</td>\n",
       "      <td>1</td>\n",
       "      <td>244.294</td>\n",
       "      <td>0</td>\n",
       "      <td>2</td>\n",
       "      <td>4</td>\n",
       "      <td>44.12</td>\n",
       "      <td>-4.735</td>\n",
       "      <td>CCOC(=O)c1cncn1C(C)c2ccccc2</td>\n",
       "      <td>&lt;rdkit.Chem.rdchem.Mol object at 0x7f1811e6d5b0&gt;</td>\n",
       "      <td>18</td>\n",
       "    </tr>\n",
       "    <tr>\n",
       "      <th>938</th>\n",
       "      <td>isoguanine</td>\n",
       "      <td>-1.740</td>\n",
       "      <td>1</td>\n",
       "      <td>151.129</td>\n",
       "      <td>3</td>\n",
       "      <td>2</td>\n",
       "      <td>0</td>\n",
       "      <td>100.71</td>\n",
       "      <td>-3.401</td>\n",
       "      <td>Nc1nc(O)nc2nc[nH]c12</td>\n",
       "      <td>&lt;rdkit.Chem.rdchem.Mol object at 0x7f1811e7aa40&gt;</td>\n",
       "      <td>11</td>\n",
       "    </tr>\n",
       "    <tr>\n",
       "      <th>925</th>\n",
       "      <td>RTI 6</td>\n",
       "      <td>-3.335</td>\n",
       "      <td>1</td>\n",
       "      <td>313.361</td>\n",
       "      <td>2</td>\n",
       "      <td>3</td>\n",
       "      <td>4</td>\n",
       "      <td>81.59</td>\n",
       "      <td>-3.360</td>\n",
       "      <td>CCN2c1nc(N(C)(CCO))ccc1NC(=O)c3cccnc23</td>\n",
       "      <td>&lt;rdkit.Chem.rdchem.Mol object at 0x7f1811e7a490&gt;</td>\n",
       "      <td>23</td>\n",
       "    </tr>\n",
       "    <tr>\n",
       "      <th>810</th>\n",
       "      <td>Tetrahydropyran</td>\n",
       "      <td>-0.978</td>\n",
       "      <td>2</td>\n",
       "      <td>86.134</td>\n",
       "      <td>0</td>\n",
       "      <td>1</td>\n",
       "      <td>0</td>\n",
       "      <td>9.23</td>\n",
       "      <td>-0.030</td>\n",
       "      <td>C1CCOCC1</td>\n",
       "      <td>&lt;rdkit.Chem.rdchem.Mol object at 0x7f1811e771b0&gt;</td>\n",
       "      <td>6</td>\n",
       "    </tr>\n",
       "    <tr>\n",
       "      <th>495</th>\n",
       "      <td>Minoxidil</td>\n",
       "      <td>-1.809</td>\n",
       "      <td>1</td>\n",
       "      <td>209.253</td>\n",
       "      <td>2</td>\n",
       "      <td>2</td>\n",
       "      <td>1</td>\n",
       "      <td>95.11</td>\n",
       "      <td>-1.989</td>\n",
       "      <td>Nc1cc(nc(N)n1=O)N2CCCCC2</td>\n",
       "      <td>&lt;rdkit.Chem.rdchem.Mol object at 0x7f1811e6e6c0&gt;</td>\n",
       "      <td>15</td>\n",
       "    </tr>\n",
       "    <tr>\n",
       "      <th>...</th>\n",
       "      <td>...</td>\n",
       "      <td>...</td>\n",
       "      <td>...</td>\n",
       "      <td>...</td>\n",
       "      <td>...</td>\n",
       "      <td>...</td>\n",
       "      <td>...</td>\n",
       "      <td>...</td>\n",
       "      <td>...</td>\n",
       "      <td>...</td>\n",
       "      <td>...</td>\n",
       "      <td>...</td>\n",
       "    </tr>\n",
       "    <tr>\n",
       "      <th>837</th>\n",
       "      <td>Metoxuron</td>\n",
       "      <td>-2.683</td>\n",
       "      <td>1</td>\n",
       "      <td>228.679</td>\n",
       "      <td>1</td>\n",
       "      <td>1</td>\n",
       "      <td>2</td>\n",
       "      <td>41.57</td>\n",
       "      <td>-2.564</td>\n",
       "      <td>COc1ccc(NC(=O)N(C)C)cc1Cl</td>\n",
       "      <td>&lt;rdkit.Chem.rdchem.Mol object at 0x7f1811e77d80&gt;</td>\n",
       "      <td>15</td>\n",
       "    </tr>\n",
       "    <tr>\n",
       "      <th>587</th>\n",
       "      <td>benodanil</td>\n",
       "      <td>-4.245</td>\n",
       "      <td>1</td>\n",
       "      <td>323.133</td>\n",
       "      <td>1</td>\n",
       "      <td>2</td>\n",
       "      <td>2</td>\n",
       "      <td>29.10</td>\n",
       "      <td>-4.210</td>\n",
       "      <td>c1c(NC(=O)c2ccccc2(I))cccc1</td>\n",
       "      <td>&lt;rdkit.Chem.rdchem.Mol object at 0x7f1811e70f90&gt;</td>\n",
       "      <td>16</td>\n",
       "    </tr>\n",
       "    <tr>\n",
       "      <th>776</th>\n",
       "      <td>1-Methylcyclohexene</td>\n",
       "      <td>-2.574</td>\n",
       "      <td>1</td>\n",
       "      <td>96.173</td>\n",
       "      <td>0</td>\n",
       "      <td>1</td>\n",
       "      <td>0</td>\n",
       "      <td>0.00</td>\n",
       "      <td>-3.270</td>\n",
       "      <td>CC1=CCCCC1</td>\n",
       "      <td>&lt;rdkit.Chem.rdchem.Mol object at 0x7f1811e762d0&gt;</td>\n",
       "      <td>7</td>\n",
       "    </tr>\n",
       "    <tr>\n",
       "      <th>153</th>\n",
       "      <td>1-Chloropentane</td>\n",
       "      <td>-2.294</td>\n",
       "      <td>1</td>\n",
       "      <td>106.596</td>\n",
       "      <td>0</td>\n",
       "      <td>0</td>\n",
       "      <td>3</td>\n",
       "      <td>0.00</td>\n",
       "      <td>-2.730</td>\n",
       "      <td>CCCCCCl</td>\n",
       "      <td>&lt;rdkit.Chem.rdchem.Mol object at 0x7f1811e65150&gt;</td>\n",
       "      <td>6</td>\n",
       "    </tr>\n",
       "    <tr>\n",
       "      <th>29</th>\n",
       "      <td>Methyl octanoate</td>\n",
       "      <td>-2.608</td>\n",
       "      <td>1</td>\n",
       "      <td>158.241</td>\n",
       "      <td>0</td>\n",
       "      <td>0</td>\n",
       "      <td>6</td>\n",
       "      <td>26.30</td>\n",
       "      <td>-3.170</td>\n",
       "      <td>CCCCCCCC(=O)OC</td>\n",
       "      <td>&lt;rdkit.Chem.rdchem.Mol object at 0x7f1818ba9a80&gt;</td>\n",
       "      <td>11</td>\n",
       "    </tr>\n",
       "  </tbody>\n",
       "</table>\n",
       "<p>766 rows × 12 columns</p>\n",
       "</div>"
      ],
      "text/plain": [
       "              Compound ID  ESOL predicted log solubility in mols per litre   \n",
       "456             Etomidate                                           -3.359  \\\n",
       "938            isoguanine                                           -1.740   \n",
       "925                 RTI 6                                           -3.335   \n",
       "810      Tetrahydropyran                                            -0.978   \n",
       "495             Minoxidil                                           -1.809   \n",
       "..                    ...                                              ...   \n",
       "837             Metoxuron                                           -2.683   \n",
       "587             benodanil                                           -4.245   \n",
       "776  1-Methylcyclohexene                                            -2.574   \n",
       "153       1-Chloropentane                                           -2.294   \n",
       "29       Methyl octanoate                                           -2.608   \n",
       "\n",
       "     Minimum Degree  Molecular Weight  Number of H-Bond Donors   \n",
       "456               1           244.294                        0  \\\n",
       "938               1           151.129                        3   \n",
       "925               1           313.361                        2   \n",
       "810               2            86.134                        0   \n",
       "495               1           209.253                        2   \n",
       "..              ...               ...                      ...   \n",
       "837               1           228.679                        1   \n",
       "587               1           323.133                        1   \n",
       "776               1            96.173                        0   \n",
       "153               1           106.596                        0   \n",
       "29                1           158.241                        0   \n",
       "\n",
       "     Number of Rings  Number of Rotatable Bonds  Polar Surface Area   \n",
       "456                2                          4               44.12  \\\n",
       "938                2                          0              100.71   \n",
       "925                3                          4               81.59   \n",
       "810                1                          0                9.23   \n",
       "495                2                          1               95.11   \n",
       "..               ...                        ...                 ...   \n",
       "837                1                          2               41.57   \n",
       "587                2                          2               29.10   \n",
       "776                1                          0                0.00   \n",
       "153                0                          3                0.00   \n",
       "29                 0                          6               26.30   \n",
       "\n",
       "     measured log solubility in mols per litre   \n",
       "456                                     -4.735  \\\n",
       "938                                     -3.401   \n",
       "925                                     -3.360   \n",
       "810                                     -0.030   \n",
       "495                                     -1.989   \n",
       "..                                         ...   \n",
       "837                                     -2.564   \n",
       "587                                     -4.210   \n",
       "776                                     -3.270   \n",
       "153                                     -2.730   \n",
       "29                                      -3.170   \n",
       "\n",
       "                                      smiles   \n",
       "456              CCOC(=O)c1cncn1C(C)c2ccccc2  \\\n",
       "938                    Nc1nc(O)nc2nc[nH]c12    \n",
       "925  CCN2c1nc(N(C)(CCO))ccc1NC(=O)c3cccnc23    \n",
       "810                                 C1CCOCC1   \n",
       "495                Nc1cc(nc(N)n1=O)N2CCCCC2    \n",
       "..                                       ...   \n",
       "837                COc1ccc(NC(=O)N(C)C)cc1Cl   \n",
       "587              c1c(NC(=O)c2ccccc2(I))cccc1   \n",
       "776                               CC1=CCCCC1   \n",
       "153                                  CCCCCCl   \n",
       "29                            CCCCCCCC(=O)OC   \n",
       "\n",
       "                                                  mol  num_atoms  \n",
       "456  <rdkit.Chem.rdchem.Mol object at 0x7f1811e6d5b0>         18  \n",
       "938  <rdkit.Chem.rdchem.Mol object at 0x7f1811e7aa40>         11  \n",
       "925  <rdkit.Chem.rdchem.Mol object at 0x7f1811e7a490>         23  \n",
       "810  <rdkit.Chem.rdchem.Mol object at 0x7f1811e771b0>          6  \n",
       "495  <rdkit.Chem.rdchem.Mol object at 0x7f1811e6e6c0>         15  \n",
       "..                                                ...        ...  \n",
       "837  <rdkit.Chem.rdchem.Mol object at 0x7f1811e77d80>         15  \n",
       "587  <rdkit.Chem.rdchem.Mol object at 0x7f1811e70f90>         16  \n",
       "776  <rdkit.Chem.rdchem.Mol object at 0x7f1811e762d0>          7  \n",
       "153  <rdkit.Chem.rdchem.Mol object at 0x7f1811e65150>          6  \n",
       "29   <rdkit.Chem.rdchem.Mol object at 0x7f1818ba9a80>         11  \n",
       "\n",
       "[766 rows x 12 columns]"
      ]
     },
     "execution_count": 6,
     "metadata": {},
     "output_type": "execute_result"
    }
   ],
   "source": [
    "train_df"
   ]
  },
  {
   "cell_type": "markdown",
   "id": "7cb5d6eb-8d7f-4d6e-82bc-c54ae265bdd2",
   "metadata": {},
   "source": [
    "# Create datasets"
   ]
  },
  {
   "cell_type": "code",
   "execution_count": 8,
   "id": "b715098c-b96f-49f5-9513-07d62e384555",
   "metadata": {},
   "outputs": [],
   "source": [
    "train_dset = datasets.NeuralFingerprintDataset(smiles=tuple(train_df[\"smiles\"]),\n",
    "                                               targets=tuple(train_df[\"measured log solubility in mols per litre\"]))\n",
    "\n",
    "valid_dset = datasets.NeuralFingerprintDataset(smiles=tuple(valid_df[\"smiles\"]),\n",
    "                                               targets=tuple(valid_df[\"measured log solubility in mols per litre\"]))\n",
    "\n",
    "test_dset = datasets.NeuralFingerprintDataset(smiles=tuple(test_df[\"smiles\"]),\n",
    "                                               targets=tuple(test_df[\"measured log solubility in mols per litre\"]))"
   ]
  },
  {
   "cell_type": "code",
   "execution_count": 9,
   "id": "9715b683-2a64-478e-94a6-e0db2ac13463",
   "metadata": {},
   "outputs": [],
   "source": [
    "def neuralgraph_collate(batch, max_num_atoms: int):\n",
    "    all_atom_features = []\n",
    "    all_bond_features = []\n",
    "    all_adj_matrices = []\n",
    "    all_targets = []\n",
    "\n",
    "    # Get max number of atoms in data\n",
    "    for (atom_feats, bond_feats, adj_matrix), target in batch:\n",
    "        num_to_pad = max_num_atoms - atom_feats.shape[0]\n",
    "        atom_feats_padded = F.pad(atom_feats, pad=(0,0,0,num_to_pad), value=0)\n",
    "        bond_feats_padded = F.pad(bond_feats, pad=(0,0,0,num_to_pad,0,num_to_pad), value=0)\n",
    "        adj_matrix_padded = F.pad(adj_matrix, pad=(0,num_to_pad,0,num_to_pad), value=0)\n",
    "        all_targets.append(target)\n",
    "\n",
    "        all_bond_features.append(bond_feats_padded)\n",
    "        all_adj_matrices.append(adj_matrix_padded)\n",
    "        all_atom_features.append(atom_feats_padded)\n",
    "    return tuple(map(torch.stack, [all_atom_features, all_bond_features, all_adj_matrices, all_targets]))"
   ]
  },
  {
   "cell_type": "code",
   "execution_count": 11,
   "id": "fa7ca48c-4ae5-4478-a101-733c6f5cebff",
   "metadata": {},
   "outputs": [
    {
     "data": {
      "text/plain": [
       "tuple[tuple[torch.Tensor, torch.Tensor, torch.Tensor], torch.Tensor]"
      ]
     },
     "execution_count": 11,
     "metadata": {},
     "output_type": "execute_result"
    }
   ],
   "source": []
  },
  {
   "cell_type": "code",
   "execution_count": 34,
   "id": "e6a1d78f-2a4e-468b-8754-17f507d72ec7",
   "metadata": {},
   "outputs": [],
   "source": [
    "from functools import partial"
   ]
  },
  {
   "cell_type": "code",
   "execution_count": 35,
   "id": "37467d01-a19f-4bf8-9112-99a6e6f049d6",
   "metadata": {},
   "outputs": [],
   "source": [
    "ff = partial(neuralgraph_collate, max_num_atoms=MAX_NUM_ATOMS)"
   ]
  },
  {
   "cell_type": "code",
   "execution_count": 10,
   "id": "74d4400a-6993-40fa-8c43-4d193f54f00c",
   "metadata": {},
   "outputs": [
    {
     "ename": "NameError",
     "evalue": "name 'first_elem' is not defined",
     "output_type": "error",
     "traceback": [
      "\u001b[0;31m---------------------------------------------------------------------------\u001b[0m",
      "\u001b[0;31mNameError\u001b[0m                                 Traceback (most recent call last)",
      "Cell \u001b[0;32mIn[10], line 1\u001b[0m\n\u001b[0;32m----> 1\u001b[0m \u001b[38;5;28mlen\u001b[39m(\u001b[43mfirst_elem\u001b[49m)\n",
      "\u001b[0;31mNameError\u001b[0m: name 'first_elem' is not defined"
     ]
    }
   ],
   "source": [
    "len(first_elem)"
   ]
  },
  {
   "cell_type": "code",
   "execution_count": 37,
   "id": "1a4205c8-f8ef-4278-b1ec-144e93d9a80d",
   "metadata": {},
   "outputs": [],
   "source": [
    "atom_features, bond_features, adj_matrices, targets = ff(test_batch)"
   ]
  },
  {
   "cell_type": "code",
   "execution_count": 39,
   "id": "fd6d9c3b-a68e-4a5f-9ffd-3aeb671942cf",
   "metadata": {},
   "outputs": [
    {
     "data": {
      "text/plain": [
       "torch.Size([64])"
      ]
     },
     "execution_count": 39,
     "metadata": {},
     "output_type": "execute_result"
    }
   ],
   "source": [
    "targets.shape"
   ]
  }
 ],
 "metadata": {
  "kernelspec": {
   "display_name": "Python 3 (ipykernel)",
   "language": "python",
   "name": "python3"
  },
  "language_info": {
   "codemirror_mode": {
    "name": "ipython",
    "version": 3
   },
   "file_extension": ".py",
   "mimetype": "text/x-python",
   "name": "python",
   "nbconvert_exporter": "python",
   "pygments_lexer": "ipython3",
   "version": "3.10.16"
  }
 },
 "nbformat": 4,
 "nbformat_minor": 5
}
